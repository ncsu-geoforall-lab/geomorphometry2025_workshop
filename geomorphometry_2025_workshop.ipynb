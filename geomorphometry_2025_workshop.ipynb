{
  "cells": [
    {
      "cell_type": "markdown",
      "metadata": {
        "id": "view-in-github",
        "colab_type": "text"
      },
      "source": [
        "<a href=\"https://colab.research.google.com/github/ncsu-geoforall-lab/geomorphometry2025_workshop/blob/main/geomorphometry_2025_workshop.ipynb\" target=\"_parent\"><img src=\"https://colab.research.google.com/assets/colab-badge.svg\" alt=\"Open In Colab\"/></a>"
      ]
    },
    {
      "cell_type": "markdown",
      "metadata": {
        "id": "4MntGQoRpl2h"
      },
      "source": [
        "# Workshop: Propagating DEM Uncertainty to Stream Extraction using GRASS"
      ]
    },
    {
      "cell_type": "markdown",
      "metadata": {
        "id": "Ud7N1Lc6p6oW"
      },
      "source": [
        "<a name=\"start\"></a>\n",
        "### Start GRASS and Create a New Project\n",
        "\n",
        "First, we'll install GRASS:"
      ]
    },
    {
      "cell_type": "code",
      "execution_count": 1,
      "metadata": {
        "id": "gyWwiLGIklpc",
        "outputId": "5e7968f9-2394-4edc-d4c8-b28ffce0c182",
        "colab": {
          "base_uri": "https://localhost:8080/"
        }
      },
      "outputs": [
        {
          "output_type": "stream",
          "name": "stdout",
          "text": [
            "No LSB modules are available.\n",
            "Distributor ID:\tUbuntu\n",
            "Description:\tUbuntu 22.04.4 LTS\n",
            "Release:\t22.04\n",
            "Codename:\tjammy\n"
          ]
        }
      ],
      "source": [
        "!lsb_release -a"
      ]
    },
    {
      "cell_type": "code",
      "execution_count": null,
      "metadata": {
        "id": "_4F9QKl7rqPJ",
        "scrolled": true
      },
      "outputs": [],
      "source": [
        "# !pip install rpy2==3.1.0 pandas"
      ]
    },
    {
      "cell_type": "code",
      "execution_count": 2,
      "metadata": {
        "id": "zhv3qjGPpzr3",
        "outputId": "d5cb89db-f139-4744-b1e0-e7c1788f915e",
        "colab": {
          "base_uri": "https://localhost:8080/"
        }
      },
      "outputs": [
        {
          "output_type": "stream",
          "name": "stdout",
          "text": [
            "PPA publishes dbgsym, you may need to include 'main/debug' component\n",
            "Repository: 'deb https://ppa.launchpadcontent.net/ubuntugis/ubuntugis-unstable/ubuntu/ jammy main'\n",
            "Description:\n",
            "Unstable releases of Ubuntu GIS packages. These releases are more bleeding edge and while generally they should work well, they dont receive the same amount of quality assurance as our stable releases do.\n",
            "More info: https://launchpad.net/~ubuntugis/+archive/ubuntu/ubuntugis-unstable\n",
            "Adding repository.\n",
            "Adding deb entry to /etc/apt/sources.list.d/ubuntugis-ubuntu-ubuntugis-unstable-jammy.list\n",
            "Adding disabled deb-src entry to /etc/apt/sources.list.d/ubuntugis-ubuntu-ubuntugis-unstable-jammy.list\n",
            "Traceback (most recent call last):\n",
            "  File \"/usr/bin/add-apt-repository\", line 364, in <module>\n",
            "    sys.exit(0 if addaptrepo.main() else 1)\n",
            "                  ^^^^^^^^^^^^^^^^^\n",
            "  File \"/usr/bin/add-apt-repository\", line 357, in main\n",
            "    shortcut.add()\n",
            "  File \"/usr/lib/python3/dist-packages/softwareproperties/shortcuthandler.py\", line 222, in add\n",
            "    self.add_key()\n",
            "  File \"/usr/lib/python3/dist-packages/softwareproperties/shortcuthandler.py\", line 398, in add_key\n",
            "    if not all((self.trustedparts_file, self.trustedparts_content)):\n",
            "                                        ^^^^^^^^^^^^^^^^^^^^^^^^^\n",
            "  File \"/usr/lib/python3/dist-packages/softwareproperties/ppa.py\", line 141, in trustedparts_content\n",
            "    key = self.lpppa.getSigningKeyData()\n",
            "          ^^^^^^^^^^^^^^^^^^^^^^^^^^^^^^\n",
            "  File \"/usr/lib/python3/dist-packages/lazr/restfulclient/resource.py\", line 592, in __call__\n",
            "    response, content = self.root._browser._request(\n",
            "                        ^^^^^^^^^^^^^^^^^^^^^^^^^^^^\n",
            "  File \"/usr/lib/python3/dist-packages/lazr/restfulclient/_browser.py\", line 429, in _request\n",
            "    raise error\n",
            "lazr.restfulclient.errors.ServerError: HTTP Error 504: Gateway Time-out\n",
            "Response headers:\n",
            "---\n",
            "-content-encoding: gzip\n",
            "cache-control: no-cache\n",
            "content-length: 92\n",
            "content-type: text/html\n",
            "date: Mon, 21 Apr 2025 14:29:09 GMT\n",
            "server: Apache/2.4.41 (Ubuntu)\n",
            "status: 504\n",
            "vary: Accept-Encoding\n",
            "---\n",
            "Response body:\n",
            "---\n",
            "b\"<html><body><h1>504 Gateway Time-out</h1>\\nThe server didn't respond in time.\\n</body></html>\\n\"\n",
            "---\n",
            "\n",
            "Get:1 http://security.ubuntu.com/ubuntu jammy-security InRelease [129 kB]\n",
            "Get:2 https://cloud.r-project.org/bin/linux/ubuntu jammy-cran40/ InRelease [3,632 B]\n",
            "Get:3 https://developer.download.nvidia.com/compute/cuda/repos/ubuntu2204/x86_64  InRelease [1,581 B]\n",
            "Hit:4 http://archive.ubuntu.com/ubuntu jammy InRelease\n",
            "Get:5 http://archive.ubuntu.com/ubuntu jammy-updates InRelease [128 kB]\n",
            "Get:6 https://r2u.stat.illinois.edu/ubuntu jammy InRelease [6,555 B]\n",
            "Hit:7 http://archive.ubuntu.com/ubuntu jammy-backports InRelease\n",
            "Get:8 https://cloud.r-project.org/bin/linux/ubuntu jammy-cran40/ Packages [75.2 kB]\n",
            "Get:9 https://developer.download.nvidia.com/compute/cuda/repos/ubuntu2204/x86_64  Packages [1,604 kB]\n",
            "Hit:10 https://ppa.launchpadcontent.net/deadsnakes/ppa/ubuntu jammy InRelease\n",
            "Get:11 http://security.ubuntu.com/ubuntu jammy-security/universe amd64 Packages [1,243 kB]\n",
            "Hit:12 https://ppa.launchpadcontent.net/graphics-drivers/ppa/ubuntu jammy InRelease\n",
            "Get:13 http://security.ubuntu.com/ubuntu jammy-security/main amd64 Packages [2,788 kB]\n",
            "Get:14 https://r2u.stat.illinois.edu/ubuntu jammy/main all Packages [8,842 kB]\n",
            "Hit:15 https://ppa.launchpadcontent.net/ubuntugis/ppa/ubuntu jammy InRelease\n",
            "Get:16 http://archive.ubuntu.com/ubuntu jammy-updates/main amd64 Packages [3,140 kB]\n",
            "Get:17 https://ppa.launchpadcontent.net/ubuntugis/ubuntugis-unstable/ubuntu jammy InRelease [24.6 kB]\n",
            "Get:18 http://archive.ubuntu.com/ubuntu jammy-updates/universe amd64 Packages [1,542 kB]\n",
            "Get:19 https://r2u.stat.illinois.edu/ubuntu jammy/main amd64 Packages [2,695 kB]\n",
            "Get:20 https://ppa.launchpadcontent.net/ubuntugis/ubuntugis-unstable/ubuntu jammy/main amd64 Packages [72.0 kB]\n",
            "Fetched 22.3 MB in 3s (8,504 kB/s)\n",
            "Reading package lists... Done\n",
            "Building dependency tree... Done\n",
            "Reading state information... Done\n",
            "95 packages can be upgraded. Run 'apt list --upgradable' to see them.\n",
            "\u001b[1;33mW: \u001b[0mSkipping acquire of configured file 'main/source/Sources' as repository 'https://r2u.stat.illinois.edu/ubuntu jammy InRelease' does not seem to provide it (sources.list entry misspelt?)\u001b[0m\n",
            "Reading package lists... Done\n",
            "Building dependency tree... Done\n",
            "Reading state information... Done\n",
            "The following additional packages will be installed:\n",
            "  gdal-bin gdal-data gdal-plugins grass-doc libfftw3-double3 libfreexl-dev\n",
            "  libfreexl1 libgdal34 libglu1-mesa libpdal-plugin-e57 libpdal-plugin-faux\n",
            "  libpdal-plugin-hdf libpdal-plugin-icebridge libpdal-plugin-pgpointcloud\n",
            "  libpdal-plugins libpdal16 libproj-dev libproj25 libspatialite8 proj-bin\n",
            "  proj-data python3-gdal python3-numpy\n",
            "Suggested packages:\n",
            "  libgdal-grass grass-gui e00compr avce00 gnuplot gpsbabel gpstrans netpbm\n",
            "  python3-rpy2 python3-termcolor subversion grass-dev-doc grass libfftw3-bin\n",
            "  libfftw3-dev python-numpy-doc python3-pytest\n",
            "The following NEW packages will be installed:\n",
            "  gdal-bin grass-core grass-dev grass-doc libfftw3-double3 libgdal34\n",
            "  libglu1-mesa libpdal-plugin-e57 libpdal-plugin-faux libpdal-plugin-hdf\n",
            "  libpdal-plugin-icebridge libpdal-plugin-pgpointcloud libpdal-plugins\n",
            "  libpdal16 libspatialite8 proj-bin python3-gdal python3-numpy\n",
            "The following packages will be upgraded:\n",
            "  gdal-data gdal-plugins libfreexl-dev libfreexl1 libproj-dev libproj25\n",
            "  proj-data\n",
            "7 upgraded, 18 newly installed, 0 to remove and 88 not upgraded.\n",
            "Need to get 74.7 MB of archives.\n",
            "After this operation, 152 MB of additional disk space will be used.\n",
            "Get:1 http://archive.ubuntu.com/ubuntu jammy-updates/main amd64 python3-numpy amd64 1:1.21.5-1ubuntu22.04.1 [3,467 kB]\n",
            "Get:2 http://archive.ubuntu.com/ubuntu jammy/main amd64 libfftw3-double3 amd64 3.3.8-2ubuntu8 [770 kB]\n",
            "Get:3 http://archive.ubuntu.com/ubuntu jammy/main amd64 libglu1-mesa amd64 9.0.2-1 [145 kB]\n",
            "Get:4 https://ppa.launchpadcontent.net/ubuntugis/ubuntugis-unstable/ubuntu jammy/main amd64 gdal-data all 3.8.4+dfsg-1~jammy0 [588 kB]\n",
            "Get:5 https://ppa.launchpadcontent.net/ubuntugis/ubuntugis-unstable/ubuntu jammy/main amd64 gdal-plugins amd64 3.8.4+dfsg-1~jammy0 [351 kB]\n",
            "Get:6 https://ppa.launchpadcontent.net/ubuntugis/ubuntugis-unstable/ubuntu jammy/main amd64 libfreexl-dev amd64 2.0.0-1~jammy0 [47.2 kB]\n",
            "Get:7 https://ppa.launchpadcontent.net/ubuntugis/ubuntugis-unstable/ubuntu jammy/main amd64 libfreexl1 amd64 2.0.0-1~jammy0 [44.1 kB]\n",
            "Get:8 https://ppa.launchpadcontent.net/ubuntugis/ubuntugis-unstable/ubuntu jammy/main amd64 libproj-dev amd64 9.3.1-1~jammy0 [121 kB]\n",
            "Get:9 https://ppa.launchpadcontent.net/ubuntugis/ubuntugis-unstable/ubuntu jammy/main amd64 proj-data all 9.3.1-1~jammy0 [7,902 kB]\n",
            "Get:10 https://ppa.launchpadcontent.net/ubuntugis/ubuntugis-unstable/ubuntu jammy/main amd64 libproj25 amd64 9.3.1-1~jammy0 [1,374 kB]\n",
            "Get:11 https://ppa.launchpadcontent.net/ubuntugis/ubuntugis-unstable/ubuntu jammy/main amd64 libspatialite8 amd64 5.1.0-1~jammy0 [2,169 kB]\n",
            "Get:12 https://ppa.launchpadcontent.net/ubuntugis/ubuntugis-unstable/ubuntu jammy/main amd64 libgdal34 amd64 3.8.4+dfsg-1~jammy0 [8,666 kB]\n",
            "Get:13 https://ppa.launchpadcontent.net/ubuntugis/ubuntugis-unstable/ubuntu jammy/main amd64 python3-gdal amd64 3.8.4+dfsg-1~jammy0 [1,095 kB]\n",
            "Get:14 https://ppa.launchpadcontent.net/ubuntugis/ubuntugis-unstable/ubuntu jammy/main amd64 gdal-bin amd64 3.8.4+dfsg-1~jammy0 [605 kB]\n",
            "Get:15 https://ppa.launchpadcontent.net/ubuntugis/ubuntugis-unstable/ubuntu jammy/main amd64 grass-doc all 8.4.1-1~jammy2 [37.6 MB]\n",
            "Get:16 https://ppa.launchpadcontent.net/ubuntugis/ubuntugis-unstable/ubuntu jammy/main amd64 libpdal16 amd64 2.6.2+ds-1~jammy0 [1,930 kB]\n",
            "Get:17 https://ppa.launchpadcontent.net/ubuntugis/ubuntugis-unstable/ubuntu jammy/main amd64 grass-core amd64 8.4.1-1~jammy2 [6,710 kB]\n",
            "Get:18 https://ppa.launchpadcontent.net/ubuntugis/ubuntugis-unstable/ubuntu jammy/main amd64 grass-dev amd64 8.4.1-1~jammy2 [222 kB]\n",
            "Get:19 https://ppa.launchpadcontent.net/ubuntugis/ubuntugis-unstable/ubuntu jammy/main amd64 libpdal-plugin-e57 amd64 2.6.2+ds-1~jammy0 [371 kB]\n",
            "Get:20 https://ppa.launchpadcontent.net/ubuntugis/ubuntugis-unstable/ubuntu jammy/main amd64 libpdal-plugin-faux amd64 2.6.2+ds-1~jammy0 [35.5 kB]\n",
            "Get:21 https://ppa.launchpadcontent.net/ubuntugis/ubuntugis-unstable/ubuntu jammy/main amd64 libpdal-plugin-hdf amd64 2.6.2+ds-1~jammy0 [101 kB]\n",
            "Get:22 https://ppa.launchpadcontent.net/ubuntugis/ubuntugis-unstable/ubuntu jammy/main amd64 libpdal-plugin-icebridge amd64 2.6.2+ds-1~jammy0 [51.3 kB]\n",
            "Get:23 https://ppa.launchpadcontent.net/ubuntugis/ubuntugis-unstable/ubuntu jammy/main amd64 libpdal-plugin-pgpointcloud amd64 2.6.2+ds-1~jammy0 [81.5 kB]\n",
            "Get:24 https://ppa.launchpadcontent.net/ubuntugis/ubuntugis-unstable/ubuntu jammy/main amd64 libpdal-plugins amd64 2.6.2+ds-1~jammy0 [18.6 kB]\n",
            "Get:25 https://ppa.launchpadcontent.net/ubuntugis/ubuntugis-unstable/ubuntu jammy/main amd64 proj-bin amd64 9.3.1-1~jammy0 [205 kB]\n",
            "Fetched 74.7 MB in 4s (18.0 MB/s)\n",
            "Selecting previously unselected package python3-numpy.\n",
            "(Reading database ... 126332 files and directories currently installed.)\n",
            "Preparing to unpack .../00-python3-numpy_1%3a1.21.5-1ubuntu22.04.1_amd64.deb ...\n",
            "Unpacking python3-numpy (1:1.21.5-1ubuntu22.04.1) ...\n",
            "Preparing to unpack .../01-gdal-data_3.8.4+dfsg-1~jammy0_all.deb ...\n",
            "Unpacking gdal-data (3.8.4+dfsg-1~jammy0) over (3.6.4+dfsg-1~jammy0) ...\n",
            "Preparing to unpack .../02-gdal-plugins_3.8.4+dfsg-1~jammy0_amd64.deb ...\n",
            "Unpacking gdal-plugins:amd64 (3.8.4+dfsg-1~jammy0) over (3.6.4+dfsg-1~jammy0) ...\n",
            "Preparing to unpack .../03-libfreexl-dev_2.0.0-1~jammy0_amd64.deb ...\n",
            "Unpacking libfreexl-dev:amd64 (2.0.0-1~jammy0) over (1.0.6-1) ...\n",
            "Preparing to unpack .../04-libfreexl1_2.0.0-1~jammy0_amd64.deb ...\n",
            "Unpacking libfreexl1:amd64 (2.0.0-1~jammy0) over (1.0.6-1) ...\n",
            "Preparing to unpack .../05-libproj-dev_9.3.1-1~jammy0_amd64.deb ...\n",
            "Unpacking libproj-dev:amd64 (9.3.1-1~jammy0) over (9.1.1-1~jammy0) ...\n",
            "Preparing to unpack .../06-proj-data_9.3.1-1~jammy0_all.deb ...\n",
            "Unpacking proj-data (9.3.1-1~jammy0) over (9.1.1-1~jammy0) ...\n",
            "Preparing to unpack .../07-libproj25_9.3.1-1~jammy0_amd64.deb ...\n",
            "Unpacking libproj25:amd64 (9.3.1-1~jammy0) over (9.1.1-1~jammy0) ...\n",
            "Selecting previously unselected package libspatialite8:amd64.\n",
            "Preparing to unpack .../08-libspatialite8_5.1.0-1~jammy0_amd64.deb ...\n",
            "Unpacking libspatialite8:amd64 (5.1.0-1~jammy0) ...\n",
            "Selecting previously unselected package libgdal34:amd64.\n",
            "Preparing to unpack .../09-libgdal34_3.8.4+dfsg-1~jammy0_amd64.deb ...\n",
            "Unpacking libgdal34:amd64 (3.8.4+dfsg-1~jammy0) ...\n",
            "Selecting previously unselected package python3-gdal.\n",
            "Preparing to unpack .../10-python3-gdal_3.8.4+dfsg-1~jammy0_amd64.deb ...\n",
            "Unpacking python3-gdal (3.8.4+dfsg-1~jammy0) ...\n",
            "Selecting previously unselected package gdal-bin.\n",
            "Preparing to unpack .../11-gdal-bin_3.8.4+dfsg-1~jammy0_amd64.deb ...\n",
            "Unpacking gdal-bin (3.8.4+dfsg-1~jammy0) ...\n",
            "Selecting previously unselected package grass-doc.\n",
            "Preparing to unpack .../12-grass-doc_8.4.1-1~jammy2_all.deb ...\n",
            "Unpacking grass-doc (8.4.1-1~jammy2) ...\n",
            "Selecting previously unselected package libfftw3-double3:amd64.\n",
            "Preparing to unpack .../13-libfftw3-double3_3.3.8-2ubuntu8_amd64.deb ...\n",
            "Unpacking libfftw3-double3:amd64 (3.3.8-2ubuntu8) ...\n",
            "Selecting previously unselected package libglu1-mesa:amd64.\n",
            "Preparing to unpack .../14-libglu1-mesa_9.0.2-1_amd64.deb ...\n",
            "Unpacking libglu1-mesa:amd64 (9.0.2-1) ...\n",
            "Selecting previously unselected package libpdal16.\n",
            "Preparing to unpack .../15-libpdal16_2.6.2+ds-1~jammy0_amd64.deb ...\n",
            "Unpacking libpdal16 (2.6.2+ds-1~jammy0) ...\n",
            "Selecting previously unselected package grass-core.\n",
            "Preparing to unpack .../16-grass-core_8.4.1-1~jammy2_amd64.deb ...\n",
            "Unpacking grass-core (8.4.1-1~jammy2) ...\n",
            "Selecting previously unselected package grass-dev.\n",
            "Preparing to unpack .../17-grass-dev_8.4.1-1~jammy2_amd64.deb ...\n",
            "Unpacking grass-dev (8.4.1-1~jammy2) ...\n",
            "Selecting previously unselected package libpdal-plugin-e57.\n",
            "Preparing to unpack .../18-libpdal-plugin-e57_2.6.2+ds-1~jammy0_amd64.deb ...\n",
            "Unpacking libpdal-plugin-e57 (2.6.2+ds-1~jammy0) ...\n",
            "Selecting previously unselected package libpdal-plugin-faux.\n",
            "Preparing to unpack .../19-libpdal-plugin-faux_2.6.2+ds-1~jammy0_amd64.deb ...\n",
            "Unpacking libpdal-plugin-faux (2.6.2+ds-1~jammy0) ...\n",
            "Selecting previously unselected package libpdal-plugin-hdf.\n",
            "Preparing to unpack .../20-libpdal-plugin-hdf_2.6.2+ds-1~jammy0_amd64.deb ...\n",
            "Unpacking libpdal-plugin-hdf (2.6.2+ds-1~jammy0) ...\n",
            "Selecting previously unselected package libpdal-plugin-icebridge.\n",
            "Preparing to unpack .../21-libpdal-plugin-icebridge_2.6.2+ds-1~jammy0_amd64.deb ...\n",
            "Unpacking libpdal-plugin-icebridge (2.6.2+ds-1~jammy0) ...\n",
            "Selecting previously unselected package libpdal-plugin-pgpointcloud.\n",
            "Preparing to unpack .../22-libpdal-plugin-pgpointcloud_2.6.2+ds-1~jammy0_amd64.deb ...\n",
            "Unpacking libpdal-plugin-pgpointcloud (2.6.2+ds-1~jammy0) ...\n",
            "Selecting previously unselected package libpdal-plugins.\n",
            "Preparing to unpack .../23-libpdal-plugins_2.6.2+ds-1~jammy0_amd64.deb ...\n",
            "Unpacking libpdal-plugins (2.6.2+ds-1~jammy0) ...\n",
            "Selecting previously unselected package proj-bin.\n",
            "Preparing to unpack .../24-proj-bin_9.3.1-1~jammy0_amd64.deb ...\n",
            "Unpacking proj-bin (9.3.1-1~jammy0) ...\n",
            "Setting up proj-data (9.3.1-1~jammy0) ...\n",
            "Setting up libproj25:amd64 (9.3.1-1~jammy0) ...\n",
            "Setting up proj-bin (9.3.1-1~jammy0) ...\n",
            "Setting up gdal-data (3.8.4+dfsg-1~jammy0) ...\n",
            "Setting up libproj-dev:amd64 (9.3.1-1~jammy0) ...\n",
            "Setting up grass-doc (8.4.1-1~jammy2) ...\n",
            "Setting up python3-numpy (1:1.21.5-1ubuntu22.04.1) ...\n",
            "Setting up libfftw3-double3:amd64 (3.3.8-2ubuntu8) ...\n",
            "Setting up libfreexl1:amd64 (2.0.0-1~jammy0) ...\n",
            "Setting up libglu1-mesa:amd64 (9.0.2-1) ...\n",
            "Setting up gdal-plugins:amd64 (3.8.4+dfsg-1~jammy0) ...\n",
            "Setting up libfreexl-dev:amd64 (2.0.0-1~jammy0) ...\n",
            "Setting up libspatialite8:amd64 (5.1.0-1~jammy0) ...\n",
            "Setting up libgdal34:amd64 (3.8.4+dfsg-1~jammy0) ...\n",
            "Setting up python3-gdal (3.8.4+dfsg-1~jammy0) ...\n",
            "Setting up libpdal16 (2.6.2+ds-1~jammy0) ...\n",
            "Setting up libpdal-plugin-faux (2.6.2+ds-1~jammy0) ...\n",
            "Setting up grass-core (8.4.1-1~jammy2) ...\n",
            "Setting up gdal-bin (3.8.4+dfsg-1~jammy0) ...\n",
            "Setting up libpdal-plugin-e57 (2.6.2+ds-1~jammy0) ...\n",
            "Setting up libpdal-plugin-pgpointcloud (2.6.2+ds-1~jammy0) ...\n",
            "Setting up libpdal-plugin-icebridge (2.6.2+ds-1~jammy0) ...\n",
            "Setting up libpdal-plugin-hdf (2.6.2+ds-1~jammy0) ...\n",
            "Setting up grass-dev (8.4.1-1~jammy2) ...\n",
            "Setting up libpdal-plugins (2.6.2+ds-1~jammy0) ...\n",
            "Processing triggers for man-db (2.10.2-1) ...\n",
            "Processing triggers for mailcap (3.70+nmu1ubuntu1) ...\n",
            "Processing triggers for hicolor-icon-theme (0.17-2) ...\n",
            "Processing triggers for libc-bin (2.35-0ubuntu3.8) ...\n",
            "/sbin/ldconfig.real: /usr/local/lib/libur_adapter_opencl.so.0 is not a symbolic link\n",
            "\n",
            "/sbin/ldconfig.real: /usr/local/lib/libtcm.so.1 is not a symbolic link\n",
            "\n",
            "/sbin/ldconfig.real: /usr/local/lib/libtbb.so.12 is not a symbolic link\n",
            "\n",
            "/sbin/ldconfig.real: /usr/local/lib/libhwloc.so.15 is not a symbolic link\n",
            "\n",
            "/sbin/ldconfig.real: /usr/local/lib/libtbbbind_2_5.so.3 is not a symbolic link\n",
            "\n",
            "/sbin/ldconfig.real: /usr/local/lib/libtbbmalloc.so.2 is not a symbolic link\n",
            "\n",
            "/sbin/ldconfig.real: /usr/local/lib/libur_loader.so.0 is not a symbolic link\n",
            "\n",
            "/sbin/ldconfig.real: /usr/local/lib/libtbbmalloc_proxy.so.2 is not a symbolic link\n",
            "\n",
            "/sbin/ldconfig.real: /usr/local/lib/libtbbbind.so.3 is not a symbolic link\n",
            "\n",
            "/sbin/ldconfig.real: /usr/local/lib/libtcm_debug.so.1 is not a symbolic link\n",
            "\n",
            "/sbin/ldconfig.real: /usr/local/lib/libumf.so.0 is not a symbolic link\n",
            "\n",
            "/sbin/ldconfig.real: /usr/local/lib/libur_adapter_level_zero.so.0 is not a symbolic link\n",
            "\n",
            "/sbin/ldconfig.real: /usr/local/lib/libtbbbind_2_0.so.3 is not a symbolic link\n",
            "\n"
          ]
        }
      ],
      "source": [
        "!add-apt-repository -y ppa:ubuntugis/ubuntugis-unstable\n",
        "!apt update\n",
        "!apt-get install -y grass-core grass-dev"
      ]
    },
    {
      "cell_type": "code",
      "execution_count": 3,
      "metadata": {
        "id": "b0nWFlZfp_I4",
        "outputId": "19085c2f-2b7d-45e3-fd7d-6d7660673226",
        "colab": {
          "base_uri": "https://localhost:8080/"
        }
      },
      "outputs": [
        {
          "output_type": "stream",
          "name": "stdout",
          "text": [
            "GRASS GIS 8.4.1\n",
            "Geographic Resources Analysis Support System (GRASS) is Copyright,\n",
            "1999-2025 by the GRASS Development Team, and licensed under terms of the\n",
            "GNU General Public License (GPL) version >=2.\n",
            "\n",
            "This GRASS GIS 8.4.1 release is coordinated and produced by\n",
            "the GRASS Development Team with contributions from all over the world.\n",
            "\n",
            "This program is distributed in the hope that it will be useful, but\n",
            "WITHOUT ANY WARRANTY; without even the implied warranty of\n",
            "MERCHANTABILITY or FITNESS FOR A PARTICULAR PURPOSE.  See the GNU\n",
            "General Public License for more details.\n"
          ]
        }
      ],
      "source": [
        "!grass --version"
      ]
    },
    {
      "cell_type": "markdown",
      "metadata": {
        "id": "_LKJ0SH1qEC5"
      },
      "source": [
        "Now, we can import GRASS's Python APIs, `grass.scripts` and `grass.jupyter` into our Python environment."
      ]
    },
    {
      "cell_type": "code",
      "execution_count": 1,
      "metadata": {
        "id": "-rt2BOvlqEU9"
      },
      "outputs": [],
      "source": [
        "import sys\n",
        "import subprocess\n",
        "\n",
        "# Ask GRASS where its Python packages are to be able to run it from the notebook\n",
        "sys.path.append(\n",
        "    subprocess.check_output([\"grass\", \"--config\", \"python_path\"], text=True).strip()\n",
        ")\n",
        "import grass.script as gs\n",
        "import grass.jupyter as gj"
      ]
    },
    {
      "cell_type": "markdown",
      "metadata": {
        "id": "sgEejFFDqhSA"
      },
      "source": [
        "With our packages imported, we can now create a new project called \"geomorphometry_workshop\". Projects are defined by a Coordinate Reference System (CRS). We can set the CRS from a georeferenced file (such as a Geotiff) or an EPSG string. Here, we use [EPSG 3358](https://epsg.io/32632), a projection for NC in meters."
      ]
    },
    {
      "cell_type": "code",
      "execution_count": 5,
      "metadata": {
        "id": "XTy8iOVdqc1K"
      },
      "outputs": [],
      "source": [
        "gs.create_project(\"geomorphometry_workshop\", epsg=\"32632\")"
      ]
    },
    {
      "cell_type": "markdown",
      "metadata": {
        "id": "kRHJ6HIEql_H"
      },
      "source": [
        "We start a GRASS session in our new project."
      ]
    },
    {
      "cell_type": "code",
      "execution_count": 2,
      "metadata": {
        "id": "439xOokMqnF7"
      },
      "outputs": [],
      "source": [
        "gj.init(\"geomorphometry_workshop\");"
      ]
    },
    {
      "cell_type": "markdown",
      "metadata": {
        "id": "cDuZb0hnu-ss"
      },
      "source": [
        "Draw Computational Region"
      ]
    },
    {
      "cell_type": "code",
      "execution_count": 7,
      "metadata": {
        "id": "MqAtT-HGu-ss"
      },
      "outputs": [],
      "source": [
        "# m = gj.InteractiveMap()\n",
        "# m.show()"
      ]
    },
    {
      "cell_type": "markdown",
      "metadata": {
        "id": "6Brb8lDIu-ss"
      },
      "source": [
        "Alternatively, set region with g.region to the approximate bounds of a watershed near Perugia that opens into a flat plain. Also, set the resolution to 10m (same as TINItaly)."
      ]
    },
    {
      "cell_type": "code",
      "execution_count": 41,
      "metadata": {
        "id": "Uin3L-xGu-st",
        "outputId": "f8bc5121-7912-4c6b-e40c-8322922eb95f",
        "colab": {
          "base_uri": "https://localhost:8080/"
        }
      },
      "outputs": [
        {
          "output_type": "stream",
          "name": "stdout",
          "text": [
            "projection: 1 (UTM)\n",
            "zone:       32\n",
            "datum:      wgs84\n",
            "ellipsoid:  wgs84\n",
            "north:      4779200\n",
            "south:      4776000\n",
            "west:       777600\n",
            "east:       783000\n",
            "nsres:      10\n",
            "ewres:      10\n",
            "rows:       320\n",
            "cols:       540\n",
            "cells:      172800\n",
            "\n"
          ]
        }
      ],
      "source": [
        "print(gs.read_command(\"g.region\", n=4779200, s=4776000, e=783000, w=777600, res=10, flags=\"pa\"))"
      ]
    },
    {
      "cell_type": "markdown",
      "metadata": {
        "id": "xgJ0KOzmu-st"
      },
      "source": [
        "Import Data (this isn't working so well for me..). It ends in an error but somehow still imports the data. It creates elevation.1 and elevation.2 instead of one elevation layer."
      ]
    },
    {
      "cell_type": "code",
      "execution_count": 10,
      "metadata": {
        "id": "jQLsF3pKu-st",
        "outputId": "819f9ffe-d7b1-41cd-e1cb-c1777a95a41a",
        "colab": {
          "base_uri": "https://localhost:8080/",
          "height": 860
        }
      },
      "outputs": [
        {
          "output_type": "stream",
          "name": "stderr",
          "text": [
            "Downloading data from WMS server...\n",
            "Importing raster map into GRASS...\n",
            "ERROR: Raster map <elevation> not found\n",
            "Traceback (most recent call last):\n",
            "  File \"/usr/lib/grass84/scripts/r.in.wms\", line 289, in <module>\n",
            "    sys.exit(main())\n",
            "             ^^^^^^\n",
            "  File \"/usr/lib/grass84/scripts/r.in.wms\", line 282, in main\n",
            "    importer.ImportMapIntoGRASS(fetched_map)\n",
            "  File \"/usr/lib/grass84/etc/r.in.wms/wms_base.py\", line 619, in ImportMapIntoGRASS\n",
            "    os.environ[\"GRASS_REGION\"] = grass.region_env(rast=region_map)\n",
            "                                 ^^^^^^^^^^^^^^^^^^^^^^^^^^^^^^^^^\n",
            "  File \"/usr/lib/grass84/etc/python/grass/script/core.py\", line 1322, in region_env\n",
            "    s = read_command(\"g.region\", flags=flgs, env=env, **kwargs)\n",
            "        ^^^^^^^^^^^^^^^^^^^^^^^^^^^^^^^^^^^^^^^^^^^^^^^^^^^^^^^\n",
            "  File \"/usr/lib/grass84/etc/python/grass/script/core.py\", line 554, in read_command\n",
            "    return handle_errors(returncode, stdout, args, kwargs)\n",
            "           ^^^^^^^^^^^^^^^^^^^^^^^^^^^^^^^^^^^^^^^^^^^^^^^\n",
            "  File \"/usr/lib/grass84/etc/python/grass/script/core.py\", line 366, in handle_errors\n",
            "    raise CalledModuleError(module=module, code=code, returncode=returncode)\n",
            "grass.exceptions.CalledModuleError: Module run `g.region -ug rast=elevation` ended with an error.\n",
            "The subprocess ended with a non-zero return code: 1. See errors above the traceback or in the error output.\n",
            "Exception ignored in: <function GRASSImporter.__del__ at 0x7dcfdbeb93a0>\n",
            "Traceback (most recent call last):\n",
            "  File \"/usr/lib/grass84/etc/r.in.wms/wms_base.py\", line 591, in __del__\n",
            "    grass.message(_(\"<%s> created.\") % raster)\n",
            "                  ^^^^^^^^^^^^^^^^^^\n",
            "TypeError: 'NoneType' object is not callable\n"
          ]
        },
        {
          "output_type": "error",
          "ename": "CalledModuleError",
          "evalue": "Module run `r.in.wms url=http://tinitaly.pi.ingv.it/TINItaly_1_1/wms? output=elevation format=tiff layers=TINItaly_1_1:tinitaly_dem srs=32632` ended with an error.\nThe subprocess ended with a non-zero return code: 1. See errors above the traceback or in the error output.",
          "traceback": [
            "\u001b[0;31m---------------------------------------------------------------------------\u001b[0m",
            "\u001b[0;31mCalledModuleError\u001b[0m                         Traceback (most recent call last)",
            "\u001b[0;32m<ipython-input-10-a226522de705>\u001b[0m in \u001b[0;36m<cell line: 0>\u001b[0;34m()\u001b[0m\n\u001b[0;32m----> 1\u001b[0;31m gs.run_command(\"r.in.wms\",\n\u001b[0m\u001b[1;32m      2\u001b[0m                \u001b[0murl\u001b[0m\u001b[0;34m=\u001b[0m\u001b[0;34m\"http://tinitaly.pi.ingv.it/TINItaly_1_1/wms?\"\u001b[0m\u001b[0;34m,\u001b[0m\u001b[0;34m\u001b[0m\u001b[0;34m\u001b[0m\u001b[0m\n\u001b[1;32m      3\u001b[0m                \u001b[0moutput\u001b[0m\u001b[0;34m=\u001b[0m\u001b[0;34m\"elevation\"\u001b[0m\u001b[0;34m,\u001b[0m\u001b[0;34m\u001b[0m\u001b[0;34m\u001b[0m\u001b[0m\n\u001b[1;32m      4\u001b[0m                \u001b[0mformat\u001b[0m\u001b[0;34m=\u001b[0m\u001b[0;34m\"tiff\"\u001b[0m\u001b[0;34m,\u001b[0m\u001b[0;34m\u001b[0m\u001b[0;34m\u001b[0m\u001b[0m\n\u001b[1;32m      5\u001b[0m                \u001b[0mlayers\u001b[0m\u001b[0;34m=\u001b[0m\u001b[0;34m\"TINItaly_1_1:tinitaly_dem\"\u001b[0m\u001b[0;34m,\u001b[0m\u001b[0;34m\u001b[0m\u001b[0;34m\u001b[0m\u001b[0m\n",
            "\u001b[0;32m/usr/lib/grass84/etc/python/grass/script/core.py\u001b[0m in \u001b[0;36mrun_command\u001b[0;34m(*args, **kwargs)\u001b[0m\n\u001b[1;32m    485\u001b[0m     \u001b[0;32melse\u001b[0m\u001b[0;34m:\u001b[0m\u001b[0;34m\u001b[0m\u001b[0;34m\u001b[0m\u001b[0m\n\u001b[1;32m    486\u001b[0m         \u001b[0mreturncode\u001b[0m \u001b[0;34m=\u001b[0m \u001b[0mps\u001b[0m\u001b[0;34m.\u001b[0m\u001b[0mwait\u001b[0m\u001b[0;34m(\u001b[0m\u001b[0;34m)\u001b[0m\u001b[0;34m\u001b[0m\u001b[0;34m\u001b[0m\u001b[0m\n\u001b[0;32m--> 487\u001b[0;31m     \u001b[0;32mreturn\u001b[0m \u001b[0mhandle_errors\u001b[0m\u001b[0;34m(\u001b[0m\u001b[0mreturncode\u001b[0m\u001b[0;34m,\u001b[0m \u001b[0mresult\u001b[0m\u001b[0;34m=\u001b[0m\u001b[0;32mNone\u001b[0m\u001b[0;34m,\u001b[0m \u001b[0margs\u001b[0m\u001b[0;34m=\u001b[0m\u001b[0margs\u001b[0m\u001b[0;34m,\u001b[0m \u001b[0mkwargs\u001b[0m\u001b[0;34m=\u001b[0m\u001b[0mkwargs\u001b[0m\u001b[0;34m)\u001b[0m\u001b[0;34m\u001b[0m\u001b[0;34m\u001b[0m\u001b[0m\n\u001b[0m\u001b[1;32m    488\u001b[0m \u001b[0;34m\u001b[0m\u001b[0m\n\u001b[1;32m    489\u001b[0m \u001b[0;34m\u001b[0m\u001b[0m\n",
            "\u001b[0;32m/usr/lib/grass84/etc/python/grass/script/core.py\u001b[0m in \u001b[0;36mhandle_errors\u001b[0;34m(returncode, result, args, kwargs)\u001b[0m\n\u001b[1;32m    364\u001b[0m     \u001b[0;32melse\u001b[0m\u001b[0;34m:\u001b[0m\u001b[0;34m\u001b[0m\u001b[0;34m\u001b[0m\u001b[0m\n\u001b[1;32m    365\u001b[0m         \u001b[0mmodule\u001b[0m\u001b[0;34m,\u001b[0m \u001b[0mcode\u001b[0m \u001b[0;34m=\u001b[0m \u001b[0mget_module_and_code\u001b[0m\u001b[0;34m(\u001b[0m\u001b[0margs\u001b[0m\u001b[0;34m,\u001b[0m \u001b[0mkwargs\u001b[0m\u001b[0;34m)\u001b[0m\u001b[0;34m\u001b[0m\u001b[0;34m\u001b[0m\u001b[0m\n\u001b[0;32m--> 366\u001b[0;31m         \u001b[0;32mraise\u001b[0m \u001b[0mCalledModuleError\u001b[0m\u001b[0;34m(\u001b[0m\u001b[0mmodule\u001b[0m\u001b[0;34m=\u001b[0m\u001b[0mmodule\u001b[0m\u001b[0;34m,\u001b[0m \u001b[0mcode\u001b[0m\u001b[0;34m=\u001b[0m\u001b[0mcode\u001b[0m\u001b[0;34m,\u001b[0m \u001b[0mreturncode\u001b[0m\u001b[0;34m=\u001b[0m\u001b[0mreturncode\u001b[0m\u001b[0;34m)\u001b[0m\u001b[0;34m\u001b[0m\u001b[0;34m\u001b[0m\u001b[0m\n\u001b[0m\u001b[1;32m    367\u001b[0m \u001b[0;34m\u001b[0m\u001b[0m\n\u001b[1;32m    368\u001b[0m \u001b[0;34m\u001b[0m\u001b[0m\n",
            "\u001b[0;31mCalledModuleError\u001b[0m: Module run `r.in.wms url=http://tinitaly.pi.ingv.it/TINItaly_1_1/wms? output=elevation format=tiff layers=TINItaly_1_1:tinitaly_dem srs=32632` ended with an error.\nThe subprocess ended with a non-zero return code: 1. See errors above the traceback or in the error output."
          ]
        }
      ],
      "source": [
        "gs.run_command(\"r.in.wms\",\n",
        "               url=\"http://tinitaly.pi.ingv.it/TINItaly_1_1/wms?\",\n",
        "               output=\"elevation\",\n",
        "               format=\"tiff\",\n",
        "               layers=\"TINItaly_1_1:tinitaly_dem\",\n",
        "               srs=\"32632\",\n",
        "              )"
      ]
    },
    {
      "cell_type": "markdown",
      "metadata": {
        "id": "c4G_p7-au-st"
      },
      "source": [
        "TODO: display this data and look at a history"
      ]
    },
    {
      "cell_type": "code",
      "execution_count": 21,
      "metadata": {
        "id": "EXU8qNPNu-st",
        "outputId": "20f8f50e-b75b-4e1c-aac4-b94047c059a8",
        "colab": {
          "base_uri": "https://localhost:8080/",
          "height": 373
        }
      },
      "outputs": [
        {
          "output_type": "execute_result",
          "data": {
            "image/png": "[encoded data removed]",
            "text/plain": [
              "<IPython.core.display.Image object>"
            ]
          },
          "metadata": {},
          "execution_count": 21
        }
      ],
      "source": [
        "m = gj.Map(use_region=True)\n",
        "m.d_rast(map=\"elevation.1\")\n",
        "m.show()"
      ]
    },
    {
      "cell_type": "markdown",
      "metadata": {
        "id": "MLHG6TQnu-st"
      },
      "source": [
        "Sample Points"
      ]
    },
    {
      "cell_type": "markdown",
      "metadata": {
        "id": "0iQbRqzuu-su"
      },
      "source": [
        "TODO: Statified sampling by landcover to mimic Lidar? Like lower frequency in heavily vegetated areas and none in water/buildings?"
      ]
    },
    {
      "cell_type": "code",
      "execution_count": 22,
      "metadata": {
        "id": "zNtDGNbYu-su"
      },
      "outputs": [],
      "source": [
        "gs.run_command(\"r.random\", input=\"elevation.1\", vector=\"elevrand\", n=1000, flags=\"s\")"
      ]
    },
    {
      "cell_type": "markdown",
      "metadata": {
        "id": "kxovvoKNu-su"
      },
      "source": [
        "## Move to R for Kriging"
      ]
    },
    {
      "cell_type": "markdown",
      "metadata": {
        "id": "vVJB26wqrn6O"
      },
      "source": [
        "Set up R."
      ]
    },
    {
      "cell_type": "markdown",
      "metadata": {
        "id": "xZOJykvOrwbG"
      },
      "source": [
        "Load rpy2 extension. rpy2 is an interface to R running embedded in a Python process allowing up to continue operating in our current Python session but cells in R."
      ]
    },
    {
      "cell_type": "code",
      "execution_count": 23,
      "metadata": {
        "id": "PqBHxSwJrtbQ"
      },
      "outputs": [],
      "source": [
        "%load_ext rpy2.ipython"
      ]
    },
    {
      "cell_type": "markdown",
      "metadata": {
        "id": "aIEAQFhar2PB"
      },
      "source": [
        "Now, we can use the %%R cell magic. When this cell is interpreted, it's contents will be sent to R. We could also use line magic now with %R which would only send the line to R.\n",
        "\n",
        "We'll need to install several R packages. THIS TOOK 22 minutes!!! Gotta figure something out for that.."
      ]
    },
    {
      "cell_type": "code",
      "source": [
        "%%R\n",
        "install.packages(\"sf\")"
      ],
      "metadata": {
        "id": "npcAGff_DoTW",
        "outputId": "148c2814-4986-4655-c494-d9723bfeaaef",
        "colab": {
          "base_uri": "https://localhost:8080/",
          "height": 191
        }
      },
      "execution_count": 48,
      "outputs": [
        {
          "output_type": "display_data",
          "data": {
            "text/plain": [
              "Installing package into ‘/usr/local/lib/R/site-library’\n",
              "(as ‘lib’ is unspecified)\n",
              "trying URL 'https://cran.rstudio.com/src/contrib/sf_1.0-20.tar.gz'\n",
              "Content type 'application/x-gzip' length 4492197 bytes (4.3 MB)\n",
              "==================================================\n",
              "downloaded 4.3 MB\n",
              "\n",
              "\n",
              "The downloaded source packages are in\n",
              "\t‘/tmp/RtmpOOvx3A/downloaded_packages’\n"
            ]
          },
          "metadata": {}
        }
      ]
    },
    {
      "cell_type": "code",
      "execution_count": 14,
      "metadata": {
        "id": "DjxxZE3gr0Nv",
        "outputId": "5366b781-c584-4b5c-aff8-6b489fd39ac3",
        "colab": {
          "base_uri": "https://localhost:8080/",
          "height": 486
        }
      },
      "outputs": [
        {
          "output_type": "display_data",
          "data": {
            "text/plain": [
              "Installing packages into ‘/usr/local/lib/R/site-library’\n",
              "(as ‘lib’ is unspecified)\n",
              "also installing the dependencies ‘proxy’, ‘e1071’, ‘wk’, ‘classInt’, ‘s2’, ‘units’, ‘xts’, ‘intervals’, ‘abind’, ‘sp’, ‘zoo’, ‘sf’, ‘sftime’, ‘spacetime’, ‘stars’, ‘FNN’\n",
              "\n",
              "trying URL 'https://cran.rstudio.com/src/contrib/proxy_0.4-27.tar.gz'\n",
              "trying URL 'https://cran.rstudio.com/src/contrib/e1071_1.7-16.tar.gz'\n",
              "trying URL 'https://cran.rstudio.com/src/contrib/wk_0.9.4.tar.gz'\n",
              "trying URL 'https://cran.rstudio.com/src/contrib/classInt_0.4-11.tar.gz'\n",
              "trying URL 'https://cran.rstudio.com/src/contrib/s2_1.1.7.tar.gz'\n",
              "trying URL 'https://cran.rstudio.com/src/contrib/units_0.8-7.tar.gz'\n",
              "trying URL 'https://cran.rstudio.com/src/contrib/xts_0.14.1.tar.gz'\n",
              "trying URL 'https://cran.rstudio.com/src/contrib/intervals_0.15.5.tar.gz'\n",
              "trying URL 'https://cran.rstudio.com/src/contrib/abind_1.4-8.tar.gz'\n",
              "trying URL 'https://cran.rstudio.com/src/contrib/sp_2.2-0.tar.gz'\n",
              "trying URL 'https://cran.rstudio.com/src/contrib/zoo_1.8-14.tar.gz'\n",
              "trying URL 'https://cran.rstudio.com/src/contrib/sf_1.0-20.tar.gz'\n",
              "trying URL 'https://cran.rstudio.com/src/contrib/sftime_0.3.0.tar.gz'\n",
              "trying URL 'https://cran.rstudio.com/src/contrib/spacetime_1.3-3.tar.gz'\n",
              "trying URL 'https://cran.rstudio.com/src/contrib/stars_0.6-8.tar.gz'\n",
              "trying URL 'https://cran.rstudio.com/src/contrib/FNN_1.1.4.1.tar.gz'\n",
              "trying URL 'https://cran.rstudio.com/src/contrib/gstat_2.1-3.tar.gz'\n",
              "trying URL 'https://cran.rstudio.com/src/contrib/terra_1.8-42.tar.gz'\n",
              "trying URL 'https://cran.rstudio.com/src/contrib/devtools_2.4.5.tar.gz'\n",
              "trying URL 'https://cran.rstudio.com/src/contrib/IRkernel_1.3.2.tar.gz'\n",
              "\n",
              "The downloaded source packages are in\n",
              "\t‘/tmp/RtmpOOvx3A/downloaded_packages’\n"
            ]
          },
          "metadata": {}
        }
      ],
      "source": [
        "%%R\n",
        "install.packages(c(\"gstat\", \"terra\", \"devtools\", \"IRkernel\"))"
      ]
    },
    {
      "cell_type": "markdown",
      "source": [
        "We also need the rgrass package which is distributed on GitHub."
      ],
      "metadata": {
        "id": "dO661VFOzq_P"
      }
    },
    {
      "cell_type": "code",
      "source": [
        "%%R\n",
        "devtools::install_git(\"https://github.com/rsbivand/rgrass\")"
      ],
      "metadata": {
        "id": "tmxjnn4hxSkQ",
        "outputId": "9212f028-1de8-4b40-d8a3-7f4f61cd26f5",
        "colab": {
          "base_uri": "https://localhost:8080/",
          "height": 225
        }
      },
      "execution_count": 15,
      "outputs": [
        {
          "output_type": "stream",
          "name": "stdout",
          "text": [
            "── R CMD build ─────────────────────────────────────────────────────────────────\n",
            "* checking for file ‘/tmp/RtmpOOvx3A/filee745ec8102/DESCRIPTION’ ... OK\n",
            "* preparing ‘rgrass’:\n",
            "* checking DESCRIPTION meta-information ... OK\n",
            "* checking for LF line-endings in source and make files and shell scripts\n",
            "* checking for empty or unneeded directories\n",
            "* building ‘rgrass_0.5-1.tar.gz’\n",
            "\n"
          ]
        },
        {
          "output_type": "display_data",
          "data": {
            "text/plain": [
              "Downloading git repo https://github.com/rsbivand/rgrass\n",
              "'/usr/bin/git' clone --depth 1 --no-hardlinks https://github.com/rsbivand/rgrass /tmp/RtmpOOvx3A/filee745ec8102\n",
              "Installing package into ‘/usr/local/lib/R/site-library’\n",
              "(as ‘lib’ is unspecified)\n"
            ]
          },
          "metadata": {}
        }
      ]
    },
    {
      "cell_type": "markdown",
      "source": [
        "Load libraries."
      ],
      "metadata": {
        "id": "mr6_Azbgz1qj"
      }
    },
    {
      "cell_type": "code",
      "execution_count": 24,
      "metadata": {
        "id": "42WO1kDLu-sv",
        "outputId": "222de66c-7054-41ea-c4f2-846ca3d16909",
        "colab": {
          "base_uri": "https://localhost:8080/",
          "height": 86
        }
      },
      "outputs": [
        {
          "output_type": "display_data",
          "data": {
            "text/plain": [
              "GRASS GIS interface loaded with GRASS version: GRASS 8.4.1 (2025)\n",
              "and location: geomorphometry_workshop\n",
              "terra 1.8.42\n",
              "Linking to GEOS 3.11.1, GDAL 3.6.4, PROJ 9.3.1; sf_use_s2() is TRUE\n"
            ]
          },
          "metadata": {}
        }
      ],
      "source": [
        "%%R\n",
        "library(gstat)\n",
        "library(rgrass)\n",
        "library(terra)\n",
        "library(sf)"
      ]
    },
    {
      "cell_type": "markdown",
      "source": [
        "Use readVECT from rgrass to turn the random elevation points into a [SpatVector](https://rdrr.io/cran/terra/man/SpatVector-class.html), the terra vector class."
      ],
      "metadata": {
        "id": "xIHt2cUUz5uV"
      }
    },
    {
      "cell_type": "code",
      "execution_count": 25,
      "metadata": {
        "id": "T3h2tF_Cu-sv",
        "outputId": "108ad848-4bed-4f49-fc85-0e5d0a170fd1",
        "colab": {
          "base_uri": "https://localhost:8080/"
        }
      },
      "outputs": [
        {
          "output_type": "stream",
          "name": "stdout",
          "text": [
            "Exporting 1000 features...\n",
            "   5%\b\b\b\b\b  11%\b\b\b\b\b  17%\b\b\b\b\b  23%\b\b\b\b\b  29%\b\b\b\b\b  35%\b\b\b\b\b  41%\b\b\b\b\b  47%\b\b\b\b\b  53%\b\b\b\b\b  59%\b\b\b\b\b  65%\b\b\b\b\b  71%\b\b\b\b\b  77%\b\b\b\b\b  83%\b\b\b\b\b  89%\b\b\b\b\b  95%\b\b\b\b\b 100%\b\b\b\b\b\n",
            "v.out.ogr complete. 1000 features (Point type) written to <elevrand> (GPKG\n",
            "format).\n"
          ]
        }
      ],
      "source": [
        "%%R\n",
        "elevrand <- read_VECT(\"elevrand\")"
      ]
    },
    {
      "cell_type": "code",
      "source": [
        "%%R\n",
        "# Convert to sf-style data frame for gstat\n",
        "elev_df <- as.data.frame(elevrand, geom = \"XY\")"
      ],
      "metadata": {
        "id": "Fy9qjzrp_V-b"
      },
      "execution_count": 28,
      "outputs": []
    },
    {
      "cell_type": "code",
      "source": [
        "%%R\n",
        "# Create gstat object\n",
        "g <- gstat(formula = value ~ 1, data = elev_df, locations = ~x + y)"
      ],
      "metadata": {
        "id": "DlAoLuBM9An1"
      },
      "execution_count": 29,
      "outputs": []
    },
    {
      "cell_type": "code",
      "source": [
        "%%R\n",
        "# Compute experimental variogram\n",
        "vg <- variogram(g, cutoff = 3000)\n",
        "\n",
        "# Fit a model (Exponential by default; can also try Matérn via 'fit.variogram')\n",
        "vfit <- fit.variogram(vg, model = vgm(model = \"Mat\", kappa = 1.2), fit.kappa = FALSE)\n",
        "\n",
        "# Plot variogram and fitted model\n",
        "plot(vg, model = vfit, main = \"Fitted Variogram\")"
      ],
      "metadata": {
        "id": "yVsp5ava_f8z",
        "outputId": "0cf4f8a2-0f8f-4f1d-ec1f-22dcf1337df6",
        "colab": {
          "base_uri": "https://localhost:8080/",
          "height": 497
        }
      },
      "execution_count": 31,
      "outputs": [
        {
          "output_type": "display_data",
          "data": {
            "image/png": "[encoded data removed]",
            "text/plain": [
              "<IPython.core.display.Image object>"
            ]
          },
          "metadata": {}
        }
      ]
    },
    {
      "cell_type": "code",
      "source": [
        "%%R\n",
        "\n",
        "ext <- ext(elevrand)\n",
        "res <- 10  # 10-meter spacing\n",
        "\n",
        "xy <- expand.grid(\n",
        "  x = seq(ext[1], ext[2], by = res),\n",
        "  y = seq(ext[3], ext[4], by = res)\n",
        ")\n",
        "\n",
        "# demgrid_sf <- st_as_sf(demgrid, crs = crs(elevrand),  as_points = TRUE)\n",
        "g <- gstat(formula = value ~ 1, model = vfit, data = elev_df, locations=~x+y)"
      ],
      "metadata": {
        "id": "LboOG2qwHHNU"
      },
      "execution_count": 32,
      "outputs": []
    },
    {
      "cell_type": "code",
      "source": [
        "%%R\n",
        "\n",
        "z <- predict(g, xy)"
      ],
      "metadata": {
        "id": "s176RRC4CLma",
        "outputId": "d2de5a6c-bcb7-4d0b-8318-0046b763fdb0",
        "colab": {
          "base_uri": "https://localhost:8080/"
        }
      },
      "execution_count": 33,
      "outputs": [
        {
          "output_type": "stream",
          "name": "stdout",
          "text": [
            "[using ordinary kriging]\n"
          ]
        }
      ]
    },
    {
      "cell_type": "code",
      "source": [
        "%%R\n",
        "\n",
        "z_sf <- st_as_sf(z, coords = c(\"x\", \"y\"), crs = crs(elevrand))\n",
        "\n",
        "plot(z_sf[\"var1.pred\"])"
      ],
      "metadata": {
        "id": "PzCZ7k6WY2mW",
        "outputId": "81287e7b-b4cc-47be-8af0-46b0ac2769ed",
        "colab": {
          "base_uri": "https://localhost:8080/",
          "height": 497
        }
      },
      "execution_count": 40,
      "outputs": [
        {
          "output_type": "display_data",
          "data": {
            "image/png": "[encoded data removed]",
            "text/plain": [
              "<IPython.core.display.Image object>"
            ]
          },
          "metadata": {}
        }
      ]
    },
    {
      "cell_type": "markdown",
      "metadata": {
        "id": "Fpiid2Fju-sv"
      },
      "source": [
        "Original Workflow:\n",
        "\n",
        "https://github.com/ncsu-geoforall-lab/GIS714-assignments/blob/main/Surface_Water_Simulations/WaterSim-Geostatistical-Simulations.ipynb"
      ]
    },
    {
      "cell_type": "markdown",
      "metadata": {
        "id": "N2iA4GuHu-sv"
      },
      "source": [
        "TUTORIAL Option:\n",
        "\n",
        "https://geobgu.xyz/r/spatial-interpolation-of-point-data.html"
      ]
    }
  ],
  "metadata": {
    "colab": {
      "provenance": [],
      "include_colab_link": true
    },
    "kernelspec": {
      "display_name": "Python 3 (ipykernel)",
      "language": "python",
      "name": "python3"
    },
    "language_info": {
      "codemirror_mode": {
        "name": "ipython",
        "version": 3
      },
      "file_extension": ".py",
      "mimetype": "text/x-python",
      "name": "python",
      "nbconvert_exporter": "python",
      "pygments_lexer": "ipython3",
      "version": "3.12.8"
    }
  },
  "nbformat": 4,
  "nbformat_minor": 0
}