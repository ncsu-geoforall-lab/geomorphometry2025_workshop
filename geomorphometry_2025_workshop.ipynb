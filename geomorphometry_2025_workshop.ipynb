{
  "nbformat": 4,
  "nbformat_minor": 0,
  "metadata": {
    "colab": {
      "provenance": [],
      "authorship_tag": "ABX9TyOeGqUgoyZp2HFl3ouMuC86",
      "include_colab_link": true
    },
    "kernelspec": {
      "name": "python3",
      "display_name": "Python 3"
    },
    "language_info": {
      "name": "python"
    }
  },
  "cells": [
    {
      "cell_type": "markdown",
      "metadata": {
        "id": "view-in-github",
        "colab_type": "text"
      },
      "source": [
        "<a href=\"https://colab.research.google.com/github/ncsu-geoforall-lab/geomorphometry2025_workshop/blob/main/geomorphometry_2025_workshop.ipynb\" target=\"_parent\"><img src=\"https://colab.research.google.com/assets/colab-badge.svg\" alt=\"Open In Colab\"/></a>"
      ]
    },
    {
      "cell_type": "markdown",
      "source": [
        "# Workshop: Propagating DEM Uncertainty to Stream Extraction using GRASS"
      ],
      "metadata": {
        "id": "4MntGQoRpl2h"
      }
    },
    {
      "cell_type": "markdown",
      "source": [
        "<a name=\"start\"></a>\n",
        "### Start GRASS and Create a New Project\n",
        "\n",
        "First, we'll install GRASS:"
      ],
      "metadata": {
        "id": "Ud7N1Lc6p6oW"
      }
    },
    {
      "cell_type": "code",
      "execution_count": null,
      "metadata": {
        "id": "gyWwiLGIklpc"
      },
      "outputs": [],
      "source": [
        "!lsb_release -a"
      ]
    },
    {
      "cell_type": "code",
      "source": [
        "!add-apt-repository -y ppa:ubuntugis/ubuntugis-unstable\n",
        "!apt update\n",
        "!apt-get install -y grass-core grass-dev"
      ],
      "metadata": {
        "id": "zhv3qjGPpzr3"
      },
      "execution_count": null,
      "outputs": []
    },
    {
      "cell_type": "code",
      "source": [
        "!grass --version"
      ],
      "metadata": {
        "id": "b0nWFlZfp_I4"
      },
      "execution_count": null,
      "outputs": []
    },
    {
      "cell_type": "markdown",
      "source": [
        "Now, we can import GRASS's Python APIs, `grass.scripts` and `grass.jupyter` into our Python environment."
      ],
      "metadata": {
        "id": "_LKJ0SH1qEC5"
      }
    },
    {
      "cell_type": "code",
      "source": [
        "import sys\n",
        "import subprocess\n",
        "\n",
        "# Ask GRASS where its Python packages are to be able to run it from the notebook\n",
        "sys.path.append(\n",
        "    subprocess.check_output([\"grass\", \"--config\", \"python_path\"], text=True).strip()\n",
        ")\n",
        "import grass.script as gs\n",
        "import grass.jupyter as gj"
      ],
      "metadata": {
        "id": "-rt2BOvlqEU9"
      },
      "execution_count": null,
      "outputs": []
    },
    {
      "cell_type": "markdown",
      "source": [
        "With our packages imported, we can now create a new project called \"geomorphometry_workshop\". Projects are defined by a Coordinate Reference System (CRS). We can set the CRS from a georeferenced file (such as a Geotiff) or an EPSG string. Here, we use [EPSG 3358](https://epsg.io/3358), a projection for NC in meters."
      ],
      "metadata": {
        "id": "sgEejFFDqhSA"
      }
    },
    {
      "cell_type": "code",
      "source": [
        "gs.create_project(\"geomorphometry_workshop\", epsg=\"3358\")"
      ],
      "metadata": {
        "id": "XTy8iOVdqc1K"
      },
      "execution_count": null,
      "outputs": []
    },
    {
      "cell_type": "markdown",
      "source": [
        "We start a GRASS session in our new project."
      ],
      "metadata": {
        "id": "kRHJ6HIEql_H"
      }
    },
    {
      "cell_type": "code",
      "source": [
        "gj.init(\"geomorphometry_workshop\");"
      ],
      "metadata": {
        "id": "439xOokMqnF7"
      },
      "execution_count": null,
      "outputs": []
    },
    {
      "cell_type": "markdown",
      "source": [
        "Set up R."
      ],
      "metadata": {
        "id": "vVJB26wqrn6O"
      }
    },
    {
      "cell_type": "code",
      "source": [
        "!pip install rpy2==3.1.0"
      ],
      "metadata": {
        "id": "_4F9QKl7rqPJ"
      },
      "execution_count": null,
      "outputs": []
    },
    {
      "cell_type": "markdown",
      "source": [
        "After installing the interactive R kernel, we load it."
      ],
      "metadata": {
        "id": "xZOJykvOrwbG"
      }
    },
    {
      "cell_type": "code",
      "source": [
        "%load_ext rpy2.ipython"
      ],
      "metadata": {
        "id": "PqBHxSwJrtbQ"
      },
      "execution_count": null,
      "outputs": []
    },
    {
      "cell_type": "markdown",
      "source": [
        "Now, we can use the %%R cell magic. When this cell is interpreted, it's contents will be sent to R. We could also use line magic now with %R which would only send the line to R.\n",
        "\n",
        "We'll need to install several R packages and download rgrass from github."
      ],
      "metadata": {
        "id": "aIEAQFhar2PB"
      }
    },
    {
      "cell_type": "code",
      "source": [
        "%%R\n",
        "install.packages(c(\"rgdal\", \"gstat\", \"geoR\", \"devtools\", \"IRkernel\"))\n",
        "devtools::install_git(\"https://github.com/rsbivand/rgrass\")"
      ],
      "metadata": {
        "id": "DjxxZE3gr0Nv"
      },
      "execution_count": null,
      "outputs": []
    }
  ]
}