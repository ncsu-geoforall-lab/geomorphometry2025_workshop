{
  "cells": [
    {
      "cell_type": "markdown",
      "metadata": {
        "id": "view-in-github",
        "colab_type": "text"
      },
      "source": [
        "<a href=\"https://colab.research.google.com/github/ncsu-geoforall-lab/geomorphometry2025_workshop/blob/main/geomorphometry_2025_workshop.ipynb\" target=\"_parent\"><img src=\"https://colab.research.google.com/assets/colab-badge.svg\" alt=\"Open In Colab\"/></a>"
      ]
    },
    {
      "cell_type": "markdown",
      "metadata": {
        "id": "4MntGQoRpl2h"
      },
      "source": [
        "# Workshop: Propagating DEM Uncertainty to Stream Extraction using GRASS\n",
        "\n",
        "### Abstract\n",
        "\n",
        "GRASS is an open-source geospatial processing engine. With over 400 tools available in the core distribution and an additional 400+ tools available as extensions, GRASS has broad applicability in the Earth Sciences and geomorphometry in particular. In this workshop, we will give an introduction to GRASS and demonstrate some of the geomorphometry tools available in GRASS. Specifically, we will show how to compute stream extraction uncertainty using a workflow adapted from Hengl (2007) [1] and Hengl (2010) [2]. In this tutorial, we will:\n",
        "* [Create a new GRASS project](#start)\n",
        "* [Download and import elevation data](#data) of near Perugia using GRASS data fetching tools\n",
        "* [Use R’s kriging functions (gstat)](#R) to create 100 iterations of a DEM\n",
        "* Use GRASS tools to extract streams from each of the 100 DEMs to compute stream uncertainty\n",
        "\n",
        "Check out the publication associated with the notebook on Zenodo:\n",
        "\n",
        "[![DOI](https://zenodo.org/badge/DOI/10.5281/zenodo.15283714.svg)](https://doi.org/10.5281/zenodo.15283714)\n"
      ]
    },
    {
      "cell_type": "markdown",
      "metadata": {
        "id": "Ud7N1Lc6p6oW"
      },
      "source": [
        "---\n",
        "\n",
        "\n",
        "### Install GRASS and Get Workshop Materials"
      ]
    },
    {
      "cell_type": "markdown",
      "source": [
        "The following cell installs GRASS from the ubuntugis-unstable ppa. It will take a minute to run."
      ],
      "metadata": {
        "id": "wYMTEU2NqmeP"
      }
    },
    {
      "cell_type": "code",
      "execution_count": null,
      "metadata": {
        "id": "zhv3qjGPpzr3"
      },
      "outputs": [],
      "source": [
        "!add-apt-repository -y ppa:ubuntugis/ubuntugis-unstable\n",
        "!apt update\n",
        "!apt-get install -y grass-core grass-dev"
      ]
    },
    {
      "cell_type": "markdown",
      "source": [
        "We can check GRASS installed and see what version we have using:"
      ],
      "metadata": {
        "id": "B0tAqgcoqi68"
      }
    },
    {
      "cell_type": "code",
      "execution_count": null,
      "metadata": {
        "id": "b0nWFlZfp_I4"
      },
      "outputs": [],
      "source": [
        "!grass --version"
      ]
    },
    {
      "cell_type": "code",
      "source": [
        "!git clone https://github.com/ncsu-geoforall-lab/geomorphometry2025_workshop.git"
      ],
      "metadata": {
        "id": "SQTRDYHTR_nr"
      },
      "execution_count": null,
      "outputs": []
    },
    {
      "cell_type": "markdown",
      "metadata": {
        "id": "_LKJ0SH1qEC5"
      },
      "source": [
        "<a name=\"start\"></a>\n",
        "\n",
        "---\n",
        "\n",
        "## Create a New GRASS Project and Start GRASS\n",
        "\n",
        "First, let's import all the Python libraries we'll need."
      ]
    },
    {
      "cell_type": "code",
      "source": [
        "import sys\n",
        "import subprocess\n",
        "import pandas as pd\n",
        "import seaborn as sns\n",
        "import matplotlib.pyplot as plt\n",
        "from IPython.display import display, Image\n",
        "from ipyleaflet import ImageService, WMSLayer, Marker\n",
        "from ipyleaflet.projections import projections\n",
        "import xyzservices"
      ],
      "metadata": {
        "id": "FTe6eY2wr9M_"
      },
      "execution_count": null,
      "outputs": []
    },
    {
      "cell_type": "markdown",
      "source": [
        "**Importing the GRASS Python API**\n",
        "\n",
        "We are going to import the GRASS Python API (`grass.script`) and the GRASS Jupyter package (`grass.jupyter`). But first, we'll need to ask `grass` to check it's `--config` to see where the python packages are then add them to the system path before we can import them.\n",
        "\n",
        "We use `subprocess.check_output` to find the path and `sys.path.append` to add it to the path."
      ],
      "metadata": {
        "id": "4wQNGgT0sfDB"
      }
    },
    {
      "cell_type": "code",
      "source": [
        "sys.path.append(\n",
        "    subprocess.check_output([\"grass\", \"--config\", \"python_path\"], text=True).strip()\n",
        ")"
      ],
      "metadata": {
        "id": "aBLh05Q9tX5A"
      },
      "execution_count": null,
      "outputs": []
    },
    {
      "cell_type": "markdown",
      "source": [
        "Then, we can import the Python API and GRASS Jupyter packages."
      ],
      "metadata": {
        "id": "DQ8t77aotas7"
      }
    },
    {
      "cell_type": "code",
      "execution_count": null,
      "metadata": {
        "id": "-rt2BOvlqEU9"
      },
      "outputs": [],
      "source": [
        "import grass.script as gs\n",
        "import grass.jupyter as gj"
      ]
    },
    {
      "cell_type": "markdown",
      "metadata": {
        "id": "sgEejFFDqhSA"
      },
      "source": [
        "**Starting a New Project**\n",
        "\n",
        "Now, we create a new project called \"geomorphometry_workshop\". Projects are defined by a Coordinate Reference System (CRS). We can set the CRS from a georeferenced file (such as a Geotiff) or an EPSG string. Here, we use [EPSG 32632](https://epsg.io/32632), CRS WGS 84/UTM zone 32N (EPSG:32632)."
      ]
    },
    {
      "cell_type": "code",
      "execution_count": null,
      "metadata": {
        "id": "XTy8iOVdqc1K"
      },
      "outputs": [],
      "source": [
        "gs.create_project(\"geomorphometry_workshop\", epsg=\"32632\")"
      ]
    },
    {
      "cell_type": "markdown",
      "metadata": {
        "id": "kRHJ6HIEql_H"
      },
      "source": [
        "You should now see a new folder created called \"geomorphometry_workshop\". This will contain all of the data for our project and is organized by GRASS's native data format. This makes GRASS _fast_, _scalable_, and _avoids projection mismatches_.\n",
        "\n",
        "We start a GRASS session in our new project."
      ]
    },
    {
      "cell_type": "code",
      "execution_count": null,
      "metadata": {
        "id": "439xOokMqnF7"
      },
      "outputs": [],
      "source": [
        "gj.init(\"geomorphometry_workshop\");"
      ]
    },
    {
      "cell_type": "markdown",
      "source": [
        "**Introducting the \"Computational Region\"**\n",
        "\n",
        "Finally, let's set our computational region using [`g.region`](https://grass.osgeo.org/grass85/manuals/g.region.html). The computational region will determine what data is imported from the cloud so we need to set it before continuing.\n",
        "\n",
        "Upon creating a project, the computational region is empty."
      ],
      "metadata": {
        "id": "6qzO8Irl6dkb"
      }
    },
    {
      "cell_type": "code",
      "source": [
        "print(gs.read_command(\"g.region\", flags=\"p\"))"
      ],
      "metadata": {
        "id": "FQji15NOt6bd"
      },
      "execution_count": null,
      "outputs": []
    },
    {
      "cell_type": "markdown",
      "source": [
        "There are lots of ways to set the computional region, from a georeferenced file or existing data layer to relative operations grow which adds cells around the previous region. Here, we set our computational region with coordinates and set the resolution to 10 meters."
      ],
      "metadata": {
        "id": "4rRRRhMU7Gkp"
      }
    },
    {
      "cell_type": "code",
      "execution_count": null,
      "metadata": {
        "id": "H-rct63En1fm"
      },
      "outputs": [],
      "source": [
        "aoi_bbox = {\n",
        "\t\"north\": 4779210,\n",
        "\t\"south\": 4778120,\n",
        "\t\"west\": 779180,\n",
        "\t\"east\": 780630\n",
        "}\n",
        "\n",
        "print(\n",
        "    gs.read_command(\n",
        "        \"g.region\", n=aoi_bbox[\"north\"], s=aoi_bbox[\"south\"], e=aoi_bbox[\"east\"], w=aoi_bbox[\"west\"], res=10, flags=\"p\"\n",
        "    )\n",
        ")"
      ]
    },
    {
      "cell_type": "markdown",
      "source": [
        "<a name=\"data\"></a>\n",
        "\n",
        "---\n",
        "\n",
        "## Download and Import Data\n",
        "\n",
        "Right now, our project has no data in it:"
      ],
      "metadata": {
        "id": "l3fi898rt9u_"
      }
    },
    {
      "cell_type": "code",
      "source": [
        "gs.read_command(\"g.list\", type=\"all\")"
      ],
      "metadata": {
        "id": "2-eBoje5ekLP"
      },
      "execution_count": null,
      "outputs": []
    },
    {
      "cell_type": "markdown",
      "source": [
        "We're going to use a DEM from the TINItaly dataset. Let's get an overview of the dataset using a quick WMS visualization."
      ],
      "metadata": {
        "id": "NYR2yRlGecm-"
      }
    },
    {
      "cell_type": "code",
      "execution_count": null,
      "metadata": {
        "id": "An9Ar8iVn1fn"
      },
      "outputs": [],
      "source": [
        "tinitaly_wms = WMSLayer(\n",
        "    name=\"TINItaly_1.1 HSV (WMS)\",\n",
        "    url=\"http://tinitaly.pi.ingv.it/TINItaly_1_1/wms?service=WMS\",\n",
        "    layers=\"TINItaly_1.1:tinitaly_hsv\",\n",
        "    format=\"image/png\",\n",
        "    transparent=True,\n",
        "    attribution=\"HSV Elevation Data © 2023 TINItaly 1.1\",\n",
        ")\n",
        "\n",
        "tinitaly_slope = WMSLayer(\n",
        "    name=\"TINItaly_1.1 Slope (WMS)\",\n",
        "    url=\"http://tinitaly.pi.ingv.it/TINItaly_1_1/wms?service=WMS\",\n",
        "    layers=\"TINItaly_1.1:tinitaly_slope\",\n",
        "    format=\"image/png\",\n",
        "    transparent=True,\n",
        "    attribution=\"Slope Data © 2023 TINItaly 1.1\",\n",
        ")\n",
        "\n",
        "nasa_wms = WMSLayer(\n",
        "    name=\"NASA SRTM RAMP2 TOPO (WMS)\",\n",
        "    url=\"https://neo.gsfc.nasa.gov/wms/wms?service=WMS\",\n",
        "    layers=\"SRTM_RAMP2_TOPO\",\n",
        "    format=\"image/png\",\n",
        "    transparent=True,\n",
        "    styles=\"rgb\",\n",
        "    attribution=\"SRTM RAMP2 TOPO © 2025 NASA \",\n",
        ")\n",
        "\n",
        "perugia = Marker(\n",
        "    name=\"Perugia (Marker)\",\n",
        "    location=(43.11203, 12.38914),\n",
        "    draggable=False,\n",
        "    title=\"Perugia\",\n",
        "    alt=\"Perugia\",\n",
        "    # icon=\"fa-flag\",\n",
        ")"
      ]
    },
    {
      "cell_type": "code",
      "source": [
        "nasa_basemap = \"NASAGIBS BlueMarble\"\n",
        "m = gj.InteractiveMap(height=600, width=800, tiles=nasa_basemap, use_region=True)\n",
        "m.map.add(tinitaly_wms)\n",
        "m.map.add(tinitaly_slope)\n",
        "m.map.add(nasa_wms)\n",
        "m.map.add(perugia)\n",
        "m.add_layer_control()\n",
        "m.map.zoom = 6\n",
        "m.map.center = (43.11203, 12.38914)\n",
        "display(m.show())"
      ],
      "metadata": {
        "id": "6GtYKn9vvKOu"
      },
      "execution_count": null,
      "outputs": []
    },
    {
      "cell_type": "markdown",
      "metadata": {
        "id": "6Brb8lDIu-ss"
      },
      "source": [
        "Now we can import our DEM. We will use the [r.import](https://grass.osgeo.org/manuals/grass85/r.import.html) command to import a DEM file. The DEM file is a [Cloud Optimized GeoTIFF (COG)](https://cogeo.org/), and we will specify the output name as \"dem\". *r.import* will automatically reproject the DEM to the project's CRS."
      ]
    },
    {
      "cell_type": "code",
      "execution_count": null,
      "metadata": {
        "id": "Uin3L-xGu-st"
      },
      "outputs": [],
      "source": [
        "gs.run_command(\n",
        "    \"r.import\",\n",
        "    input=\"https://storage.googleapis.com/geomorphometry/w47575_s10.cog.tif\",\n",
        "    output=\"dem\",\n",
        "    title=\"TINItaly DEM 10m\",\n",
        "    resample=\"bicubic_f\",\n",
        "    resolution=\"region\",\n",
        "    extent=\"region\",\n",
        "    overwrite=True,\n",
        ")"
      ]
    },
    {
      "cell_type": "markdown",
      "source": [
        "Let's get some basic information about our DEM. We'll use the [`r.info`](https://grass.osgeo.org/grass85/manuals/r.info.html) and [`r.univar`](https://grass.osgeo.org/grass85/manuals/r.univar.html) tools to get the rasters metadata and univariate statistics respectively."
      ],
      "metadata": {
        "id": "VdPTNn0pOgRA"
      }
    },
    {
      "cell_type": "code",
      "execution_count": null,
      "metadata": {
        "id": "-LVtL1ARn1fp"
      },
      "outputs": [],
      "source": [
        "print(gs.read_command(\"r.info\", map=\"dem\"))"
      ]
    },
    {
      "cell_type": "markdown",
      "source": [
        "**Try it yourself!**\n",
        "\n",
        "Using the cell above as a template, compute the univariate statistics using [`r.univar`](https://grass.osgeo.org/grass85/manuals/r.univar.html)."
      ],
      "metadata": {
        "id": "OQcUYIEwPHE8"
      }
    },
    {
      "cell_type": "code",
      "execution_count": null,
      "metadata": {
        "id": "NehlbQUIn1fq"
      },
      "outputs": [],
      "source": []
    },
    {
      "cell_type": "markdown",
      "source": [
        "<details>\n",
        "    <summary>👉 <b>click to see hint</b></summary>\n",
        "  \n",
        "Run `!r.univar --help` to see the paramters.\n",
        "</details>\n"
      ],
      "metadata": {
        "id": "T9aycYpPPeli"
      }
    },
    {
      "cell_type": "markdown",
      "source": [
        "<details>\n",
        "    <summary>👉 <b>click to see solution</b></summary>\n",
        "    \n",
        "```python\n",
        "print(gs.read_command(\"r.univar\", map=\"dem\", flags=\"e\"))\n",
        "```\n",
        "</details>\n"
      ],
      "metadata": {
        "id": "rr4UGMhGPc-D"
      }
    },
    {
      "cell_type": "code",
      "execution_count": null,
      "metadata": {
        "id": "EXU8qNPNu-st"
      },
      "outputs": [],
      "source": [
        "m = gj.Map(use_region=True, height=500, width=800)\n",
        "m.d_rast(map=\"dem\")\n",
        "m.d_legend(raster=\"dem\", flags=\"bds\", at=\"9,60,90,93\", fontsize=16)\n",
        "m.d_barscale(at=\"61,6\", fontsize=16, flags=\"n\")\n",
        "m.show()"
      ]
    },
    {
      "cell_type": "markdown",
      "source": [
        "Compute some other common DEM derivatives: shaded relief, slope and aspect."
      ],
      "metadata": {
        "id": "r4SCxsdtQYR5"
      }
    },
    {
      "cell_type": "code",
      "source": [
        "gs.run_command(\"r.relief\", input=\"dem\", output=\"relief\", scale=1, zscale=1)"
      ],
      "metadata": {
        "id": "91oAMm7NQiXv"
      },
      "execution_count": null,
      "outputs": []
    },
    {
      "cell_type": "code",
      "execution_count": null,
      "metadata": {
        "id": "Vmr5JgYJn1fr"
      },
      "outputs": [],
      "source": [
        "m = gj.Map(use_region=True, height=500, width=800)\n",
        "m.d_shade(shade=\"relief\", color=\"dem\", brighten=30)\n",
        "m.d_legend(raster=\"dem\", flags=\"bds\", at=\"9,60,90,93\", fontsize=16)\n",
        "m.d_barscale(at=\"60,6\", fontsize=16, flags=\"n\")\n",
        "m.show()\n"
      ]
    },
    {
      "cell_type": "markdown",
      "source": [
        "**Try it yourself!**\n",
        "\n",
        "Compute and display the slope and aspect using [`r.slope.aspect`](https://grass.osgeo.org/grass85/manuals/r.slope.aspect.html). Try changing the color map for the slope raster using [`r.colors`](https://grass.osgeo.org/grass85/manuals/r.colors.html). _Bonus Challenge_: Can you add a legend to your visualization with a histogram showing the range of slope values?"
      ],
      "metadata": {
        "id": "Y4m0lQgTfahF"
      }
    },
    {
      "cell_type": "code",
      "execution_count": null,
      "metadata": {
        "id": "nssi0LPJfahF"
      },
      "outputs": [],
      "source": []
    },
    {
      "cell_type": "markdown",
      "source": [
        "<details>\n",
        "    <summary>👉 <b>click to see hint</b></summary>\n",
        "  \n",
        "Looking at the manual for r.slope.aspect, your code should be formatted like:\n",
        "\n",
        "```python\n",
        "gs.run_command(\"r.slope.aspect\", elevation=.., slope=.., aspect=..)\n",
        "```\n",
        "\n",
        "To get the legend and histogram, look at the flag options in `d.legend`. Remember that `d.legend` can be called by `grass.jupyter.Map()` with `m.d_legend()`. See above for examples.\n",
        "\n",
        "</details>\n"
      ],
      "metadata": {
        "id": "66wzczF0fahG"
      }
    },
    {
      "cell_type": "markdown",
      "source": [
        "<details>\n",
        "    <summary>👉 <b>click to see solution</b></summary>\n",
        "    \n",
        "```python\n",
        "gs.run_command(\"r.slope.aspect\", elevation=\"dem\", slope=\"slope\", aspect=\"aspect\")\n",
        "\n",
        "gs.run_command(\"r.colors\", map=\"slope\", color=\"sepia\", flags=\"e\")\n",
        "\n",
        "m = gj.Map(use_region=True)\n",
        "m.d_rast(map=\"slope\")\n",
        "m.d_legend(raster=\"slope\", flags=\"bds\")\n",
        "m.show()\n",
        "```\n",
        "\n",
        "And for aspect:\n",
        "\n",
        "```python\n",
        "m = gj.Map(use_region=True)\n",
        "m.d_rast(map=\"aspect\")\n",
        "m.d_legend(raster=\"aspect\", flags=\"bds\")\n",
        "m.show()\n",
        "```\n",
        "</details>\n"
      ],
      "metadata": {
        "id": "JAeylwa9fahG"
      }
    },
    {
      "cell_type": "markdown",
      "metadata": {
        "id": "MLHG6TQnu-st"
      },
      "source": [
        "Since we're going to interpolate surfaces from points, we'll randomly sample points from the DEM. We could think of these as LiDAR points or ground sampled points."
      ]
    },
    {
      "cell_type": "code",
      "execution_count": null,
      "metadata": {
        "id": "zNtDGNbYu-su"
      },
      "outputs": [],
      "source": [
        "gs.run_command(\"r.random\", input=\"dem\", vector=\"elevrand\", n=2000, flags=\"s\")"
      ]
    },
    {
      "cell_type": "markdown",
      "source": [
        "Now, visualize the points."
      ],
      "metadata": {
        "id": "5BZm3M8aNDM8"
      }
    },
    {
      "cell_type": "code",
      "execution_count": null,
      "metadata": {
        "id": "xnE1q0GZGMK_"
      },
      "outputs": [],
      "source": [
        "m = gj.Map(use_region=True, height=600, width=800)\n",
        "m.d_shade(shade=\"relief\", color=\"dem\", brighten=30)\n",
        "m.d_vect(map=\"elevrand\", color=\"red\", fillcolor=\"red\", icon=\"basic/point\")\n",
        "m.d_legend(raster=\"dem\", flags=\"bds\", at=\"9,60,90,93\", fontsize=16)\n",
        "m.d_barscale(at=\"51,6\", fontsize=16, flags=\"n\")\n",
        "m.show()"
      ]
    },
    {
      "cell_type": "markdown",
      "metadata": {
        "id": "kxovvoKNu-su"
      },
      "source": [
        "<a name=\"R\"></a>\n",
        "\n",
        "---\n",
        "\n",
        "## Conditional Gaussian Simulations in R\n",
        "\n",
        "To do our Conditional Gaussian simulations, we'll move to R. We're going to use the `rgrass` library to read and write data to/from GRASS and we'll use `gstat` to do simulate 100 DEMs.\n",
        "\n",
        "First, load the rpy2 extension. rpy2 is an interface to R running embedded in a Python process allowing up to continue operating in our current Python session but cells in R. Fancy!"
      ]
    },
    {
      "cell_type": "code",
      "execution_count": null,
      "metadata": {
        "id": "PqBHxSwJrtbQ"
      },
      "outputs": [],
      "source": [
        "%load_ext rpy2.ipython"
      ]
    },
    {
      "cell_type": "markdown",
      "metadata": {
        "id": "aIEAQFhar2PB"
      },
      "source": [
        "Now, we can use the %%R cell magic. When this cell is interpreted, it's contents will be sent to R. We could also use line magic now with %R which would only send the line to R."
      ]
    },
    {
      "cell_type": "code",
      "execution_count": null,
      "metadata": {
        "id": "OFi7JNApMZwj"
      },
      "outputs": [],
      "source": [
        "%%R\n",
        "system(\"apt-get install r-cran-sf r-cran-rgrass r-cran-gstat r-cran-terra r-cran-devtools r-cran-irkernel\")"
      ]
    },
    {
      "cell_type": "markdown",
      "source": [
        "We also need some other function to help parameterize our Matern Covariance variogram. Dr. Corey White has drafted a package to help with this. We load it here:"
      ],
      "metadata": {
        "id": "IhAvLxBTRUtj"
      }
    },
    {
      "cell_type": "code",
      "execution_count": null,
      "metadata": {
        "id": "tmxjnn4hxSkQ"
      },
      "outputs": [],
      "source": [
        "%%R\n",
        "devtools::load_all(\"geomorphometry2025_workshop/cgsSim/\")"
      ]
    },
    {
      "cell_type": "markdown",
      "metadata": {
        "id": "mr6_Azbgz1qj"
      },
      "source": [
        "Load other libraries."
      ]
    },
    {
      "cell_type": "code",
      "execution_count": null,
      "metadata": {
        "id": "42WO1kDLu-sv"
      },
      "outputs": [],
      "source": [
        "%%R\n",
        "library(sf)\n",
        "library(gstat)\n",
        "library(terra)\n",
        "library(rgrass)"
      ]
    },
    {
      "cell_type": "markdown",
      "metadata": {
        "id": "xIHt2cUUz5uV"
      },
      "source": [
        "Use readVECT from rgrass to turn the random elevation points into a [SpatVector](https://rdrr.io/cran/terra/man/SpatVector-class.html), the terra vector class."
      ]
    },
    {
      "cell_type": "code",
      "execution_count": null,
      "metadata": {
        "id": "T3h2tF_Cu-sv"
      },
      "outputs": [],
      "source": [
        "%%R\n",
        "elevrand <- rgrass::read_VECT(\"elevrand\")"
      ]
    },
    {
      "cell_type": "code",
      "source": [
        "%R coords"
      ],
      "metadata": {
        "id": "-Zr-AcdUM8Qx"
      },
      "execution_count": null,
      "outputs": []
    },
    {
      "cell_type": "markdown",
      "source": [
        "Compute the cutoff and width of the empirical variogram by using the maximum distance between two points. CITATION?"
      ],
      "metadata": {
        "id": "pnWeguQXXSII"
      }
    },
    {
      "cell_type": "code",
      "execution_count": null,
      "metadata": {
        "id": "iQO3dLxvn1f4"
      },
      "outputs": [],
      "source": [
        "%%R\n",
        "\n",
        "coords <- terra::geom(elevrand)[, c(\"x\", \"y\")]\n",
        "dists <- as.matrix(dist(coords))\n",
        "max_dist <- max(dists)\n",
        "\n",
        "# Best practice\n",
        "# Default cutoff is 0.5 but this is too small for our data\n",
        "cutoff <- 0.7 * max_dist\n",
        "width <- cutoff / 15\n",
        "print(paste(\"Using cutoff:\", cutoff, \"and width:\", width))"
      ]
    },
    {
      "cell_type": "code",
      "source": [
        "%R elev_df"
      ],
      "metadata": {
        "id": "NlgWJhDLMv34"
      },
      "execution_count": null,
      "outputs": []
    },
    {
      "cell_type": "markdown",
      "source": [
        "With the width and cutoff, we can computate the variogram. First, convert to random sample points to an `sf` dataframe since that is the input format for `gstat`."
      ],
      "metadata": {
        "id": "wPDuCS0bXv-N"
      }
    },
    {
      "cell_type": "code",
      "source": [
        "!g.region -p"
      ],
      "metadata": {
        "id": "YtEnAcRkX0cr"
      },
      "execution_count": null,
      "outputs": []
    },
    {
      "cell_type": "code",
      "source": [
        "%%R\n",
        "elev_df <- terra::as.data.frame(elevrand, geom = \"XY\")\n",
        "# saveRDS(elev_df, file = \"cgsSim/data/dataframe.rds\")\n",
        "g <- gstat::gstat(formula = value ~ 1, locations = ~x + y, data = elev_df)\n",
        "# saveRDS(g, file = \"cgsSim/data/gstat.rds\")"
      ],
      "metadata": {
        "id": "4Ql5UOy0Qo4G"
      },
      "execution_count": null,
      "outputs": []
    },
    {
      "cell_type": "code",
      "source": [
        "%R g"
      ],
      "metadata": {
        "id": "InPsRsSCQrpv"
      },
      "execution_count": null,
      "outputs": []
    },
    {
      "cell_type": "code",
      "source": [
        "%R vg"
      ],
      "metadata": {
        "id": "ZdDykLSqRQHG"
      },
      "execution_count": null,
      "outputs": []
    },
    {
      "cell_type": "code",
      "execution_count": null,
      "metadata": {
        "id": "Fy9qjzrp_V-b"
      },
      "outputs": [],
      "source": [
        "%%R\n",
        "vg <- gstat::variogram(g, cutoff = cutoff, width = width)\n",
        "# saveRDS(vg, file = \"cgsSim/data/variorgram.rds\")\n",
        "\n",
        "plot(vg, main = \"Empirical Variogram of Elevation Points\")"
      ]
    },
    {
      "cell_type": "markdown",
      "source": [
        "Now, we're going to fit a Matern Covariance function to the empirical variogram. First, we'll fit Kappa using `cgSim` library that Dr. Corey White has been working on. We pass the empirical variogram as the input."
      ],
      "metadata": {
        "id": "_dX7MXG2YF-h"
      }
    },
    {
      "cell_type": "code",
      "source": [],
      "metadata": {
        "id": "lsLM3NEMMuM2"
      },
      "execution_count": null,
      "outputs": []
    },
    {
      "cell_type": "code",
      "execution_count": null,
      "metadata": {
        "id": "mEZu6Vxhn1f5"
      },
      "outputs": [],
      "source": [
        "%%R\n",
        "# Fit kappa\n",
        "fit_kappa <- optimize_kappa(vg)\n",
        "fit_kappa"
      ]
    },
    {
      "cell_type": "code",
      "execution_count": null,
      "metadata": {
        "id": "OyBTxBNrn1f5"
      },
      "outputs": [],
      "source": [
        "%%R\n",
        "plot(vg, model = fit_kappa$model, main = \"Empirical Variogram of Elevation Points\")"
      ]
    },
    {
      "cell_type": "code",
      "execution_count": null,
      "metadata": {
        "id": "gEWapwXqn1f6"
      },
      "outputs": [],
      "source": [
        "%%R\n",
        "# Fit variogram automatically: THIS TAKES SO LONG\n",
        "fit_result <- auto_variogram_fit(elev_df, cutoff = cutoff, width = width, kappa = fit_kappa$kappa)"
      ]
    },
    {
      "cell_type": "markdown",
      "source": [
        "Let's see some information about our fitted variogram:"
      ],
      "metadata": {
        "id": "xGyPUaLoZw6N"
      }
    },
    {
      "cell_type": "code",
      "execution_count": null,
      "metadata": {
        "id": "Df4_9Pwln1f6"
      },
      "outputs": [],
      "source": [
        "%%R\n",
        "head(fit_result)"
      ]
    },
    {
      "cell_type": "markdown",
      "source": [
        "And plot the fitted variogram alonside the empirical variogram."
      ],
      "metadata": {
        "id": "kjadhp9XZ3Tm"
      }
    },
    {
      "cell_type": "code",
      "execution_count": null,
      "metadata": {
        "id": "ue9gA9Xcn1f7"
      },
      "outputs": [],
      "source": [
        "%%R\n",
        "plot_auto_variogram(vg, fit_result$vgm_model)"
      ]
    },
    {
      "cell_type": "code",
      "source": [
        "# WHAT'S THIS\n",
        "# vfit <- gstat::fit.variogram(vg, model = fit_result$vgm_model, fit.kappa = FALSE)\n",
        "vfit <- gstat::fit.variogram(vg, model = vgm_model, fit.kappa = FALSE)"
      ],
      "metadata": {
        "id": "SLcD_8iLbM3q"
      },
      "execution_count": null,
      "outputs": []
    },
    {
      "cell_type": "markdown",
      "source": [
        "Time to interpolate our DEMs using the fitted variogram. We will only do 10 simulations since the process is computationally intensive but in the GitHub repo, we've included a set of 90 pre-computed simulations that we'll import after this for computed extracted stream uncertainty.\n",
        "\n",
        "Create a 10m resolution grid for prediction:"
      ],
      "metadata": {
        "id": "l6qziZeAZ974"
      }
    },
    {
      "cell_type": "code",
      "execution_count": null,
      "metadata": {
        "id": "ZorLUqPmn1f7"
      },
      "outputs": [],
      "source": [
        "%%R\n",
        "grid_ext <- terra::ext(elevrand)\n",
        "grid_res <- 10\n",
        "\n",
        "xy <- expand.grid(\n",
        "  x = seq(grid_ext[1], grid_ext[2], by = grid_res),\n",
        "  y = seq(grid_ext[3], grid_ext[4], by = grid_res)\n",
        ")"
      ]
    },
    {
      "cell_type": "markdown",
      "source": [
        "Run 10 stochastic conditional gaussian simulations, creating 10 DEMs. The `run_sim` tool is part of `cgSim` which uses `gstat::predict` on the backend."
      ],
      "metadata": {
        "id": "FZmQWghJbp0I"
      }
    },
    {
      "cell_type": "code",
      "source": [
        "%%R\n",
        "run_sim(\n",
        "  elev_df,\n",
        "  fitmodel = vfit,\n",
        "  nsim = 10,\n",
        "  newdata=xy,\n",
        "  nmin = 10,\n",
        "  nmax = 40,\n",
        "  distmax = cutoff,\n",
        ")"
      ],
      "metadata": {
        "id": "dVYWK-mPa7HB"
      },
      "execution_count": null,
      "outputs": []
    },
    {
      "cell_type": "markdown",
      "source": [
        "The `run_sim` function writes these rasters into GRASS. Use the GRASS R API to list the simulated rasters:"
      ],
      "metadata": {
        "id": "16a-zup9c8fy"
      }
    },
    {
      "cell_type": "code",
      "source": [
        "execGRASS(\"g.list\", type=\"raster\", pattern=\"sgs_sim_*\")"
      ],
      "metadata": {
        "id": "9SPkXEUGc79C"
      },
      "execution_count": null,
      "outputs": []
    },
    {
      "cell_type": "markdown",
      "source": [
        "Import the other 90 simulations:"
      ],
      "metadata": {
        "id": "JXSVT24KdKZS"
      }
    },
    {
      "cell_type": "code",
      "source": [],
      "metadata": {
        "id": "C3kstF0ydS6I"
      },
      "execution_count": null,
      "outputs": []
    },
    {
      "cell_type": "markdown",
      "metadata": {
        "id": "lKimq4hCIGdp"
      },
      "source": [
        "Calculate the mean and standard deviation of the simulatate surfaces"
      ]
    },
    {
      "cell_type": "code",
      "execution_count": null,
      "metadata": {
        "id": "fdll8cu0IFYd"
      },
      "outputs": [],
      "source": [
        "%%R\n",
        "execGRASS(\"g.list\", type=\"raster\", pattern=\"sgs_sim_*\", output=\"tmp_list_simulated.txt\")\n",
        "execGRASS(\"r.series\", file=\"tmp_list_simulated.txt\", output=\"simulated_mean\", method=\"average\")\n",
        "execGRASS(\"r.series\", file=\"tmp_list_simulated.txt\", output=\"simulated_std\", method=\"stddev\")"
      ]
    },
    {
      "cell_type": "code",
      "execution_count": null,
      "metadata": {
        "id": "5L8IwhzDn1f_"
      },
      "outputs": [],
      "source": [
        "m = gj.Map(use_region=True, height=500, width=500)\n",
        "m.d_rast(map=\"simulated_mean\")\n",
        "m.d_legend(raster=\"simulated_mean\", flags=\"bds\", at=\"9,35,72,77\", fontsize=16)\n",
        "m.d_barscale(at=\"61,6\", fontsize=16, flags=\"n\")\n",
        "m.show()"
      ]
    },
    {
      "cell_type": "code",
      "execution_count": null,
      "metadata": {
        "id": "VKG72gvin1f_"
      },
      "outputs": [],
      "source": [
        "m = gj.Map(use_region=True, height=600, width=800)\n",
        "m.d_rast(map=\"simulated_mean\")\n",
        "m.d_legend(raster=\"simulated_std\", flags=\"bds\", at=\"9,35,72,77\", fontsize=16)\n",
        "m.d_barscale(at=\"61,6\", fontsize=16, flags=\"n\")\n",
        "m.show()"
      ]
    },
    {
      "cell_type": "markdown",
      "source": [
        "---\n",
        "\n",
        "## Extract Streams and Compute Uncertainty"
      ],
      "metadata": {
        "id": "TBLhKA6Kdvm1"
      }
    },
    {
      "cell_type": "markdown",
      "metadata": {
        "id": "NI-Rq9NJIN_z"
      },
      "source": [
        "Generate streams for each DEM"
      ]
    },
    {
      "cell_type": "code",
      "execution_count": null,
      "metadata": {
        "id": "DPYQ9uu1IQT2"
      },
      "outputs": [],
      "source": [
        "%%R\n",
        "N.sim <- 10\n",
        "for(i in 1:N.sim) {execGRASS(\"r.watershed\", elevation=paste(\"sgs_sim_\", i, sep=\"\"),\n",
        " threshold=10000, stream=paste(\"stream_\", i, sep=\"\"), flags=c(\"quiet\"))}"
      ]
    },
    {
      "cell_type": "markdown",
      "metadata": {
        "id": "VB6VYUpuIV-6"
      },
      "source": [
        "Calculate the probablity and error\n",
        "\n",
        "INSERT EQUATION AND CITATION"
      ]
    },
    {
      "cell_type": "code",
      "execution_count": null,
      "metadata": {
        "id": "1GvOmdaGGRRn"
      },
      "outputs": [],
      "source": [
        "%%R\n",
        "execGRASS(\"g.list\", type=\"raster\", pattern=\"stream*\", output=\"tmp_list_stream.txt\")\n",
        "execGRASS(\"r.series\", file=\"tmp_list_stream.txt\", output=\"count\", method=\"count\")\n",
        "execGRASS(\"r.mapcalc\", expression=paste(\"prob = float(count)/\", N.sim))\n",
        "execGRASS(\"r.mapcalc\", expression=\"error = -prob * log(prob) - (1-prob)* log(1-prob)\")"
      ]
    },
    {
      "cell_type": "markdown",
      "source": [
        "Probability that a cell contains a stream:"
      ],
      "metadata": {
        "id": "JTgAB246eg_W"
      }
    },
    {
      "cell_type": "code",
      "source": [
        "m =gj.Map()\n",
        "m.d_shade(shade=\"relief\", color=\"prob\", brighten=30)\n",
        "m.show()"
      ],
      "metadata": {
        "id": "fJ8ot5goegCU"
      },
      "execution_count": null,
      "outputs": []
    },
    {
      "cell_type": "markdown",
      "source": [
        "Stream error:"
      ],
      "metadata": {
        "id": "pPetnn3AfIO0"
      }
    },
    {
      "cell_type": "code",
      "source": [
        "m =gj.Map()\n",
        "m.d_shade(shade=\"relief\", color=\"error\", brighten=30)\n",
        "m.show()"
      ],
      "metadata": {
        "id": "Pbel1oV9e9tz"
      },
      "execution_count": null,
      "outputs": []
    },
    {
      "cell_type": "markdown",
      "source": [
        "\n",
        "---\n",
        "\n",
        "## OLD CODE"
      ],
      "metadata": {
        "id": "To0vkUPleS97"
      }
    },
    {
      "cell_type": "markdown",
      "metadata": {
        "id": "e5pW9ofxn1f8"
      },
      "source": [
        "This works in CoLab but not locally at the moment."
      ]
    },
    {
      "cell_type": "code",
      "execution_count": null,
      "metadata": {
        "id": "InpzPEqan1f8"
      },
      "outputs": [],
      "source": [
        "%%R\n",
        "\n",
        "# Objective function: SSErr for each kappa\n",
        "fit_variogram_sserr <- function(kappa) {\n",
        "  base::attr(gstat::fit.variogram(vg, gstat::vgm(model = \"Mat\", kappa = kappa)), \"SSErr\")\n",
        "}\n",
        "\n",
        "# Range of kappa values to try\n",
        "kappa_vals <- base::seq(0.1, 5, by = 0.1)\n",
        "\n",
        "# # Compute SSErr for each value\n",
        "sserr_vals <- base::sapply(kappa_vals, fit_variogram_sserr)\n",
        "\n",
        "# # Optimize for best kappa\n",
        "opt_result <- optimize(fit_variogram_sserr, c(0.1, 5))\n",
        "\n",
        "best_kappa <- opt_result$minimum\n",
        "best_sserr <- opt_result$objective\n",
        "\n",
        "# # Plot SSErr vs. kappa\n",
        "# plot(kappa_vals, sserr_vals, type = \"b\", pch = 16,\n",
        "#      xlab = expression(kappa), ylab = \"Sum of Squared Errors\",\n",
        "#      main = \"SSErr vs. Matérn Smoothness (kappa)\")\n",
        "\n",
        "# # Add vertical line at best kappa\n",
        "# abline(v = best_kappa, col = \"grey\", lty = 2)\n",
        "\n",
        "# # Label the optimal point\n",
        "# text(x = best_kappa, y = best_sserr, labels = paste0(\"kappa = \", round(best_kappa, 3)),\n",
        "#      pos = 3, offset = 5, col = \"blue\")"
      ]
    },
    {
      "cell_type": "code",
      "execution_count": null,
      "metadata": {
        "id": "LboOG2qwHHNU"
      },
      "outputs": [],
      "source": [
        "%%R\n",
        "\n",
        "# Create 10m resolution grid for prediction\n",
        "grid_ext <- terra::ext(elevrand)\n",
        "grid_res <- 10\n",
        "\n",
        "xy <- expand.grid(\n",
        "  x = seq(grid_ext[1], grid_ext[2], by = grid_res),\n",
        "  y = seq(grid_ext[3], grid_ext[4], by = grid_res)\n",
        ")\n",
        "\n",
        "# Convert to sf POINT geometry\n",
        "xy_sf <- sf::st_as_sf(xy, coords = c(\"x\", \"y\"))\n",
        "\n",
        "\n",
        "# Recreate gstat object using sf\n",
        "g <- gstat::gstat(\n",
        "  formula = value ~ 1,\n",
        "  data = elev_df,\n",
        "  model = vfit,\n",
        "  locations=~x+y\n",
        ")\n"
      ]
    },
    {
      "cell_type": "markdown",
      "metadata": {
        "id": "PUSFnEi7n1f9"
      },
      "source": [
        "### Saving this for now might use later"
      ]
    },
    {
      "cell_type": "code",
      "execution_count": null,
      "metadata": {
        "id": "s176RRC4CLma"
      },
      "outputs": [],
      "source": [
        "%%R\n",
        "g <- gstat::gstat(\n",
        "  formula = value ~ 1,\n",
        "  data = elev_df,\n",
        "  model = vfit,\n",
        "  locations = ~x + y,\n",
        "  nmin=10,\n",
        "  nmax=250,\n",
        "  maxdist=400\n",
        ")\n",
        "# Number of SGS realizations\n",
        "N.sim <- 4\n",
        "\n",
        "# Output file prefix\n",
        "output_prefix <- \"sgs_sim\"\n",
        "\n",
        "raster_list <- list()\n",
        "\n",
        "# Run SGS simulations\n",
        "for (i in 1:N.sim) {\n",
        "  cat(\"Simulating realization\", i, \"...\\n\")\n",
        "\n",
        "  # Perform simulation\n",
        "  sim <- predict(g, newdata = xy_sf, nsim = 1, debug.level = -1)\n",
        "\n",
        "  # Extract the simulated values\n",
        "  sim_values <- sim$sim1\n",
        "\n",
        "  # Add simulated values to the grid\n",
        "  xy_sf$sim <- sim_values\n",
        "\n",
        "  # Convert to SpatRaster\n",
        "  sim_rast <- terra::rast(xy_sf, crs = terra::crs(elevrand))\n",
        "\n",
        "  # Rename layer\n",
        "  names(sim_rast) <- paste0(\"sim_\", i)\n",
        "\n",
        "  # Save to GRASS raster\n",
        "  out_file <- paste0(output_prefix, \"_\", i)\n",
        "  rgrass::write_RAST(sim_rast, out_file)\n",
        "\n",
        "  # Store in list\n",
        "  raster_list[[i]] <- sim_rast\n",
        "}\n",
        "\n",
        "# Stack all results if needed\n",
        "r_stack <- terra::rast(raster_list)\n",
        "\n",
        "# Plot one realization\n",
        "terra::plot(r_stack[[1]])"
      ]
    },
    {
      "cell_type": "code",
      "execution_count": null,
      "metadata": {
        "id": "nFL7ThOdn1f9"
      },
      "outputs": [],
      "source": [
        "%%R\n",
        "# Stack all results if needed\n",
        "r_stack <- terra::rast(raster_list)\n",
        "\n",
        "# Plot one realization\n",
        "terra::plot(r_stack)"
      ]
    },
    {
      "cell_type": "code",
      "execution_count": null,
      "metadata": {
        "id": "PzCZ7k6WY2mW"
      },
      "outputs": [],
      "source": [
        "%%R\n",
        "\n",
        "z_sf <- st_as_sf(z, coords = c(\"x\", \"y\"), crs = crs(elevrand))\n",
        "\n",
        "plot(z_sf[\"var1.pred\"])"
      ]
    },
    {
      "cell_type": "code",
      "execution_count": null,
      "metadata": {
        "id": "wq_C2LekGSHg"
      },
      "outputs": [],
      "source": [
        "%%bash\n",
        "\n",
        "r.colors simulated_mean rast=dem\n",
        "r.colors sgs_sim_10 rast=dem\n",
        "r.colors simulated_std co=bcyr -e\n",
        "r.colors aspect_10 co=aspect\n",
        "r.slope.aspect simulated_mean slo=slp_mean asp=asp_mean\n",
        "r.slope.aspect sgs_sim_10 slo=slp_10 asp=asp_10\n",
        "r.mapcalc \"diff_spline_gsim = dem - simulated_mean\"\n",
        "r.colors diff_spline_gsim co=differences"
      ]
    },
    {
      "cell_type": "code",
      "execution_count": null,
      "metadata": {
        "id": "KioPqGFqn1gB"
      },
      "outputs": [],
      "source": [
        "m = gj.Map(use_region=True, height=600, width=800)\n",
        "m.d_shade(shade=\"relief\", color=\"diff_spline_gsim\", brighten=30)\n",
        "m.d_legend(raster=\"diff_spline_gsim\", flags=\"bds\", at=\"9,35,72,77\", fontsize=16)\n",
        "m.d_barscale(at=\"61,6\", fontsize=16, flags=\"n\")\n",
        "m.show()"
      ]
    },
    {
      "cell_type": "code",
      "execution_count": null,
      "metadata": {
        "id": "8vMDPeIcn1gC"
      },
      "outputs": [],
      "source": [
        "%%R\n",
        "sgs_sim_1 <- rgrass::read_RAST(\"sgs_sim_1\")\n",
        "plot(sgs_sim_1, main = \"Simulated Raster 1\")"
      ]
    },
    {
      "cell_type": "markdown",
      "metadata": {
        "id": "Fpiid2Fju-sv"
      },
      "source": [
        "Original Workflow:\n",
        "\n",
        "https://github.com/ncsu-geoforall-lab/GIS714-assignments/blob/main/Surface_Water_Simulations/WaterSim-Geostatistical-Simulations.ipynb"
      ]
    },
    {
      "cell_type": "markdown",
      "metadata": {
        "id": "N2iA4GuHu-sv"
      },
      "source": [
        "TUTORIAL Option:\n",
        "\n",
        "https://geobgu.xyz/r/spatial-interpolation-of-point-data.html"
      ]
    }
  ],
  "metadata": {
    "colab": {
      "provenance": [],
      "include_colab_link": true
    },
    "kernelspec": {
      "display_name": ".venv",
      "language": "python",
      "name": "python3"
    },
    "language_info": {
      "codemirror_mode": {
        "name": "ipython",
        "version": 3
      },
      "file_extension": ".py",
      "mimetype": "text/x-python",
      "name": "python",
      "nbconvert_exporter": "python",
      "pygments_lexer": "ipython3",
      "version": "3.13.2"
    }
  },
  "nbformat": 4,
  "nbformat_minor": 0
}