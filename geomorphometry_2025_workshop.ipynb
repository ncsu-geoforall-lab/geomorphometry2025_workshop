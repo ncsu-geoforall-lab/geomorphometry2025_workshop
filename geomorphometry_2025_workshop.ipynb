{
  "cells": [
    {
      "cell_type": "markdown",
      "metadata": {
        "id": "view-in-github",
        "colab_type": "text"
      },
      "source": [
        "<a href=\"https://colab.research.google.com/github/ncsu-geoforall-lab/geomorphometry2025_workshop/blob/main/geomorphometry_2025_workshop.ipynb\" target=\"_parent\"><img src=\"https://colab.research.google.com/assets/colab-badge.svg\" alt=\"Open In Colab\"/></a>"
      ]
    },
    {
      "cell_type": "markdown",
      "metadata": {
        "id": "4MntGQoRpl2h"
      },
      "source": [
        "# Workshop: Propagating DEM Uncertainty to Stream Extraction using GRASS\n",
        "\n",
        "### Abstract\n",
        "\n",
        "GRASS is an open-source geospatial processing engine. With over 400 tools available in the core distribution and an additional 400+ tools available as extensions, GRASS has broad applicability in the Earth Sciences and geomorphometry in particular. In this workshop, we will give an introduction to GRASS and demonstrate some of the geomorphometry tools available in GRASS. Specifically, we will show how to compute stream extraction uncertainty using a workflow adapted from Hengl (2007) [1] and Hengl (2010) [2]. In this tutorial, we will:\n",
        "* [Create a new GRASS project](#start)\n",
        "* [Download and import elevation data](#data) of near Perugia using GRASS data fetching tools\n",
        "* [Use R’s kriging functions (gstat)](#R) to create 100 iterations of a DEM\n",
        "* [Extract streams](#uncert) from each of the 100 DEMs to compute stream uncertainty\n",
        "\n",
        "Check out the publication associated with the notebook on Zenodo:\n",
        "\n",
        "[![DOI](https://zenodo.org/badge/DOI/10.5281/zenodo.15283714.svg)](https://doi.org/10.5281/zenodo.15283714)\n"
      ]
    },
    {
      "cell_type": "markdown",
      "metadata": {
        "id": "Ud7N1Lc6p6oW"
      },
      "source": [
        "---\n",
        "\n",
        "\n",
        "### Install GRASS and Get Workshop Materials"
      ]
    },
    {
      "cell_type": "markdown",
      "source": [
        "The following cell installs GRASS from the ubuntugis-unstable ppa. It will take a minute to run."
      ],
      "metadata": {
        "id": "wYMTEU2NqmeP"
      }
    },
    {
      "cell_type": "code",
      "execution_count": 1,
      "metadata": {
        "id": "zhv3qjGPpzr3",
        "outputId": "17d8972f-6056-4322-c344-9bbba861a403",
        "colab": {
          "base_uri": "https://localhost:8080/"
        }
      },
      "outputs": [
        {
          "output_type": "stream",
          "name": "stdout",
          "text": [
            "PPA publishes dbgsym, you may need to include 'main/debug' component\n",
            "Repository: 'deb https://ppa.launchpadcontent.net/ubuntugis/ubuntugis-unstable/ubuntu/ jammy main'\n",
            "Description:\n",
            "Unstable releases of Ubuntu GIS packages. These releases are more bleeding edge and while generally they should work well, they dont receive the same amount of quality assurance as our stable releases do.\n",
            "More info: https://launchpad.net/~ubuntugis/+archive/ubuntu/ubuntugis-unstable\n",
            "Adding repository.\n",
            "Adding deb entry to /etc/apt/sources.list.d/ubuntugis-ubuntu-ubuntugis-unstable-jammy.list\n",
            "Adding disabled deb-src entry to /etc/apt/sources.list.d/ubuntugis-ubuntu-ubuntugis-unstable-jammy.list\n",
            "Adding key to /etc/apt/trusted.gpg.d/ubuntugis-ubuntu-ubuntugis-unstable.gpg with fingerprint 2EC86B48E6A9F326623CD22FFF0E7BBEC491C6A1\n",
            "Hit:1 http://archive.ubuntu.com/ubuntu jammy InRelease\n",
            "Get:2 http://archive.ubuntu.com/ubuntu jammy-updates InRelease [128 kB]\n",
            "Get:3 https://cloud.r-project.org/bin/linux/ubuntu jammy-cran40/ InRelease [3,632 B]\n",
            "Get:4 https://developer.download.nvidia.com/compute/cuda/repos/ubuntu2204/x86_64  InRelease [1,581 B]\n",
            "Get:5 https://r2u.stat.illinois.edu/ubuntu jammy InRelease [6,555 B]\n",
            "Get:6 http://security.ubuntu.com/ubuntu jammy-security InRelease [129 kB]\n",
            "Get:7 http://archive.ubuntu.com/ubuntu jammy-backports InRelease [127 kB]\n",
            "Hit:8 https://ppa.launchpadcontent.net/deadsnakes/ppa/ubuntu jammy InRelease\n",
            "Hit:9 https://ppa.launchpadcontent.net/graphics-drivers/ppa/ubuntu jammy InRelease\n",
            "Get:10 https://developer.download.nvidia.com/compute/cuda/repos/ubuntu2204/x86_64  Packages [1,721 kB]\n",
            "Hit:11 https://ppa.launchpadcontent.net/ubuntugis/ppa/ubuntu jammy InRelease\n",
            "Get:12 https://r2u.stat.illinois.edu/ubuntu jammy/main amd64 Packages [2,735 kB]\n",
            "Get:13 https://ppa.launchpadcontent.net/ubuntugis/ubuntugis-unstable/ubuntu jammy InRelease [24.6 kB]\n",
            "Get:14 http://archive.ubuntu.com/ubuntu jammy-updates/universe amd64 Packages [1,553 kB]\n",
            "Get:15 https://r2u.stat.illinois.edu/ubuntu jammy/main all Packages [8,992 kB]\n",
            "Get:16 http://archive.ubuntu.com/ubuntu jammy-updates/main amd64 Packages [3,264 kB]\n",
            "Get:17 http://security.ubuntu.com/ubuntu jammy-security/universe amd64 Packages [1,246 kB]\n",
            "Get:18 https://ppa.launchpadcontent.net/ubuntugis/ubuntugis-unstable/ubuntu jammy/main amd64 Packages [72.0 kB]\n",
            "Get:19 http://security.ubuntu.com/ubuntu jammy-security/main amd64 Packages [2,953 kB]\n",
            "Fetched 23.0 MB in 4s (5,525 kB/s)\n",
            "Reading package lists... Done\n",
            "W: Skipping acquire of configured file 'main/source/Sources' as repository 'https://r2u.stat.illinois.edu/ubuntu jammy InRelease' does not seem to provide it (sources.list entry misspelt?)\n",
            "Hit:1 http://archive.ubuntu.com/ubuntu jammy InRelease\n",
            "Hit:2 https://cloud.r-project.org/bin/linux/ubuntu jammy-cran40/ InRelease\n",
            "Hit:3 http://archive.ubuntu.com/ubuntu jammy-updates InRelease\n",
            "Hit:4 https://developer.download.nvidia.com/compute/cuda/repos/ubuntu2204/x86_64  InRelease\n",
            "Hit:5 http://archive.ubuntu.com/ubuntu jammy-backports InRelease\n",
            "Hit:6 https://r2u.stat.illinois.edu/ubuntu jammy InRelease\n",
            "Hit:7 http://security.ubuntu.com/ubuntu jammy-security InRelease\n",
            "Hit:8 https://ppa.launchpadcontent.net/deadsnakes/ppa/ubuntu jammy InRelease\n",
            "Hit:9 https://ppa.launchpadcontent.net/graphics-drivers/ppa/ubuntu jammy InRelease\n",
            "Hit:10 https://ppa.launchpadcontent.net/ubuntugis/ppa/ubuntu jammy InRelease\n",
            "Hit:11 https://ppa.launchpadcontent.net/ubuntugis/ubuntugis-unstable/ubuntu jammy InRelease\n",
            "Reading package lists... Done\n",
            "Building dependency tree... Done\n",
            "Reading state information... Done\n",
            "37 packages can be upgraded. Run 'apt list --upgradable' to see them.\n",
            "\u001b[1;33mW: \u001b[0mSkipping acquire of configured file 'main/source/Sources' as repository 'https://r2u.stat.illinois.edu/ubuntu jammy InRelease' does not seem to provide it (sources.list entry misspelt?)\u001b[0m\n",
            "Reading package lists... Done\n",
            "Building dependency tree... Done\n",
            "Reading state information... Done\n",
            "The following additional packages will be installed:\n",
            "  gdal-bin grass-doc libfftw3-double3 libglu1-mesa libpdal-plugin-e57\n",
            "  libpdal-plugin-faux libpdal-plugin-hdf libpdal-plugin-icebridge\n",
            "  libpdal-plugin-pgpointcloud libpdal-plugins libpdal16 proj-bin python3-gdal\n",
            "  python3-numpy\n",
            "Suggested packages:\n",
            "  libgdal-grass grass-gui e00compr avce00 gnuplot gpsbabel gpstrans netpbm\n",
            "  python3-rpy2 python3-termcolor subversion grass-dev-doc grass libfftw3-bin\n",
            "  libfftw3-dev python-numpy-doc python3-pytest\n",
            "The following NEW packages will be installed:\n",
            "  gdal-bin grass-core grass-dev grass-doc libfftw3-double3 libglu1-mesa\n",
            "  libpdal-plugin-e57 libpdal-plugin-faux libpdal-plugin-hdf\n",
            "  libpdal-plugin-icebridge libpdal-plugin-pgpointcloud libpdal-plugins\n",
            "  libpdal16 proj-bin python3-gdal python3-numpy\n",
            "0 upgraded, 16 newly installed, 0 to remove and 37 not upgraded.\n",
            "Need to get 53.4 MB of archives.\n",
            "After this operation, 117 MB of additional disk space will be used.\n",
            "Get:1 http://archive.ubuntu.com/ubuntu jammy-updates/main amd64 python3-numpy amd64 1:1.21.5-1ubuntu22.04.1 [3,467 kB]\n",
            "Get:2 http://archive.ubuntu.com/ubuntu jammy/main amd64 libfftw3-double3 amd64 3.3.8-2ubuntu8 [770 kB]\n",
            "Get:3 http://archive.ubuntu.com/ubuntu jammy/main amd64 libglu1-mesa amd64 9.0.2-1 [145 kB]\n",
            "Get:4 https://ppa.launchpadcontent.net/ubuntugis/ppa/ubuntu jammy/main amd64 python3-gdal amd64 3.8.4+dfsg-1~jammy0 [1,095 kB]\n",
            "Get:5 https://ppa.launchpadcontent.net/ubuntugis/ppa/ubuntu jammy/main amd64 gdal-bin amd64 3.8.4+dfsg-1~jammy0 [605 kB]\n",
            "Get:6 https://ppa.launchpadcontent.net/ubuntugis/ppa/ubuntu jammy/main amd64 grass-doc all 8.4.1-1~jammy2 [37.6 MB]\n",
            "Get:7 https://ppa.launchpadcontent.net/ubuntugis/ppa/ubuntu jammy/main amd64 libpdal16 amd64 2.6.2+ds-1~jammy0 [1,930 kB]\n",
            "Get:8 https://ppa.launchpadcontent.net/ubuntugis/ppa/ubuntu jammy/main amd64 grass-core amd64 8.4.1-1~jammy2 [6,710 kB]\n",
            "Get:9 https://ppa.launchpadcontent.net/ubuntugis/ppa/ubuntu jammy/main amd64 grass-dev amd64 8.4.1-1~jammy2 [222 kB]\n",
            "Get:10 https://ppa.launchpadcontent.net/ubuntugis/ppa/ubuntu jammy/main amd64 libpdal-plugin-e57 amd64 2.6.2+ds-1~jammy0 [371 kB]\n",
            "Get:11 https://ppa.launchpadcontent.net/ubuntugis/ppa/ubuntu jammy/main amd64 libpdal-plugin-faux amd64 2.6.2+ds-1~jammy0 [35.5 kB]\n",
            "Get:12 https://ppa.launchpadcontent.net/ubuntugis/ppa/ubuntu jammy/main amd64 libpdal-plugin-hdf amd64 2.6.2+ds-1~jammy0 [101 kB]\n",
            "Get:13 https://ppa.launchpadcontent.net/ubuntugis/ppa/ubuntu jammy/main amd64 libpdal-plugin-icebridge amd64 2.6.2+ds-1~jammy0 [51.3 kB]\n",
            "Get:14 https://ppa.launchpadcontent.net/ubuntugis/ppa/ubuntu jammy/main amd64 libpdal-plugin-pgpointcloud amd64 2.6.2+ds-1~jammy0 [81.5 kB]\n",
            "Get:15 https://ppa.launchpadcontent.net/ubuntugis/ppa/ubuntu jammy/main amd64 libpdal-plugins amd64 2.6.2+ds-1~jammy0 [18.6 kB]\n",
            "Get:16 https://ppa.launchpadcontent.net/ubuntugis/ppa/ubuntu jammy/main amd64 proj-bin amd64 9.3.1-1~jammy0 [205 kB]\n",
            "Fetched 53.4 MB in 1min 20s (666 kB/s)\n",
            "Selecting previously unselected package python3-numpy.\n",
            "(Reading database ... 126109 files and directories currently installed.)\n",
            "Preparing to unpack .../00-python3-numpy_1%3a1.21.5-1ubuntu22.04.1_amd64.deb ...\n",
            "Unpacking python3-numpy (1:1.21.5-1ubuntu22.04.1) ...\n",
            "Selecting previously unselected package python3-gdal.\n",
            "Preparing to unpack .../01-python3-gdal_3.8.4+dfsg-1~jammy0_amd64.deb ...\n",
            "Unpacking python3-gdal (3.8.4+dfsg-1~jammy0) ...\n",
            "Selecting previously unselected package gdal-bin.\n",
            "Preparing to unpack .../02-gdal-bin_3.8.4+dfsg-1~jammy0_amd64.deb ...\n",
            "Unpacking gdal-bin (3.8.4+dfsg-1~jammy0) ...\n",
            "Selecting previously unselected package grass-doc.\n",
            "Preparing to unpack .../03-grass-doc_8.4.1-1~jammy2_all.deb ...\n",
            "Unpacking grass-doc (8.4.1-1~jammy2) ...\n",
            "Selecting previously unselected package libfftw3-double3:amd64.\n",
            "Preparing to unpack .../04-libfftw3-double3_3.3.8-2ubuntu8_amd64.deb ...\n",
            "Unpacking libfftw3-double3:amd64 (3.3.8-2ubuntu8) ...\n",
            "Selecting previously unselected package libglu1-mesa:amd64.\n",
            "Preparing to unpack .../05-libglu1-mesa_9.0.2-1_amd64.deb ...\n",
            "Unpacking libglu1-mesa:amd64 (9.0.2-1) ...\n",
            "Selecting previously unselected package libpdal16.\n",
            "Preparing to unpack .../06-libpdal16_2.6.2+ds-1~jammy0_amd64.deb ...\n",
            "Unpacking libpdal16 (2.6.2+ds-1~jammy0) ...\n",
            "Selecting previously unselected package grass-core.\n",
            "Preparing to unpack .../07-grass-core_8.4.1-1~jammy2_amd64.deb ...\n",
            "Unpacking grass-core (8.4.1-1~jammy2) ...\n",
            "Selecting previously unselected package grass-dev.\n",
            "Preparing to unpack .../08-grass-dev_8.4.1-1~jammy2_amd64.deb ...\n",
            "Unpacking grass-dev (8.4.1-1~jammy2) ...\n",
            "Selecting previously unselected package libpdal-plugin-e57.\n",
            "Preparing to unpack .../09-libpdal-plugin-e57_2.6.2+ds-1~jammy0_amd64.deb ...\n",
            "Unpacking libpdal-plugin-e57 (2.6.2+ds-1~jammy0) ...\n",
            "Selecting previously unselected package libpdal-plugin-faux.\n",
            "Preparing to unpack .../10-libpdal-plugin-faux_2.6.2+ds-1~jammy0_amd64.deb ...\n",
            "Unpacking libpdal-plugin-faux (2.6.2+ds-1~jammy0) ...\n",
            "Selecting previously unselected package libpdal-plugin-hdf.\n",
            "Preparing to unpack .../11-libpdal-plugin-hdf_2.6.2+ds-1~jammy0_amd64.deb ...\n",
            "Unpacking libpdal-plugin-hdf (2.6.2+ds-1~jammy0) ...\n",
            "Selecting previously unselected package libpdal-plugin-icebridge.\n",
            "Preparing to unpack .../12-libpdal-plugin-icebridge_2.6.2+ds-1~jammy0_amd64.deb ...\n",
            "Unpacking libpdal-plugin-icebridge (2.6.2+ds-1~jammy0) ...\n",
            "Selecting previously unselected package libpdal-plugin-pgpointcloud.\n",
            "Preparing to unpack .../13-libpdal-plugin-pgpointcloud_2.6.2+ds-1~jammy0_amd64.deb ...\n",
            "Unpacking libpdal-plugin-pgpointcloud (2.6.2+ds-1~jammy0) ...\n",
            "Selecting previously unselected package libpdal-plugins.\n",
            "Preparing to unpack .../14-libpdal-plugins_2.6.2+ds-1~jammy0_amd64.deb ...\n",
            "Unpacking libpdal-plugins (2.6.2+ds-1~jammy0) ...\n",
            "Selecting previously unselected package proj-bin.\n",
            "Preparing to unpack .../15-proj-bin_9.3.1-1~jammy0_amd64.deb ...\n",
            "Unpacking proj-bin (9.3.1-1~jammy0) ...\n",
            "Setting up libpdal16 (2.6.2+ds-1~jammy0) ...\n",
            "Setting up libpdal-plugin-faux (2.6.2+ds-1~jammy0) ...\n",
            "Setting up proj-bin (9.3.1-1~jammy0) ...\n",
            "Setting up grass-doc (8.4.1-1~jammy2) ...\n",
            "Setting up libpdal-plugin-e57 (2.6.2+ds-1~jammy0) ...\n",
            "Setting up python3-numpy (1:1.21.5-1ubuntu22.04.1) ...\n",
            "Setting up libfftw3-double3:amd64 (3.3.8-2ubuntu8) ...\n",
            "Setting up libpdal-plugin-pgpointcloud (2.6.2+ds-1~jammy0) ...\n",
            "Setting up libpdal-plugin-icebridge (2.6.2+ds-1~jammy0) ...\n",
            "Setting up libglu1-mesa:amd64 (9.0.2-1) ...\n",
            "Setting up python3-gdal (3.8.4+dfsg-1~jammy0) ...\n",
            "Setting up libpdal-plugin-hdf (2.6.2+ds-1~jammy0) ...\n",
            "Setting up grass-core (8.4.1-1~jammy2) ...\n",
            "Setting up libpdal-plugins (2.6.2+ds-1~jammy0) ...\n",
            "Setting up gdal-bin (3.8.4+dfsg-1~jammy0) ...\n",
            "Setting up grass-dev (8.4.1-1~jammy2) ...\n",
            "Processing triggers for libc-bin (2.35-0ubuntu3.8) ...\n",
            "/sbin/ldconfig.real: /usr/local/lib/libtbbmalloc_proxy.so.2 is not a symbolic link\n",
            "\n",
            "/sbin/ldconfig.real: /usr/local/lib/libtcm.so.1 is not a symbolic link\n",
            "\n",
            "/sbin/ldconfig.real: /usr/local/lib/libtbbmalloc.so.2 is not a symbolic link\n",
            "\n",
            "/sbin/ldconfig.real: /usr/local/lib/libtbbbind.so.3 is not a symbolic link\n",
            "\n",
            "/sbin/ldconfig.real: /usr/local/lib/libtcm_debug.so.1 is not a symbolic link\n",
            "\n",
            "/sbin/ldconfig.real: /usr/local/lib/libumf.so.0 is not a symbolic link\n",
            "\n",
            "/sbin/ldconfig.real: /usr/local/lib/libur_adapter_level_zero.so.0 is not a symbolic link\n",
            "\n",
            "/sbin/ldconfig.real: /usr/local/lib/libhwloc.so.15 is not a symbolic link\n",
            "\n",
            "/sbin/ldconfig.real: /usr/local/lib/libur_loader.so.0 is not a symbolic link\n",
            "\n",
            "/sbin/ldconfig.real: /usr/local/lib/libur_adapter_opencl.so.0 is not a symbolic link\n",
            "\n",
            "/sbin/ldconfig.real: /usr/local/lib/libtbbbind_2_0.so.3 is not a symbolic link\n",
            "\n",
            "/sbin/ldconfig.real: /usr/local/lib/libtbbbind_2_5.so.3 is not a symbolic link\n",
            "\n",
            "/sbin/ldconfig.real: /usr/local/lib/libtbb.so.12 is not a symbolic link\n",
            "\n",
            "Processing triggers for man-db (2.10.2-1) ...\n",
            "Processing triggers for mailcap (3.70+nmu1ubuntu1) ...\n",
            "Processing triggers for hicolor-icon-theme (0.17-2) ...\n"
          ]
        }
      ],
      "source": [
        "!add-apt-repository -y ppa:ubuntugis/ubuntugis-unstable\n",
        "!apt update\n",
        "!apt-get install -y grass-core grass-dev"
      ]
    },
    {
      "cell_type": "markdown",
      "source": [
        "We can check GRASS installed and see what version we have using:"
      ],
      "metadata": {
        "id": "B0tAqgcoqi68"
      }
    },
    {
      "cell_type": "code",
      "execution_count": 2,
      "metadata": {
        "id": "b0nWFlZfp_I4",
        "outputId": "71562bac-9153-4745-b167-a31d81c1b537",
        "colab": {
          "base_uri": "https://localhost:8080/"
        }
      },
      "outputs": [
        {
          "output_type": "stream",
          "name": "stdout",
          "text": [
            "GRASS GIS 8.4.1\n",
            "Geographic Resources Analysis Support System (GRASS) is Copyright,\n",
            "1999-2025 by the GRASS Development Team, and licensed under terms of the\n",
            "GNU General Public License (GPL) version >=2.\n",
            "\n",
            "This GRASS GIS 8.4.1 release is coordinated and produced by\n",
            "the GRASS Development Team with contributions from all over the world.\n",
            "\n",
            "This program is distributed in the hope that it will be useful, but\n",
            "WITHOUT ANY WARRANTY; without even the implied warranty of\n",
            "MERCHANTABILITY or FITNESS FOR A PARTICULAR PURPOSE.  See the GNU\n",
            "General Public License for more details.\n"
          ]
        }
      ],
      "source": [
        "!grass --version"
      ]
    },
    {
      "cell_type": "code",
      "source": [
        "!git clone https://github.com/ncsu-geoforall-lab/geomorphometry2025_workshop.git"
      ],
      "metadata": {
        "id": "SQTRDYHTR_nr",
        "outputId": "0cae72e0-0f6f-40ce-850c-7992e7df4c29",
        "colab": {
          "base_uri": "https://localhost:8080/"
        }
      },
      "execution_count": 3,
      "outputs": [
        {
          "output_type": "stream",
          "name": "stdout",
          "text": [
            "Cloning into 'geomorphometry2025_workshop'...\n",
            "remote: Enumerating objects: 222, done.\u001b[K\n",
            "remote: Counting objects: 100% (222/222), done.\u001b[K\n",
            "remote: Compressing objects: 100% (160/160), done.\u001b[K\n",
            "remote: Total 222 (delta 88), reused 160 (delta 46), pack-reused 0 (from 0)\u001b[K\n",
            "Receiving objects: 100% (222/222), 17.22 MiB | 19.28 MiB/s, done.\n",
            "Resolving deltas: 100% (88/88), done.\n"
          ]
        }
      ]
    },
    {
      "cell_type": "markdown",
      "metadata": {
        "id": "_LKJ0SH1qEC5"
      },
      "source": [
        "<a name=\"start\"></a>\n",
        "\n",
        "---\n",
        "\n",
        "## Create a New GRASS Project and Start GRASS\n",
        "\n",
        "First, let's import all the Python libraries we'll need."
      ]
    },
    {
      "cell_type": "code",
      "source": [
        "import sys\n",
        "import subprocess\n",
        "import pandas as pd\n",
        "from IPython.display import display\n",
        "from ipyleaflet import WMSLayer, Marker"
      ],
      "metadata": {
        "id": "FTe6eY2wr9M_"
      },
      "execution_count": 4,
      "outputs": []
    },
    {
      "cell_type": "markdown",
      "source": [
        "**Importing the GRASS Python API**\n",
        "\n",
        "We are going to import the GRASS Python API (`grass.script`) and the GRASS Jupyter package (`grass.jupyter`). But first, we'll need to ask `grass` to check it's `--config` to see where the python packages are then add them to the system path before we can import them.\n",
        "\n",
        "We use `subprocess.check_output` to find the path and `sys.path.append` to add it to the path."
      ],
      "metadata": {
        "id": "4wQNGgT0sfDB"
      }
    },
    {
      "cell_type": "code",
      "source": [
        "sys.path.append(\n",
        "    subprocess.check_output([\"grass\", \"--config\", \"python_path\"], text=True).strip()\n",
        ")"
      ],
      "metadata": {
        "id": "aBLh05Q9tX5A"
      },
      "execution_count": 5,
      "outputs": []
    },
    {
      "cell_type": "markdown",
      "source": [
        "Then, we can import the Python API and GRASS Jupyter packages."
      ],
      "metadata": {
        "id": "DQ8t77aotas7"
      }
    },
    {
      "cell_type": "code",
      "execution_count": 6,
      "metadata": {
        "id": "-rt2BOvlqEU9"
      },
      "outputs": [],
      "source": [
        "import grass.script as gs\n",
        "import grass.jupyter as gj"
      ]
    },
    {
      "cell_type": "markdown",
      "metadata": {
        "id": "sgEejFFDqhSA"
      },
      "source": [
        "**Starting a New Project**\n",
        "\n",
        "Now, we create a new project called \"geomorphometry_workshop\". Projects are defined by a Coordinate Reference System (CRS). We can set the CRS from a georeferenced file (such as a Geotiff) or an EPSG string. Here, we use [EPSG 32632](https://epsg.io/32632), CRS WGS 84/UTM zone 32N (EPSG:32632)."
      ]
    },
    {
      "cell_type": "code",
      "execution_count": 7,
      "metadata": {
        "id": "XTy8iOVdqc1K"
      },
      "outputs": [],
      "source": [
        "gs.create_project(\"geomorphometry_workshop\", epsg=\"32632\")"
      ]
    },
    {
      "cell_type": "markdown",
      "metadata": {
        "id": "kRHJ6HIEql_H"
      },
      "source": [
        "You should now see a new folder created called \"geomorphometry_workshop\". This will contain all of the data for our project and is organized by GRASS's native data format. This makes GRASS _fast_, _scalable_, and _avoids projection mismatches_.\n",
        "\n",
        "We start a GRASS session in our new project."
      ]
    },
    {
      "cell_type": "code",
      "execution_count": 8,
      "metadata": {
        "id": "439xOokMqnF7"
      },
      "outputs": [],
      "source": [
        "gj.init(\"geomorphometry_workshop\");"
      ]
    },
    {
      "cell_type": "markdown",
      "source": [
        "**Introducting the \"Computational Region\"**\n",
        "\n",
        "Finally, let's set our computational region using [`g.region`](https://grass.osgeo.org/grass85/manuals/g.region.html). The computational region will determine what data is imported from the cloud so we need to set it before continuing.\n",
        "\n",
        "Upon creating a project, the computational region is empty."
      ],
      "metadata": {
        "id": "6qzO8Irl6dkb"
      }
    },
    {
      "cell_type": "code",
      "source": [
        "print(gs.read_command(\"g.region\", flags=\"p\"))"
      ],
      "metadata": {
        "id": "FQji15NOt6bd",
        "outputId": "a0ac2de1-f652-47d7-f738-eb731149a04b",
        "colab": {
          "base_uri": "https://localhost:8080/"
        }
      },
      "execution_count": 9,
      "outputs": [
        {
          "output_type": "stream",
          "name": "stdout",
          "text": [
            "projection: 1 (UTM)\n",
            "zone:       32\n",
            "datum:      wgs84\n",
            "ellipsoid:  wgs84\n",
            "north:      1\n",
            "south:      0\n",
            "west:       0\n",
            "east:       1\n",
            "nsres:      1\n",
            "ewres:      1\n",
            "rows:       1\n",
            "cols:       1\n",
            "cells:      1\n",
            "\n"
          ]
        }
      ]
    },
    {
      "cell_type": "markdown",
      "source": [
        "There are lots of ways to set the computional region, from a georeferenced file or existing data layer to relative operations grow which adds cells around the previous region. Here, we set our computational region with coordinates and set the resolution to 10 meters."
      ],
      "metadata": {
        "id": "4rRRRhMU7Gkp"
      }
    },
    {
      "cell_type": "code",
      "execution_count": 10,
      "metadata": {
        "id": "H-rct63En1fm",
        "outputId": "fc404f81-dbd6-474c-8bab-3706c5c59e6d",
        "colab": {
          "base_uri": "https://localhost:8080/"
        }
      },
      "outputs": [
        {
          "output_type": "stream",
          "name": "stdout",
          "text": [
            "projection: 1 (UTM)\n",
            "zone:       32\n",
            "datum:      wgs84\n",
            "ellipsoid:  wgs84\n",
            "north:      4779210\n",
            "south:      4778120\n",
            "west:       779180\n",
            "east:       780630\n",
            "nsres:      10\n",
            "ewres:      10\n",
            "rows:       109\n",
            "cols:       145\n",
            "cells:      15805\n",
            "\n"
          ]
        }
      ],
      "source": [
        "aoi_bbox = {\n",
        "\t\"north\": 4779210,\n",
        "\t\"south\": 4778120,\n",
        "\t\"west\": 779180,\n",
        "\t\"east\": 780630\n",
        "}\n",
        "\n",
        "print(\n",
        "    gs.read_command(\n",
        "        \"g.region\", n=aoi_bbox[\"north\"], s=aoi_bbox[\"south\"], e=aoi_bbox[\"east\"], w=aoi_bbox[\"west\"], res=10, flags=\"p\"\n",
        "    )\n",
        ")"
      ]
    },
    {
      "cell_type": "markdown",
      "source": [
        "<a name=\"data\"></a>\n",
        "\n",
        "---\n",
        "\n",
        "## Download and Import Data\n",
        "\n",
        "Right now, our project has no data in it:"
      ],
      "metadata": {
        "id": "l3fi898rt9u_"
      }
    },
    {
      "cell_type": "code",
      "source": [
        "gs.read_command(\"g.list\", type=\"all\")"
      ],
      "metadata": {
        "id": "2-eBoje5ekLP",
        "outputId": "e3f28026-e810-4594-a9db-a523fbbb16a4",
        "colab": {
          "base_uri": "https://localhost:8080/",
          "height": 35
        }
      },
      "execution_count": 11,
      "outputs": [
        {
          "output_type": "execute_result",
          "data": {
            "text/plain": [
              "''"
            ],
            "application/vnd.google.colaboratory.intrinsic+json": {
              "type": "string"
            }
          },
          "metadata": {},
          "execution_count": 11
        }
      ]
    },
    {
      "cell_type": "markdown",
      "source": [
        "We're going to use a DEM from the TINItaly dataset. Let's get an overview of the dataset using a quick WMS visualization.\n",
        "\n",
        "First, let's create some WMSLayers:"
      ],
      "metadata": {
        "id": "NYR2yRlGecm-"
      }
    },
    {
      "cell_type": "code",
      "execution_count": 12,
      "metadata": {
        "id": "An9Ar8iVn1fn"
      },
      "outputs": [],
      "source": [
        "tinitaly_wms = WMSLayer(\n",
        "    name=\"TINItaly_1.1 HSV (WMS)\",\n",
        "    url=\"http://tinitaly.pi.ingv.it/TINItaly_1_1/wms?service=WMS\",\n",
        "    layers=\"TINItaly_1.1:tinitaly_hsv\",\n",
        "    format=\"image/png\",\n",
        "    transparent=True,\n",
        "    attribution=\"HSV Elevation Data © 2023 TINItaly 1.1\",\n",
        ")\n",
        "\n",
        "tinitaly_slope = WMSLayer(\n",
        "    name=\"TINItaly_1.1 Slope (WMS)\",\n",
        "    url=\"http://tinitaly.pi.ingv.it/TINItaly_1_1/wms?service=WMS\",\n",
        "    layers=\"TINItaly_1.1:tinitaly_slope\",\n",
        "    format=\"image/png\",\n",
        "    transparent=True,\n",
        "    attribution=\"Slope Data © 2023 TINItaly 1.1\",\n",
        ")\n",
        "\n",
        "nasa_wms = WMSLayer(\n",
        "    name=\"NASA SRTM RAMP2 TOPO (WMS)\",\n",
        "    url=\"https://neo.gsfc.nasa.gov/wms/wms?service=WMS\",\n",
        "    layers=\"SRTM_RAMP2_TOPO\",\n",
        "    format=\"image/png\",\n",
        "    transparent=True,\n",
        "    styles=\"rgb\",\n",
        "    attribution=\"SRTM RAMP2 TOPO © 2025 NASA \",\n",
        ")\n",
        "\n",
        "perugia = Marker(\n",
        "    name=\"Perugia (Marker)\",\n",
        "    location=(43.11203, 12.38914),\n",
        "    draggable=False,\n",
        "    title=\"Perugia\",\n",
        "    alt=\"Perugia\",\n",
        "    # icon=\"fa-flag\",\n",
        ")"
      ]
    },
    {
      "cell_type": "markdown",
      "source": [
        "And create a vector box of our region to add:"
      ],
      "metadata": {
        "id": "tX_ynwJaAu2K"
      }
    },
    {
      "cell_type": "code",
      "source": [
        "gs.run_command(\"v.in.region\", output=\"region\")"
      ],
      "metadata": {
        "id": "MDOU5h8jAzgh"
      },
      "execution_count": 13,
      "outputs": []
    },
    {
      "cell_type": "code",
      "source": [
        "nasa_basemap = \"NASAGIBS BlueMarble\"\n",
        "m = gj.InteractiveMap(height=600, width=800, tiles=nasa_basemap, use_region=True)\n",
        "m.map.add(tinitaly_wms)\n",
        "m.map.add(tinitaly_slope)\n",
        "m.map.add(nasa_wms)\n",
        "m.map.add(perugia)\n",
        "m.add_vector(\"region\")\n",
        "m.add_layer_control()\n",
        "m.map.zoom = 6\n",
        "m.map.center = (43.11203, 12.38914)\n",
        "display(m.show())"
      ],
      "metadata": {
        "id": "6GtYKn9vvKOu",
        "outputId": "5a1f5949-ea2f-409c-bf6e-97a9464b6000",
        "colab": {
          "base_uri": "https://localhost:8080/",
          "height": 621,
          "referenced_widgets": [
            "d19f3dd8bd384d92a76389ba68272c61",
            "a1a7eedf38ae42daa0b359ee6c92f9dd",
            "28b614fa5a5c4b608db1c6eeffe06048",
            "5f94bb560345411885d26b7e4f6c2616",
            "d8cd72fd43b949c9b9b0b9ec928c4ab0",
            "db7a5c635b484f6da92d332cf6609869",
            "25ba8a59a51c45d2bda2abd36f4094d9",
            "ef5c2feedc2d4b9f9f7872d285070e74",
            "9c270f3db372430baefe0199752eb32d",
            "3ca7f213abad425083ff369b5d944007",
            "262fa4a324484357bcc2926903048baa",
            "81cbc116b2d0469c917bf77aea25aa6f",
            "c2023728b65c4901b9ec70044bac1e3e",
            "c19af46f6aee41ea9569df5b73bf0123"
          ]
        }
      },
      "execution_count": 14,
      "outputs": [
        {
          "output_type": "display_data",
          "data": {
            "text/plain": [
              "Map(center=[43.11203, 12.38914], controls=(ZoomControl(options=['position', 'zoom_in_text', 'zoom_in_title', '…"
            ],
            "application/vnd.jupyter.widget-view+json": {
              "version_major": 2,
              "version_minor": 0,
              "model_id": "d19f3dd8bd384d92a76389ba68272c61"
            }
          },
          "metadata": {
            "application/vnd.jupyter.widget-view+json": {
              "colab": {
                "custom_widget_manager": {
                  "url": "https://ssl.gstatic.com/colaboratory-static/widgets/colab-cdn-widget-manager/2b70e893a8ba7c0f/manager.min.js"
                }
              }
            }
          }
        }
      ]
    },
    {
      "cell_type": "markdown",
      "metadata": {
        "id": "6Brb8lDIu-ss"
      },
      "source": [
        "Now we can import our DEM. We will use the [r.import](https://grass.osgeo.org/manuals/grass85/r.import.html) command to import a DEM file. The DEM file is a [Cloud Optimized GeoTIFF (COG)](https://cogeo.org/), and we will specify the output name as \"dem\". *r.import* will automatically reproject the DEM to the project's CRS."
      ]
    },
    {
      "cell_type": "code",
      "execution_count": 15,
      "metadata": {
        "id": "Uin3L-xGu-st"
      },
      "outputs": [],
      "source": [
        "gs.run_command(\n",
        "    \"r.import\",\n",
        "    input=\"https://storage.googleapis.com/geomorphometry/w47575_s10.cog.tif\",\n",
        "    output=\"dem\",\n",
        "    title=\"TINItaly DEM 10m\",\n",
        "    resample=\"bicubic_f\",\n",
        "    resolution=\"region\",\n",
        "    extent=\"region\",\n",
        "    overwrite=True,\n",
        ")"
      ]
    },
    {
      "cell_type": "markdown",
      "source": [
        "Let's get some basic information about our DEM. We'll use the [`r.info`](https://grass.osgeo.org/grass85/manuals/r.info.html) and [`r.univar`](https://grass.osgeo.org/grass85/manuals/r.univar.html) tools to get the rasters metadata and univariate statistics respectively."
      ],
      "metadata": {
        "id": "VdPTNn0pOgRA"
      }
    },
    {
      "cell_type": "code",
      "execution_count": 16,
      "metadata": {
        "id": "-LVtL1ARn1fp",
        "outputId": "66c9ccba-c31d-49db-e7ce-c097f158ce1d",
        "colab": {
          "base_uri": "https://localhost:8080/"
        }
      },
      "outputs": [
        {
          "output_type": "stream",
          "name": "stdout",
          "text": [
            " +----------------------------------------------------------------------------+\n",
            " | Map:      dem                            Date: Mon Jun  2 16:19:14 2025    |\n",
            " | Mapset:   PERMANENT                      Login of Creator: root            |\n",
            " | Project:  geomorphometry_workshop                                          |\n",
            " | DataBase: /content                                                         |\n",
            " | Title:                                                                     |\n",
            " | Timestamp: none                                                            |\n",
            " |----------------------------------------------------------------------------|\n",
            " |                                                                            |\n",
            " |   Type of Map:  raster               Number of Categories: 0               |\n",
            " |   Data Type:    FCELL                Semantic label: (none)                |\n",
            " |   Rows:         109                                                        |\n",
            " |   Columns:      145                                                        |\n",
            " |   Total Cells:  15805                                                      |\n",
            " |        Projection: UTM (zone 32)                                           |\n",
            " |            N:    4779210    S:    4778120   Res:    10                     |\n",
            " |            E:     780630    W:     779180   Res:    10                     |\n",
            " |   Range of data:    min = 184.8589  max = 361.8496                         |\n",
            " |                                                                            |\n",
            " |   Data Description:                                                        |\n",
            " |    generated by r.proj                                                     |\n",
            " |                                                                            |\n",
            " |   Comments:                                                                |\n",
            " |    r.proj --quiet project=\"tmp_r_import_location_4760bdaf522a_2921\" map\\   |\n",
            " |    set=\"PERMANENT\" input=\"dem\" method=\"bicubic_f\" memory=300               |\n",
            " |                                                                            |\n",
            " +----------------------------------------------------------------------------+\n",
            "\n",
            "\n"
          ]
        }
      ],
      "source": [
        "print(gs.read_command(\"r.info\", map=\"dem\"))"
      ]
    },
    {
      "cell_type": "markdown",
      "source": [
        "**Try it yourself!**\n",
        "\n",
        "Using the cell above as a template, compute the univariate statistics using [`r.univar`](https://grass.osgeo.org/grass85/manuals/r.univar.html)."
      ],
      "metadata": {
        "id": "OQcUYIEwPHE8"
      }
    },
    {
      "cell_type": "code",
      "execution_count": 16,
      "metadata": {
        "id": "NehlbQUIn1fq"
      },
      "outputs": [],
      "source": []
    },
    {
      "cell_type": "markdown",
      "source": [
        "<details>\n",
        "    <summary>👉 <b>click to see hint</b></summary>\n",
        "  \n",
        "Run `!r.univar --help` to see the paramters.\n",
        "</details>\n"
      ],
      "metadata": {
        "id": "T9aycYpPPeli"
      }
    },
    {
      "cell_type": "markdown",
      "source": [
        "<details>\n",
        "    <summary>👉 <b>click to see solution</b></summary>\n",
        "    \n",
        "```python\n",
        "print(gs.read_command(\"r.univar\", map=\"dem\", flags=\"e\"))\n",
        "```\n",
        "</details>\n"
      ],
      "metadata": {
        "id": "rr4UGMhGPc-D"
      }
    },
    {
      "cell_type": "code",
      "execution_count": 17,
      "metadata": {
        "id": "EXU8qNPNu-st",
        "outputId": "c0d53032-18ff-4359-fcb0-53d02ab17549",
        "colab": {
          "base_uri": "https://localhost:8080/",
          "height": 517
        }
      },
      "outputs": [
        {
          "output_type": "execute_result",
          "data": {
            "image/png": "[encoded data removed]",
            "text/plain": [
              "<IPython.core.display.Image object>"
            ]
          },
          "metadata": {},
          "execution_count": 17
        }
      ],
      "source": [
        "m = gj.Map(use_region=True, height=500, width=800)\n",
        "m.d_rast(map=\"dem\")\n",
        "m.d_legend(raster=\"dem\", flags=\"bds\", at=\"9,60,90,93\", fontsize=16)\n",
        "m.d_barscale(at=\"61,6\", fontsize=16, flags=\"n\")\n",
        "m.show()"
      ]
    },
    {
      "cell_type": "markdown",
      "source": [
        "Compute some other common DEM derivatives: shaded relief, slope and aspect."
      ],
      "metadata": {
        "id": "r4SCxsdtQYR5"
      }
    },
    {
      "cell_type": "code",
      "source": [
        "gs.run_command(\"r.relief\", input=\"dem\", output=\"relief\", scale=1, zscale=1)"
      ],
      "metadata": {
        "id": "91oAMm7NQiXv"
      },
      "execution_count": 18,
      "outputs": []
    },
    {
      "cell_type": "code",
      "execution_count": 19,
      "metadata": {
        "id": "Vmr5JgYJn1fr",
        "outputId": "8f6eda94-3125-41bf-9708-880206c7f628",
        "colab": {
          "base_uri": "https://localhost:8080/",
          "height": 517
        }
      },
      "outputs": [
        {
          "output_type": "execute_result",
          "data": {
            "image/png": "[encoded data removed]",
            "text/plain": [
              "<IPython.core.display.Image object>"
            ]
          },
          "metadata": {},
          "execution_count": 19
        }
      ],
      "source": [
        "m = gj.Map(use_region=True, height=500, width=800)\n",
        "m.d_shade(shade=\"relief\", color=\"dem\", brighten=30)\n",
        "m.d_legend(raster=\"dem\", flags=\"bds\", at=\"9,60,90,93\", fontsize=16)\n",
        "m.d_barscale(at=\"60,6\", fontsize=16, flags=\"n\")\n",
        "m.show()\n"
      ]
    },
    {
      "cell_type": "markdown",
      "source": [
        "**Try it yourself!**\n",
        "\n",
        "Compute and display the slope and aspect using [`r.slope.aspect`](https://grass.osgeo.org/grass85/manuals/r.slope.aspect.html). Try changing the color map for the slope raster using [`r.colors`](https://grass.osgeo.org/grass85/manuals/r.colors.html). _Bonus Challenge_: Can you add a legend to your visualization with a histogram showing the range of slope values?"
      ],
      "metadata": {
        "id": "Y4m0lQgTfahF"
      }
    },
    {
      "cell_type": "code",
      "execution_count": 19,
      "metadata": {
        "id": "nssi0LPJfahF"
      },
      "outputs": [],
      "source": []
    },
    {
      "cell_type": "markdown",
      "source": [
        "<details>\n",
        "    <summary>👉 <b>click to see hint</b></summary>\n",
        "  \n",
        "Looking at the manual for r.slope.aspect, your code should be formatted like:\n",
        "\n",
        "```python\n",
        "gs.run_command(\"r.slope.aspect\", elevation=.., slope=.., aspect=..)\n",
        "```\n",
        "\n",
        "To get the legend and histogram, look at the flag options in `d.legend`. Remember that `d.legend` can be called by `grass.jupyter.Map()` with `m.d_legend()`. See above for examples.\n",
        "\n",
        "</details>\n"
      ],
      "metadata": {
        "id": "66wzczF0fahG"
      }
    },
    {
      "cell_type": "markdown",
      "source": [
        "<details>\n",
        "    <summary>👉 <b>click to see solution</b></summary>\n",
        "    \n",
        "```python\n",
        "gs.run_command(\"r.slope.aspect\", elevation=\"dem\", slope=\"slope\", aspect=\"aspect\")\n",
        "\n",
        "gs.run_command(\"r.colors\", map=\"slope\", color=\"sepia\", flags=\"e\")\n",
        "\n",
        "m = gj.Map(use_region=True)\n",
        "m.d_rast(map=\"slope\")\n",
        "m.d_legend(raster=\"slope\", flags=\"bds\")\n",
        "m.show()\n",
        "```\n",
        "\n",
        "And for aspect:\n",
        "\n",
        "```python\n",
        "m = gj.Map(use_region=True)\n",
        "m.d_rast(map=\"aspect\")\n",
        "m.d_legend(raster=\"aspect\", flags=\"bds\")\n",
        "m.show()\n",
        "```\n",
        "</details>\n"
      ],
      "metadata": {
        "id": "JAeylwa9fahG"
      }
    },
    {
      "cell_type": "markdown",
      "metadata": {
        "id": "MLHG6TQnu-st"
      },
      "source": [
        "Since we're going to interpolate surfaces from points, we'll randomly sample points from the DEM. We could think of these as LiDAR points or ground sampled points."
      ]
    },
    {
      "cell_type": "code",
      "execution_count": 20,
      "metadata": {
        "id": "zNtDGNbYu-su"
      },
      "outputs": [],
      "source": [
        "gs.run_command(\"r.random\", input=\"dem\", vector=\"elev_points\", n=500, flags=\"s\")"
      ]
    },
    {
      "cell_type": "markdown",
      "source": [
        "Now, visualize the points."
      ],
      "metadata": {
        "id": "5BZm3M8aNDM8"
      }
    },
    {
      "cell_type": "code",
      "execution_count": 21,
      "metadata": {
        "id": "xnE1q0GZGMK_",
        "outputId": "89ec4aeb-79d8-43ca-f20b-a819de416b3d",
        "colab": {
          "base_uri": "https://localhost:8080/",
          "height": 617
        }
      },
      "outputs": [
        {
          "output_type": "execute_result",
          "data": {
            "image/png": "[encoded data removed]",
            "text/plain": [
              "<IPython.core.display.Image object>"
            ]
          },
          "metadata": {},
          "execution_count": 21
        }
      ],
      "source": [
        "m = gj.Map(use_region=True, height=600, width=800)\n",
        "m.d_shade(shade=\"relief\", color=\"dem\", brighten=30)\n",
        "m.d_vect(map=\"elev_points\", color=\"red\", fillcolor=\"red\", icon=\"basic/point\")\n",
        "m.d_legend(raster=\"dem\", flags=\"bds\", at=\"9,60,90,93\", fontsize=16)\n",
        "m.d_barscale(at=\"51,6\", fontsize=16, flags=\"n\")\n",
        "m.show()"
      ]
    },
    {
      "cell_type": "markdown",
      "metadata": {
        "id": "kxovvoKNu-su"
      },
      "source": [
        "<a name=\"R\"></a>\n",
        "\n",
        "---\n",
        "\n",
        "## Conditional Gaussian Simulations in R\n",
        "\n",
        "To do our Conditional Gaussian simulations, we'll move to R. We're going to use the `rgrass` library to read and write data to/from GRASS and we'll use `gstat` to do simulate 100 DEMs."
      ]
    },
    {
      "cell_type": "markdown",
      "source": [
        "**Install and Import R LIbraries**\n",
        "\n",
        "First, load the rpy2 extension. rpy2 is an interface to R running embedded in a Python process allowing up to continue operating in our current Python session but cells in R. Fancy! This is only necessary here because we're using R from within our Python process. Check out [here](https://grass-tutorials.osgeo.org//content/tutorials/get_started/fast_track_grass_and_R.html) for an introduction for GRASS in R."
      ],
      "metadata": {
        "id": "FGZHJwtiCPGL"
      }
    },
    {
      "cell_type": "code",
      "execution_count": 22,
      "metadata": {
        "id": "PqBHxSwJrtbQ"
      },
      "outputs": [],
      "source": [
        "%load_ext rpy2.ipython"
      ]
    },
    {
      "cell_type": "markdown",
      "metadata": {
        "id": "aIEAQFhar2PB"
      },
      "source": [
        "Now, we can use the %%R cell magic. When this cell is interpreted, it's contents will be sent to R. We could also use line magic now with %R which would only send the line to R."
      ]
    },
    {
      "cell_type": "code",
      "execution_count": 23,
      "metadata": {
        "id": "OFi7JNApMZwj"
      },
      "outputs": [],
      "source": [
        "%%R\n",
        "system(\"apt-get install r-cran-sf r-cran-rgrass r-cran-gstat r-cran-terra r-cran-devtools r-cran-irkernel\")"
      ]
    },
    {
      "cell_type": "markdown",
      "source": [
        "We also need some other functions to help parameterize our Matern Covariance variogram. Dr. Corey White has drafted a package to help with this. We load it here:"
      ],
      "metadata": {
        "id": "IhAvLxBTRUtj"
      }
    },
    {
      "cell_type": "code",
      "execution_count": 24,
      "metadata": {
        "id": "tmxjnn4hxSkQ",
        "outputId": "6a30efbf-1d77-43e3-c176-3998582508db",
        "colab": {
          "base_uri": "https://localhost:8080/",
          "height": 486
        }
      },
      "outputs": [
        {
          "output_type": "stream",
          "name": "stdout",
          "text": [
            "ℹ Loading cgsSim\n",
            "ℹ The packages \"future\", \"future.apply\", and \"optparse\" are required.\n",
            "✖ Would you like to install them?\n",
            "\n",
            "1: Yes\n",
            "2: No\n",
            "\n",
            "Selection: Yes\n",
            "future       (NA -> 1.49.0) [CRAN]\n",
            "optparse     (NA -> 1.7.5 ) [CRAN]\n",
            "future.apply (NA -> 1.11.3) [CRAN]\n"
          ]
        },
        {
          "output_type": "display_data",
          "data": {
            "text/plain": [
              "Installing 3 packages: future, optparse, future.apply\n",
              "Installing packages into ‘/usr/local/lib/R/site-library’\n",
              "(as ‘lib’ is unspecified)\n",
              "also installing the dependencies ‘globals’, ‘listenv’, ‘parallelly’, ‘getopt’\n",
              "\n",
              "trying URL 'https://cran.rstudio.com/src/contrib/globals_0.18.0.tar.gz'\n",
              "trying URL 'https://cran.rstudio.com/src/contrib/listenv_0.9.1.tar.gz'\n",
              "trying URL 'https://cran.rstudio.com/src/contrib/parallelly_1.44.0.tar.gz'\n",
              "trying URL 'https://cran.rstudio.com/src/contrib/getopt_1.20.4.tar.gz'\n",
              "trying URL 'https://cran.rstudio.com/src/contrib/future_1.49.0.tar.gz'\n",
              "trying URL 'https://cran.rstudio.com/src/contrib/optparse_1.7.5.tar.gz'\n",
              "trying URL 'https://cran.rstudio.com/src/contrib/future.apply_1.11.3.tar.gz'\n",
              "\n",
              "The downloaded source packages are in\n",
              "\t‘/tmp/Rtmpk0GDV8/downloaded_packages’\n",
              "cgsSim 0.1.0\n"
            ]
          },
          "metadata": {}
        }
      ],
      "source": [
        "%%R\n",
        "devtools::load_all(\"geomorphometry2025_workshop/cgsSim/\")"
      ]
    },
    {
      "cell_type": "markdown",
      "metadata": {
        "id": "mr6_Azbgz1qj"
      },
      "source": [
        "Load other libraries."
      ]
    },
    {
      "cell_type": "code",
      "execution_count": 25,
      "metadata": {
        "id": "42WO1kDLu-sv",
        "outputId": "18d86b85-e640-4b70-d5f6-e345f50c593c",
        "colab": {
          "base_uri": "https://localhost:8080/",
          "height": 364
        }
      },
      "outputs": [
        {
          "output_type": "display_data",
          "data": {
            "text/plain": [
              "Linking to GEOS 3.12.1, GDAL 3.4.3, PROJ 8.2.1; sf_use_s2() is TRUE\n",
              "WARNING: different compile-time and runtime versions for GEOS found:\n",
              "Linked against: 3.12.1-CAPI-1.18.1 compiled against: 3.10.2-CAPI-1.16.0\n",
              "It is probably a good idea to reinstall sf (and maybe lwgeom too)\n",
              "terra 1.8.54\n",
              "WARNING: different compile-time and run-time versions of GEOS\n",
              "Compiled with:3.10.2-CAPI-1.16.0\n",
              " Running with:3.12.1-CAPI-1.18.1\n",
              "\n",
              "You should reinstall package 'terra'\n",
              "\n",
              "\n",
              "Attaching package: ‘terra’\n",
              "\n",
              "The following objects are masked from ‘package:testthat’:\n",
              "\n",
              "    compare, describe\n",
              "\n",
              "GRASS GIS interface loaded with GRASS version: GRASS 8.4.1 (2025)\n",
              "and location: geomorphometry_workshop\n"
            ]
          },
          "metadata": {}
        }
      ],
      "source": [
        "%%R\n",
        "library(sf)\n",
        "library(gstat)\n",
        "library(terra)\n",
        "library(rgrass)"
      ]
    },
    {
      "cell_type": "markdown",
      "metadata": {
        "id": "xIHt2cUUz5uV"
      },
      "source": [
        "**Create Empirical (sample) Variogram**\n",
        "\n",
        "Use readVECT from rgrass to turn the random elevation points into a [SpatVector](https://rdrr.io/cran/terra/man/SpatVector-class.html), the terra vector class."
      ]
    },
    {
      "cell_type": "code",
      "execution_count": 26,
      "metadata": {
        "id": "T3h2tF_Cu-sv",
        "outputId": "34c1b00a-3e4e-4bd3-8992-c55bc28eb927",
        "colab": {
          "base_uri": "https://localhost:8080/"
        }
      },
      "outputs": [
        {
          "output_type": "stream",
          "name": "stdout",
          "text": [
            "Exporting 500 features...\n",
            "   5%\b\b\b\b\b  11%\b\b\b\b\b  17%\b\b\b\b\b  23%\b\b\b\b\b  29%\b\b\b\b\b  35%\b\b\b\b\b  41%\b\b\b\b\b  47%\b\b\b\b\b  53%\b\b\b\b\b  59%\b\b\b\b\b  65%\b\b\b\b\b  71%\b\b\b\b\b  77%\b\b\b\b\b  83%\b\b\b\b\b  89%\b\b\b\b\b  95%\b\b\b\b\b 100%\b\b\b\b\b\n",
            "v.out.ogr complete. 500 features (Point type) written to <elev_points>\n",
            "(GPKG format).\n"
          ]
        }
      ],
      "source": [
        "%%R\n",
        "elev_points <- rgrass::read_VECT(\"elev_points\")"
      ]
    },
    {
      "cell_type": "markdown",
      "source": [
        "Compute the cutoff and width of the empirical variogram by using the maximum distance between two points. CITATION?"
      ],
      "metadata": {
        "id": "pnWeguQXXSII"
      }
    },
    {
      "cell_type": "code",
      "execution_count": 27,
      "metadata": {
        "id": "iQO3dLxvn1f4",
        "outputId": "db4a8879-69a4-42f7-91af-7cf0e9452659",
        "colab": {
          "base_uri": "https://localhost:8080/"
        }
      },
      "outputs": [
        {
          "output_type": "stream",
          "name": "stdout",
          "text": [
            "[1] \"Using cutoff: 583.503084824751 and width: 29.1751542412375\"\n"
          ]
        }
      ],
      "source": [
        "%%R\n",
        "\n",
        "coords <- terra::geom(elev_points)[, c(\"x\", \"y\")]\n",
        "dists <- as.matrix(dist(coords))\n",
        "max_dist <- max(dists)\n",
        "\n",
        "# By default, gstat uses a cutoff of \"the length of the diagonal of the box spanning the data is divided by three.\"\n",
        "# Try increasing this to 0.6 or 0.7:\n",
        "cutoff <- 0.33 * max_dist #<--Modify this coefficient\n",
        "\n",
        "width <- cutoff / 20\n",
        "print(paste(\"Using cutoff:\", cutoff, \"and width:\", width))"
      ]
    },
    {
      "cell_type": "markdown",
      "source": [
        "With the width and cutoff, we can computate the variogram. First, convert to random sample points to an `sf` dataframe since that is the input format for `gstat`."
      ],
      "metadata": {
        "id": "wPDuCS0bXv-N"
      }
    },
    {
      "cell_type": "code",
      "source": [
        "%%R\n",
        "elev_df <- terra::as.data.frame(elev_points, geom = \"XY\")\n",
        "g <- gstat::gstat(formula = value ~ x + y, locations = ~x + y, data = elev_df)\n",
        "vg <- gstat::variogram(g, cutoff=cutoff, width=width)\n",
        "\n",
        "\n",
        "plot(vg, main = \"Empirical Variogram of Elevation Points\")"
      ],
      "metadata": {
        "id": "4Ql5UOy0Qo4G",
        "outputId": "8ebd0576-348f-48b0-bc68-a0b1226958ba",
        "colab": {
          "base_uri": "https://localhost:8080/",
          "height": 497
        }
      },
      "execution_count": 28,
      "outputs": [
        {
          "output_type": "display_data",
          "data": {
            "image/png": "[encoded data removed]",
            "text/plain": [
              "<IPython.core.display.Image object>"
            ]
          },
          "metadata": {}
        }
      ]
    },
    {
      "cell_type": "markdown",
      "source": [
        "Now, we're going to fit a Matern Covariance function to the empirical variogram. First, we'll fit Kappa using `cgSim` library that Dr. Corey White has been working on. We pass the empirical variogram as the input."
      ],
      "metadata": {
        "id": "_dX7MXG2YF-h"
      }
    },
    {
      "cell_type": "code",
      "execution_count": 29,
      "metadata": {
        "id": "mEZu6Vxhn1f5",
        "outputId": "48154252-4369-48fc-9f70-9aa189aa21db",
        "colab": {
          "base_uri": "https://localhost:8080/"
        }
      },
      "outputs": [
        {
          "output_type": "stream",
          "name": "stdout",
          "text": [
            "$model\n",
            "  model      psill    range    kappa\n",
            "1   Nug   4.548204   0.0000 0.000000\n",
            "2   Mat 544.302815 129.4577 1.695719\n",
            "\n",
            "$kappa\n",
            "[1] 1.695719\n",
            "\n",
            "$SSErr\n",
            "[1] 55.46788\n",
            "\n"
          ]
        }
      ],
      "source": [
        "%%R\n",
        "# Fit kappa\n",
        "fit_kappa <- optimize_kappa(vg)\n",
        "fit_kappa"
      ]
    },
    {
      "cell_type": "code",
      "execution_count": 30,
      "metadata": {
        "id": "OyBTxBNrn1f5",
        "outputId": "6da89e85-56ac-4d28-af5f-9bb27c7112f7",
        "colab": {
          "base_uri": "https://localhost:8080/",
          "height": 497
        }
      },
      "outputs": [
        {
          "output_type": "display_data",
          "data": {
            "image/png": "[encoded data removed]",
            "text/plain": [
              "<IPython.core.display.Image object>"
            ]
          },
          "metadata": {}
        }
      ],
      "source": [
        "%%R\n",
        "plot(vg, model = fit_kappa$model, main = \"Empirical Variogram of Elevation Points\")"
      ]
    },
    {
      "cell_type": "markdown",
      "source": [
        "Let's see some information about our fitted variogram:"
      ],
      "metadata": {
        "id": "xGyPUaLoZw6N"
      }
    },
    {
      "cell_type": "code",
      "execution_count": 31,
      "metadata": {
        "id": "Df4_9Pwln1f6",
        "outputId": "56ed4318-0ff1-4ef2-9534-db27b06ee997",
        "colab": {
          "base_uri": "https://localhost:8080/"
        }
      },
      "outputs": [
        {
          "output_type": "stream",
          "name": "stdout",
          "text": [
            "$model\n",
            "  model      psill    range    kappa\n",
            "1   Nug   4.548204   0.0000 0.000000\n",
            "2   Mat 544.302815 129.4577 1.695719\n",
            "\n",
            "$kappa\n",
            "[1] 1.695719\n",
            "\n",
            "$SSErr\n",
            "[1] 55.46788\n",
            "\n"
          ]
        }
      ],
      "source": [
        "%%R\n",
        "head(fit_kappa)"
      ]
    },
    {
      "cell_type": "code",
      "execution_count": 32,
      "metadata": {
        "id": "ue9gA9Xcn1f7"
      },
      "outputs": [],
      "source": [
        "%%R\n",
        "vfit <- gstat::fit.variogram(vg, model = fit_kappa$model, fit.kappa = FALSE)"
      ]
    },
    {
      "cell_type": "markdown",
      "source": [
        "Time to interpolate our DEMs using the fitted variogram. We will only do 10 simulations since the process is computationally intensive but in the GitHub repo, we've included a set of 90 pre-computed simulations that we'll import after this for computed extracted stream uncertainty.\n",
        "\n",
        "Create a 10m resolution grid for prediction:\n",
        "\n",
        "TODO: Can it be less than 10m so that it runs faster? What about 30m?"
      ],
      "metadata": {
        "id": "l6qziZeAZ974"
      }
    },
    {
      "cell_type": "code",
      "execution_count": 33,
      "metadata": {
        "id": "ZorLUqPmn1f7"
      },
      "outputs": [],
      "source": [
        "%%R\n",
        "grid_ext <- terra::ext(elev_points)\n",
        "grid_res <- 10\n",
        "\n",
        "xy <- expand.grid(\n",
        "  x = seq(grid_ext[1], grid_ext[2], by = grid_res),\n",
        "  y = seq(grid_ext[3], grid_ext[4], by = grid_res)\n",
        ")"
      ]
    },
    {
      "cell_type": "markdown",
      "source": [
        "Run 2 stochastic conditional gaussian simulations, creating 10 DEMs. The `run_sim` tool is part of `cgSim` which uses `gstat::predict` on the backend.\n",
        "\n",
        "(This is taking ~2 hours to run on Colab. Perhaps we reduce the resolution?)"
      ],
      "metadata": {
        "id": "FZmQWghJbp0I"
      }
    },
    {
      "cell_type": "code",
      "source": [
        "%%R\n",
        "run_sim(\n",
        "  elev_df,\n",
        "  fitmodel = vfit, #fit_kappa$model\n",
        "  nsim = 2,\n",
        "  newdata=xy,\n",
        "  nmin = 10,\n",
        "  nmax = 40,\n",
        "  distmax = 1000,\n",
        ");"
      ],
      "metadata": {
        "id": "dVYWK-mPa7HB"
      },
      "execution_count": null,
      "outputs": []
    },
    {
      "cell_type": "markdown",
      "source": [
        "The `run_sim` function writes these rasters into GRASS. Use the GRASS R API to list the simulated rasters:"
      ],
      "metadata": {
        "id": "16a-zup9c8fy"
      }
    },
    {
      "cell_type": "code",
      "source": [
        "%%R\n",
        "execGRASS(\"g.list\", type=\"raster\", pattern=\"sgs_sim_*\")"
      ],
      "metadata": {
        "id": "9SPkXEUGc79C",
        "outputId": "e79b8b65-0dd2-49b2-b5ce-e2bd6c08350e",
        "colab": {
          "base_uri": "https://localhost:8080/"
        }
      },
      "execution_count": 35,
      "outputs": [
        {
          "output_type": "stream",
          "name": "stdout",
          "text": [
            "sgs_sim_1\n",
            "sgs_sim_2\n"
          ]
        }
      ]
    },
    {
      "cell_type": "markdown",
      "source": [
        "Let's rename them so that we can import the other 100 pre-computed runs without any name conflicts."
      ],
      "metadata": {
        "id": "7lWc_4YUvero"
      }
    },
    {
      "cell_type": "code",
      "source": [
        "!g.rename raster=sgs_sim_1,sgs_sim_1_test"
      ],
      "metadata": {
        "id": "R3xGlFy7-AkL",
        "outputId": "82dbdf22-d3cc-4811-8089-e62e10d9defa",
        "colab": {
          "base_uri": "https://localhost:8080/"
        }
      },
      "execution_count": 37,
      "outputs": [
        {
          "output_type": "stream",
          "name": "stdout",
          "text": [
            "Rename raster <sgs_sim_1> to <sgs_sim_1_test>\n"
          ]
        }
      ]
    },
    {
      "cell_type": "code",
      "source": [
        "!g.rename raster=sgs_sim_2,sgs_sim_2_test"
      ],
      "metadata": {
        "id": "87-RQu35-LGo",
        "outputId": "0ddf3a02-3fe3-4d29-c366-b80c4ea21350",
        "colab": {
          "base_uri": "https://localhost:8080/"
        }
      },
      "execution_count": 38,
      "outputs": [
        {
          "output_type": "stream",
          "name": "stdout",
          "text": [
            "Rename raster <sgs_sim_2> to <sgs_sim_2_test>\n"
          ]
        }
      ]
    },
    {
      "cell_type": "markdown",
      "source": [
        "Import the pre-computed simulations:"
      ],
      "metadata": {
        "id": "JXSVT24KdKZS"
      }
    },
    {
      "cell_type": "code",
      "source": [
        "%%R\n",
        "execGRASS(\"r.unpack\", input=\"geomorphometry2025_workshop/runs.pack\")"
      ],
      "metadata": {
        "id": "C3kstF0ydS6I",
        "outputId": "e3029f13-207f-43a2-a797-35634aeacda7",
        "colab": {
          "base_uri": "https://localhost:8080/"
        }
      },
      "execution_count": 40,
      "outputs": [
        {
          "output_type": "stream",
          "name": "stdout",
          "text": [
            "Raster map <sgs_sim_100> unpacked\n"
          ]
        }
      ]
    },
    {
      "cell_type": "code",
      "source": [
        "%%R\n",
        "execGRASS(\"g.list\", type=\"raster\", pattern=\"sgs_sim_*\")"
      ],
      "metadata": {
        "id": "te94BvFbujYb",
        "outputId": "925eb005-e36c-4e93-a95a-d1cc5490cea0",
        "colab": {
          "base_uri": "https://localhost:8080/"
        }
      },
      "execution_count": 41,
      "outputs": [
        {
          "output_type": "stream",
          "name": "stdout",
          "text": [
            "sgs_sim_100\n",
            "sgs_sim_1_test\n",
            "sgs_sim_2_test\n"
          ]
        }
      ]
    },
    {
      "cell_type": "markdown",
      "metadata": {
        "id": "lKimq4hCIGdp"
      },
      "source": [
        "Calculate the mean and standard deviation of the simulatate surfaces"
      ]
    },
    {
      "cell_type": "code",
      "execution_count": 42,
      "metadata": {
        "id": "fdll8cu0IFYd",
        "outputId": "949ed45d-1202-48f1-dbc9-57c166522465",
        "colab": {
          "base_uri": "https://localhost:8080/"
        }
      },
      "outputs": [
        {
          "output_type": "stream",
          "name": "stdout",
          "text": [
            "   0%\b\b\b\b\b   3%\b\b\b\b\b   6%\b\b\b\b\b   9%\b\b\b\b\b  12%\b\b\b\b\b  15%\b\b\b\b\b  18%\b\b\b\b\b  21%\b\b\b\b\b  24%\b\b\b\b\b  27%\b\b\b\b\b  30%\b\b\b\b\b  33%\b\b\b\b\b  36%\b\b\b\b\b  39%\b\b\b\b\b  42%\b\b\b\b\b  45%\b\b\b\b\b  48%\b\b\b\b\b  51%\b\b\b\b\b  54%\b\b\b\b\b  57%\b\b\b\b\b  60%\b\b\b\b\b  63%\b\b\b\b\b  66%\b\b\b\b\b  69%\b\b\b\b\b  72%\b\b\b\b\b  75%\b\b\b\b\b  78%\b\b\b\b\b  81%\b\b\b\b\b  84%\b\b\b\b\b  87%\b\b\b\b\b  90%\b\b\b\b\b  93%\b\b\b\b\b  96%\b\b\b\b\b  99%\b\b\b\b\b 100%\b\b\b\b\b\n",
            "   0%\b\b\b\b\b   3%\b\b\b\b\b   6%\b\b\b\b\b   9%\b\b\b\b\b  12%\b\b\b\b\b  15%\b\b\b\b\b  18%\b\b\b\b\b  21%\b\b\b\b\b  24%\b\b\b\b\b  27%\b\b\b\b\b  30%\b\b\b\b\b  33%\b\b\b\b\b  36%\b\b\b\b\b  39%\b\b\b\b\b  42%\b\b\b\b\b  45%\b\b\b\b\b  48%\b\b\b\b\b  51%\b\b\b\b\b  54%\b\b\b\b\b  57%\b\b\b\b\b  60%\b\b\b\b\b  63%\b\b\b\b\b  66%\b\b\b\b\b  69%\b\b\b\b\b  72%\b\b\b\b\b  75%\b\b\b\b\b  78%\b\b\b\b\b  81%\b\b\b\b\b  84%\b\b\b\b\b  87%\b\b\b\b\b  90%\b\b\b\b\b  93%\b\b\b\b\b  96%\b\b\b\b\b  99%\b\b\b\b\b 100%\b\b\b\b\b\n"
          ]
        }
      ],
      "source": [
        "%%R\n",
        "execGRASS(\"g.list\", type=\"raster\", pattern=\"sgs_sim_*\", output=\"tmp_list_simulated.txt\")\n",
        "execGRASS(\"r.series\", file=\"tmp_list_simulated.txt\", output=\"simulated_mean\", method=\"average\")\n",
        "execGRASS(\"r.series\", file=\"tmp_list_simulated.txt\", output=\"simulated_std\", method=\"stddev\")"
      ]
    },
    {
      "cell_type": "code",
      "execution_count": 43,
      "metadata": {
        "id": "5L8IwhzDn1f_",
        "outputId": "ff6999e0-1096-473e-9988-3b285775927f",
        "colab": {
          "base_uri": "https://localhost:8080/",
          "height": 517
        }
      },
      "outputs": [
        {
          "output_type": "execute_result",
          "data": {
            "image/png": "[encoded data removed]",
            "text/plain": [
              "<IPython.core.display.Image object>"
            ]
          },
          "metadata": {},
          "execution_count": 43
        }
      ],
      "source": [
        "m = gj.Map(use_region=True, height=500, width=500)\n",
        "m.d_rast(map=\"simulated_mean\")\n",
        "m.d_legend(raster=\"simulated_mean\", flags=\"bds\", at=\"9,35,72,77\", fontsize=16)\n",
        "m.d_barscale(at=\"61,6\", fontsize=16, flags=\"n\")\n",
        "m.show()"
      ]
    },
    {
      "cell_type": "code",
      "execution_count": 44,
      "metadata": {
        "id": "VKG72gvin1f_",
        "outputId": "d5447fcd-480f-4fb1-8146-7c17cfa2120e",
        "colab": {
          "base_uri": "https://localhost:8080/",
          "height": 617
        }
      },
      "outputs": [
        {
          "output_type": "execute_result",
          "data": {
            "image/png": "[encoded data removed]",
            "text/plain": [
              "<IPython.core.display.Image object>"
            ]
          },
          "metadata": {},
          "execution_count": 44
        }
      ],
      "source": [
        "m = gj.Map(use_region=True, height=600, width=800)\n",
        "m.d_rast(map=\"simulated_mean\")\n",
        "m.d_legend(raster=\"simulated_std\", flags=\"bds\", at=\"9,35,72,77\", fontsize=16)\n",
        "m.d_barscale(at=\"61,6\", fontsize=16, flags=\"n\")\n",
        "m.show()"
      ]
    },
    {
      "cell_type": "markdown",
      "source": [
        "<a name=\"uncert\"></a>\n",
        "\n",
        "---\n",
        "\n",
        "## Extract Streams and Compute Uncertainty"
      ],
      "metadata": {
        "id": "TBLhKA6Kdvm1"
      }
    },
    {
      "cell_type": "markdown",
      "metadata": {
        "id": "NI-Rq9NJIN_z"
      },
      "source": [
        "Generate streams for each DEM"
      ]
    },
    {
      "cell_type": "code",
      "execution_count": null,
      "metadata": {
        "id": "DPYQ9uu1IQT2"
      },
      "outputs": [],
      "source": [
        "%%R\n",
        "N.sim <- 10\n",
        "for(i in 1:N.sim) {execGRASS(\"r.watershed\", elevation=paste(\"sgs_sim_\", i, sep=\"\"),\n",
        " threshold=10000, stream=paste(\"stream_\", i, sep=\"\"), flags=c(\"quiet\"))}"
      ]
    },
    {
      "cell_type": "markdown",
      "metadata": {
        "id": "VB6VYUpuIV-6"
      },
      "source": [
        "Calculate the probablity and error\n",
        "\n",
        "INSERT EQUATION AND CITATION"
      ]
    },
    {
      "cell_type": "code",
      "execution_count": null,
      "metadata": {
        "id": "1GvOmdaGGRRn"
      },
      "outputs": [],
      "source": [
        "%%R\n",
        "execGRASS(\"g.list\", type=\"raster\", pattern=\"stream*\", output=\"tmp_list_stream.txt\")\n",
        "execGRASS(\"r.series\", file=\"tmp_list_stream.txt\", output=\"count\", method=\"count\")\n",
        "execGRASS(\"r.mapcalc\", expression=paste(\"prob = float(count)/\", N.sim))\n",
        "execGRASS(\"r.mapcalc\", expression=\"error = -prob * log(prob) - (1-prob)* log(1-prob)\")"
      ]
    },
    {
      "cell_type": "markdown",
      "source": [
        "Probability that a cell contains a stream:"
      ],
      "metadata": {
        "id": "JTgAB246eg_W"
      }
    },
    {
      "cell_type": "code",
      "source": [
        "m =gj.Map()\n",
        "m.d_shade(shade=\"relief\", color=\"prob\", brighten=30)\n",
        "m.show()"
      ],
      "metadata": {
        "id": "fJ8ot5goegCU"
      },
      "execution_count": null,
      "outputs": []
    },
    {
      "cell_type": "markdown",
      "source": [
        "Stream error:"
      ],
      "metadata": {
        "id": "pPetnn3AfIO0"
      }
    },
    {
      "cell_type": "code",
      "source": [
        "m =gj.Map()\n",
        "m.d_shade(shade=\"relief\", color=\"error\", brighten=30)\n",
        "m.show()"
      ],
      "metadata": {
        "id": "Pbel1oV9e9tz"
      },
      "execution_count": null,
      "outputs": []
    }
  ],
  "metadata": {
    "colab": {
      "provenance": [],
      "include_colab_link": true
    },
    "kernelspec": {
      "display_name": ".venv",
      "language": "python",
      "name": "python3"
    },
    "language_info": {
      "codemirror_mode": {
        "name": "ipython",
        "version": 3
      },
      "file_extension": ".py",
      "mimetype": "text/x-python",
      "name": "python",
      "nbconvert_exporter": "python",
      "pygments_lexer": "ipython3",
      "version": "3.13.2"
    },
    "widgets": {
      "application/vnd.jupyter.widget-state+json": {
        "d19f3dd8bd384d92a76389ba68272c61": {
          "model_module": "jupyter-leaflet",
          "model_name": "LeafletMapModel",
          "model_module_version": "^0.19",
          "state": {
            "_dom_classes": [],
            "_model_module": "jupyter-leaflet",
            "_model_module_version": "^0.19",
            "_model_name": "LeafletMapModel",
            "_view_count": null,
            "_view_module": "jupyter-leaflet",
            "_view_module_version": "^0.19",
            "_view_name": "LeafletMapView",
            "bottom": 6313,
            "bounce_at_zoom_limits": true,
            "box_zoom": true,
            "center": [
              43.10899912,
              12.440013985
            ],
            "close_popup_on_click": true,
            "controls": [
              "IPY_MODEL_a1a7eedf38ae42daa0b359ee6c92f9dd",
              "IPY_MODEL_28b614fa5a5c4b608db1c6eeffe06048",
              "IPY_MODEL_5f94bb560345411885d26b7e4f6c2616"
            ],
            "crs": {
              "name": "EPSG3857",
              "custom": false
            },
            "default_style": "IPY_MODEL_d8cd72fd43b949c9b9b0b9ec928c4ab0",
            "double_click_zoom": true,
            "dragging": true,
            "dragging_style": "IPY_MODEL_db7a5c635b484f6da92d332cf6609869",
            "east": 21.181640625000004,
            "fullscreen": false,
            "inertia": true,
            "inertia_deceleration": 3000,
            "inertia_max_speed": 1500,
            "interpolation": "bilinear",
            "keyboard": true,
            "keyboard_pan_offset": 80,
            "keyboard_zoom_offset": 1,
            "layers": [
              "IPY_MODEL_25ba8a59a51c45d2bda2abd36f4094d9",
              "IPY_MODEL_ef5c2feedc2d4b9f9f7872d285070e74",
              "IPY_MODEL_9c270f3db372430baefe0199752eb32d",
              "IPY_MODEL_3ca7f213abad425083ff369b5d944007",
              "IPY_MODEL_262fa4a324484357bcc2926903048baa",
              "IPY_MODEL_81cbc116b2d0469c917bf77aea25aa6f"
            ],
            "layout": "IPY_MODEL_c2023728b65c4901b9ec70044bac1e3e",
            "left": 8356,
            "max_zoom": null,
            "min_zoom": null,
            "modisdate": "2025-06-01",
            "north": 47.73932336136857,
            "options": [
              "bounce_at_zoom_limits",
              "box_zoom",
              "center",
              "close_popup_on_click",
              "double_click_zoom",
              "dragging",
              "fullscreen",
              "inertia",
              "inertia_deceleration",
              "inertia_max_speed",
              "interpolation",
              "keyboard",
              "keyboard_pan_offset",
              "keyboard_zoom_offset",
              "max_zoom",
              "min_zoom",
              "prefer_canvas",
              "scroll_wheel_zoom",
              "tap",
              "tap_tolerance",
              "touch_zoom",
              "world_copy_jump",
              "zoom",
              "zoom_animation_threshold",
              "zoom_delta",
              "zoom_snap"
            ],
            "panes": {},
            "prefer_canvas": false,
            "right": 9156,
            "scroll_wheel_zoom": true,
            "south": 38.11727165830543,
            "style": "IPY_MODEL_c19af46f6aee41ea9569df5b73bf0123",
            "tap": true,
            "tap_tolerance": 15,
            "top": 5713,
            "touch_zoom": true,
            "west": 3.6035156250000004,
            "window_url": "https://icmfq4cu8v-496ff2e9c6d22116-0-colab.googleusercontent.com/outputframe.html?vrz=colab_20250529-060056_RC00_764662209",
            "world_copy_jump": false,
            "zoom": 7,
            "zoom_animation_threshold": 4,
            "zoom_delta": 1,
            "zoom_snap": 1
          }
        },
        "a1a7eedf38ae42daa0b359ee6c92f9dd": {
          "model_module": "jupyter-leaflet",
          "model_name": "LeafletZoomControlModel",
          "model_module_version": "^0.19",
          "state": {
            "_model_module": "jupyter-leaflet",
            "_model_module_version": "^0.19",
            "_model_name": "LeafletZoomControlModel",
            "_view_count": null,
            "_view_module": "jupyter-leaflet",
            "_view_module_version": "^0.19",
            "_view_name": "LeafletZoomControlView",
            "options": [
              "position",
              "zoom_in_text",
              "zoom_in_title",
              "zoom_out_text",
              "zoom_out_title"
            ],
            "position": "topleft",
            "zoom_in_text": "+",
            "zoom_in_title": "Zoom in",
            "zoom_out_text": "-",
            "zoom_out_title": "Zoom out"
          }
        },
        "28b614fa5a5c4b608db1c6eeffe06048": {
          "model_module": "jupyter-leaflet",
          "model_name": "LeafletAttributionControlModel",
          "model_module_version": "^0.19",
          "state": {
            "_model_module": "jupyter-leaflet",
            "_model_module_version": "^0.19",
            "_model_name": "LeafletAttributionControlModel",
            "_view_count": null,
            "_view_module": "jupyter-leaflet",
            "_view_module_version": "^0.19",
            "_view_name": "LeafletAttributionControlView",
            "options": [
              "position",
              "prefix"
            ],
            "position": "bottomright",
            "prefix": "ipyleaflet"
          }
        },
        "5f94bb560345411885d26b7e4f6c2616": {
          "model_module": "jupyter-leaflet",
          "model_name": "LeafletLayersControlModel",
          "model_module_version": "^0.19",
          "state": {
            "_model_module": "jupyter-leaflet",
            "_model_module_version": "^0.19",
            "_model_name": "LeafletLayersControlModel",
            "_view_count": null,
            "_view_module": "jupyter-leaflet",
            "_view_module_version": "^0.19",
            "_view_name": "LeafletLayersControlView",
            "collapsed": true,
            "options": [
              "collapsed",
              "position"
            ],
            "position": "topleft"
          }
        },
        "d8cd72fd43b949c9b9b0b9ec928c4ab0": {
          "model_module": "jupyter-leaflet",
          "model_name": "LeafletMapStyleModel",
          "model_module_version": "^0.19",
          "state": {
            "_model_module": "jupyter-leaflet",
            "_model_module_version": "^0.19",
            "_model_name": "LeafletMapStyleModel",
            "_view_count": null,
            "_view_module": "@jupyter-widgets/base",
            "_view_module_version": "1.2.0",
            "_view_name": "StyleView",
            "cursor": "grab"
          }
        },
        "db7a5c635b484f6da92d332cf6609869": {
          "model_module": "jupyter-leaflet",
          "model_name": "LeafletMapStyleModel",
          "model_module_version": "^0.19",
          "state": {
            "_model_module": "jupyter-leaflet",
            "_model_module_version": "^0.19",
            "_model_name": "LeafletMapStyleModel",
            "_view_count": null,
            "_view_module": "@jupyter-widgets/base",
            "_view_module_version": "1.2.0",
            "_view_name": "StyleView",
            "cursor": "move"
          }
        },
        "25ba8a59a51c45d2bda2abd36f4094d9": {
          "model_module": "jupyter-leaflet",
          "model_name": "LeafletTileLayerModel",
          "model_module_version": "^0.19",
          "state": {
            "_model_module": "jupyter-leaflet",
            "_model_module_version": "^0.19",
            "_model_name": "LeafletTileLayerModel",
            "_view_count": null,
            "_view_module": "jupyter-leaflet",
            "_view_module_version": "^0.19",
            "_view_name": "LeafletTileLayerView",
            "attribution": "Imagery provided by services from the Global Imagery Browse Services (GIBS), operated by the NASA/GSFC/Earth Science Data and Information System (<a href=\"https://earthdata.nasa.gov\">ESDIS</a>) with funding provided by NASA/HQ.",
            "base": true,
            "bottom": true,
            "bounds": null,
            "detect_retina": false,
            "loading": false,
            "max_native_zoom": null,
            "max_zoom": 8,
            "min_native_zoom": null,
            "min_zoom": 1,
            "name": "NASAGIBS.BlueMarble",
            "no_wrap": false,
            "opacity": 1,
            "options": [
              "attribution",
              "bounds",
              "detect_retina",
              "max_native_zoom",
              "max_zoom",
              "min_native_zoom",
              "min_zoom",
              "no_wrap",
              "tile_size",
              "tms",
              "zoom_offset"
            ],
            "pane": "",
            "popup": null,
            "popup_max_height": null,
            "popup_max_width": 300,
            "popup_min_width": 50,
            "show_loading": false,
            "subitems": [],
            "tile_size": 256,
            "tms": false,
            "url": "https://gibs.earthdata.nasa.gov/wmts/epsg3857/best/BlueMarble_NextGeneration/default/GoogleMapsCompatible_Level8/{z}/{y}/{x}.jpeg",
            "visible": true,
            "zoom_offset": 0
          }
        },
        "ef5c2feedc2d4b9f9f7872d285070e74": {
          "model_module": "jupyter-leaflet",
          "model_name": "LeafletWMSLayerModel",
          "model_module_version": "^0.19",
          "state": {
            "_model_module": "jupyter-leaflet",
            "_model_module_version": "^0.19",
            "_model_name": "LeafletWMSLayerModel",
            "_view_count": null,
            "_view_module": "jupyter-leaflet",
            "_view_module_version": "^0.19",
            "_view_name": "LeafletWMSLayerView",
            "attribution": "HSV Elevation Data © 2023 TINItaly 1.1",
            "base": false,
            "bottom": true,
            "bounds": null,
            "crs": {
              "name": "EPSG3857",
              "custom": false
            },
            "detect_retina": false,
            "format": "image/png",
            "layers": "TINItaly_1.1:tinitaly_hsv",
            "loading": false,
            "max_native_zoom": null,
            "max_zoom": 18,
            "min_native_zoom": null,
            "min_zoom": 0,
            "name": "TINItaly_1.1 HSV (WMS)",
            "no_wrap": false,
            "opacity": 1,
            "options": [
              "attribution",
              "bounds",
              "detect_retina",
              "format",
              "layers",
              "max_native_zoom",
              "max_zoom",
              "min_native_zoom",
              "min_zoom",
              "no_wrap",
              "styles",
              "tile_size",
              "tms",
              "transparent",
              "uppercase",
              "zoom_offset"
            ],
            "pane": "",
            "popup": null,
            "popup_max_height": null,
            "popup_max_width": 300,
            "popup_min_width": 50,
            "show_loading": false,
            "styles": "",
            "subitems": [],
            "tile_size": 256,
            "tms": false,
            "transparent": true,
            "uppercase": false,
            "url": "http://tinitaly.pi.ingv.it/TINItaly_1_1/wms?service=WMS",
            "visible": true,
            "zoom_offset": 0
          }
        },
        "9c270f3db372430baefe0199752eb32d": {
          "model_module": "jupyter-leaflet",
          "model_name": "LeafletWMSLayerModel",
          "model_module_version": "^0.19",
          "state": {
            "_model_module": "jupyter-leaflet",
            "_model_module_version": "^0.19",
            "_model_name": "LeafletWMSLayerModel",
            "_view_count": null,
            "_view_module": "jupyter-leaflet",
            "_view_module_version": "^0.19",
            "_view_name": "LeafletWMSLayerView",
            "attribution": "Slope Data © 2023 TINItaly 1.1",
            "base": false,
            "bottom": true,
            "bounds": null,
            "crs": {
              "name": "EPSG3857",
              "custom": false
            },
            "detect_retina": false,
            "format": "image/png",
            "layers": "TINItaly_1.1:tinitaly_slope",
            "loading": false,
            "max_native_zoom": null,
            "max_zoom": 18,
            "min_native_zoom": null,
            "min_zoom": 0,
            "name": "TINItaly_1.1 Slope (WMS)",
            "no_wrap": false,
            "opacity": 1,
            "options": [
              "attribution",
              "bounds",
              "detect_retina",
              "format",
              "layers",
              "max_native_zoom",
              "max_zoom",
              "min_native_zoom",
              "min_zoom",
              "no_wrap",
              "styles",
              "tile_size",
              "tms",
              "transparent",
              "uppercase",
              "zoom_offset"
            ],
            "pane": "",
            "popup": null,
            "popup_max_height": null,
            "popup_max_width": 300,
            "popup_min_width": 50,
            "show_loading": false,
            "styles": "",
            "subitems": [],
            "tile_size": 256,
            "tms": false,
            "transparent": true,
            "uppercase": false,
            "url": "http://tinitaly.pi.ingv.it/TINItaly_1_1/wms?service=WMS",
            "visible": true,
            "zoom_offset": 0
          }
        },
        "3ca7f213abad425083ff369b5d944007": {
          "model_module": "jupyter-leaflet",
          "model_name": "LeafletWMSLayerModel",
          "model_module_version": "^0.19",
          "state": {
            "_model_module": "jupyter-leaflet",
            "_model_module_version": "^0.19",
            "_model_name": "LeafletWMSLayerModel",
            "_view_count": null,
            "_view_module": "jupyter-leaflet",
            "_view_module_version": "^0.19",
            "_view_name": "LeafletWMSLayerView",
            "attribution": "SRTM RAMP2 TOPO © 2025 NASA ",
            "base": false,
            "bottom": true,
            "bounds": null,
            "crs": {
              "name": "EPSG3857",
              "custom": false
            },
            "detect_retina": false,
            "format": "image/png",
            "layers": "SRTM_RAMP2_TOPO",
            "loading": false,
            "max_native_zoom": null,
            "max_zoom": 18,
            "min_native_zoom": null,
            "min_zoom": 0,
            "name": "NASA SRTM RAMP2 TOPO (WMS)",
            "no_wrap": false,
            "opacity": 1,
            "options": [
              "attribution",
              "bounds",
              "detect_retina",
              "format",
              "layers",
              "max_native_zoom",
              "max_zoom",
              "min_native_zoom",
              "min_zoom",
              "no_wrap",
              "styles",
              "tile_size",
              "tms",
              "transparent",
              "uppercase",
              "zoom_offset"
            ],
            "pane": "",
            "popup": null,
            "popup_max_height": null,
            "popup_max_width": 300,
            "popup_min_width": 50,
            "show_loading": false,
            "styles": "rgb",
            "subitems": [],
            "tile_size": 256,
            "tms": false,
            "transparent": true,
            "uppercase": false,
            "url": "https://neo.gsfc.nasa.gov/wms/wms?service=WMS",
            "visible": true,
            "zoom_offset": 0
          }
        },
        "262fa4a324484357bcc2926903048baa": {
          "model_module": "jupyter-leaflet",
          "model_name": "LeafletMarkerModel",
          "model_module_version": "^0.19",
          "state": {
            "_model_module": "jupyter-leaflet",
            "_model_module_version": "^0.19",
            "_model_name": "LeafletMarkerModel",
            "_view_count": null,
            "_view_module": "jupyter-leaflet",
            "_view_module_version": "^0.19",
            "_view_name": "LeafletMarkerView",
            "alt": "Perugia",
            "base": false,
            "bottom": false,
            "draggable": false,
            "icon": null,
            "keyboard": true,
            "location": [
              43.11203,
              12.38914
            ],
            "name": "Perugia (Marker)",
            "opacity": 1,
            "options": [
              "alt",
              "draggable",
              "keyboard",
              "rise_offset",
              "rise_on_hover",
              "rotation_angle",
              "rotation_origin",
              "title",
              "z_index_offset"
            ],
            "pane": "",
            "popup": null,
            "popup_max_height": null,
            "popup_max_width": 300,
            "popup_min_width": 50,
            "rise_offset": 250,
            "rise_on_hover": false,
            "rotation_angle": 0,
            "rotation_origin": "",
            "subitems": [],
            "title": "Perugia",
            "visible": true,
            "z_index_offset": 0
          }
        },
        "81cbc116b2d0469c917bf77aea25aa6f": {
          "model_module": "jupyter-leaflet",
          "model_name": "LeafletGeoJSONModel",
          "model_module_version": "^0.19",
          "state": {
            "_model_module": "jupyter-leaflet",
            "_model_module_version": "^0.19",
            "_model_name": "LeafletGeoJSONModel",
            "_view_count": null,
            "_view_module": "jupyter-leaflet",
            "_view_module_version": "^0.19",
            "_view_name": "LeafletGeoJSONView",
            "base": false,
            "bottom": false,
            "data": {
              "type": "FeatureCollection",
              "name": "region_PERMANENT",
              "crs": {
                "type": "name",
                "properties": {
                  "name": "urn:ogc:def:crs:OGC:1.3:CRS84"
                }
              },
              "features": [
                {
                  "type": "Feature",
                  "properties": {
                    "cat": 1
                  },
                  "geometry": {
                    "type": "Polygon",
                    "coordinates": [
                      [
                        [
                          12.430844838400368,
                          43.10436791586902
                        ],
                        [
                          12.448632374768119,
                          43.103832588396806
                        ],
                        [
                          12.449183125731631,
                          43.11363013881386
                        ],
                        [
                          12.431392762304041,
                          43.11416564857306
                        ],
                        [
                          12.430844838400368,
                          43.10436791586902
                        ]
                      ]
                    ]
                  }
                }
              ]
            },
            "hover_style": {},
            "layers": [],
            "name": "region",
            "options": [],
            "pane": "",
            "point_style": {},
            "popup": null,
            "popup_max_height": null,
            "popup_max_width": 300,
            "popup_min_width": 50,
            "style": {},
            "subitems": [],
            "visible": true
          }
        },
        "c2023728b65c4901b9ec70044bac1e3e": {
          "model_module": "@jupyter-widgets/base",
          "model_name": "LayoutModel",
          "model_module_version": "1.2.0",
          "state": {
            "_model_module": "@jupyter-widgets/base",
            "_model_module_version": "1.2.0",
            "_model_name": "LayoutModel",
            "_view_count": null,
            "_view_module": "@jupyter-widgets/base",
            "_view_module_version": "1.2.0",
            "_view_name": "LayoutView",
            "align_content": null,
            "align_items": null,
            "align_self": null,
            "border": null,
            "bottom": null,
            "display": null,
            "flex": null,
            "flex_flow": null,
            "grid_area": null,
            "grid_auto_columns": null,
            "grid_auto_flow": null,
            "grid_auto_rows": null,
            "grid_column": null,
            "grid_gap": null,
            "grid_row": null,
            "grid_template_areas": null,
            "grid_template_columns": null,
            "grid_template_rows": null,
            "height": "600px",
            "justify_content": null,
            "justify_items": null,
            "left": null,
            "margin": null,
            "max_height": null,
            "max_width": null,
            "min_height": null,
            "min_width": null,
            "object_fit": null,
            "object_position": null,
            "order": null,
            "overflow": null,
            "overflow_x": null,
            "overflow_y": null,
            "padding": null,
            "right": null,
            "top": null,
            "visibility": null,
            "width": "800px"
          }
        },
        "c19af46f6aee41ea9569df5b73bf0123": {
          "model_module": "jupyter-leaflet",
          "model_name": "LeafletMapStyleModel",
          "model_module_version": "^0.19",
          "state": {
            "_model_module": "jupyter-leaflet",
            "_model_module_version": "^0.19",
            "_model_name": "LeafletMapStyleModel",
            "_view_count": null,
            "_view_module": "@jupyter-widgets/base",
            "_view_module_version": "1.2.0",
            "_view_name": "StyleView",
            "cursor": "grab"
          }
        }
      }
    }
  },
  "nbformat": 4,
  "nbformat_minor": 0
}