{
  "cells": [
    {
      "cell_type": "markdown",
      "metadata": {
        "id": "view-in-github",
        "colab_type": "text"
      },
      "source": [
        "<a href=\"https://colab.research.google.com/github/ncsu-geoforall-lab/geomorphometry2025_workshop/blob/main/geomorphometry_2025_workshop.ipynb\" target=\"_parent\"><img src=\"https://colab.research.google.com/assets/colab-badge.svg\" alt=\"Open In Colab\"/></a>"
      ]
    },
    {
      "cell_type": "markdown",
      "metadata": {
        "id": "4MntGQoRpl2h"
      },
      "source": [
        "# Workshop: Propagating DEM Uncertainty to Stream Extraction using GRASS\n",
        "\n",
        "### Abstract\n",
        "\n",
        "GRASS is an open-source geospatial processing engine. With over 400 tools available in the core distribution and an additional 400+ tools available as extensions, GRASS has broad applicability in the Earth Sciences and geomorphometry in particular. In this workshop, we will give an introduction to GRASS and demonstrate some of the geomorphometry tools available in GRASS. Specifically, we will show how to compute stream extraction uncertainty using a workflow adapted from Hengl [(2007)](https://publications.jrc.ec.europa.eu/repository/handle/JRC38153) and Hengl et al. [(2010)](https://hess.copernicus.org/articles/14/1153/2010/). In this tutorial, we will:\n",
        "* [Create a new GRASS project](#start)\n",
        "* [Download and import elevation data](#data) of near Perugia using GRASS data fetching tools\n",
        "* [Use R’s kriging functions (gstat)](#R) to create 10 iterations of a DEM\n",
        "* [Extract streams](#uncert) from each of the 10 DEMs to compute stream uncertainty\n",
        "\n",
        "Check out the publication associated with the notebook on Zenodo:\n",
        "\n",
        "[![DOI](https://zenodo.org/badge/DOI/10.5281/zenodo.15283714.svg)](https://doi.org/10.5281/zenodo.15283714)\n"
      ]
    },
    {
      "cell_type": "markdown",
      "metadata": {
        "id": "Ud7N1Lc6p6oW"
      },
      "source": [
        "---\n",
        "\n",
        "\n",
        "### Install GRASS and Get Workshop Materials"
      ]
    },
    {
      "cell_type": "markdown",
      "metadata": {
        "id": "wYMTEU2NqmeP"
      },
      "source": [
        "The following cell installs GRASS from the ubuntugis-unstable ppa. It will take a minute to run."
      ]
    },
    {
      "cell_type": "code",
      "execution_count": null,
      "metadata": {
        "id": "zhv3qjGPpzr3"
      },
      "outputs": [],
      "source": [
        "!add-apt-repository -y ppa:ubuntugis/ubuntugis-unstable\n",
        "!apt update\n",
        "!apt-get install -y grass-core grass-dev"
      ]
    },
    {
      "cell_type": "markdown",
      "metadata": {
        "id": "B0tAqgcoqi68"
      },
      "source": [
        "We can check GRASS installed and see what version we have using:"
      ]
    },
    {
      "cell_type": "code",
      "execution_count": null,
      "metadata": {
        "id": "b0nWFlZfp_I4"
      },
      "outputs": [],
      "source": [
        "!grass --version"
      ]
    },
    {
      "cell_type": "markdown",
      "metadata": {
        "id": "_LKJ0SH1qEC5"
      },
      "source": [
        "<a name=\"start\"></a>\n",
        "\n",
        "---\n",
        "\n",
        "## Create a New GRASS Project and Start GRASS\n",
        "\n",
        "First, let's import all the Python libraries we'll need."
      ]
    },
    {
      "cell_type": "code",
      "execution_count": null,
      "metadata": {
        "id": "FTe6eY2wr9M_"
      },
      "outputs": [],
      "source": [
        "import sys\n",
        "import subprocess\n",
        "import pandas as pd\n",
        "from IPython.display import display\n",
        "from ipyleaflet import WMSLayer, Marker"
      ]
    },
    {
      "cell_type": "markdown",
      "metadata": {
        "id": "4wQNGgT0sfDB"
      },
      "source": [
        "**Importing the GRASS Python API**\n",
        "\n",
        "We are going to import the GRASS Python API (`grass.script`) and the GRASS Jupyter package (`grass.jupyter`). But first, we'll need to ask `grass` to check it's `--config` to see where the python packages are then add them to the system path before we can import them.\n",
        "\n",
        "We use `subprocess.check_output` to find the path and `sys.path.append` to add it to the path."
      ]
    },
    {
      "cell_type": "code",
      "execution_count": null,
      "metadata": {
        "id": "aBLh05Q9tX5A"
      },
      "outputs": [],
      "source": [
        "sys.path.append(\n",
        "    subprocess.check_output([\"grass\", \"--config\", \"python_path\"], text=True).strip()\n",
        ")"
      ]
    },
    {
      "cell_type": "markdown",
      "metadata": {
        "id": "DQ8t77aotas7"
      },
      "source": [
        "Then, we can import the Python API and GRASS Jupyter packages."
      ]
    },
    {
      "cell_type": "code",
      "execution_count": null,
      "metadata": {
        "id": "-rt2BOvlqEU9"
      },
      "outputs": [],
      "source": [
        "import grass.script as gs\n",
        "import grass.jupyter as gj"
      ]
    },
    {
      "cell_type": "markdown",
      "metadata": {
        "id": "sgEejFFDqhSA"
      },
      "source": [
        "**Starting a New Project**\n",
        "\n",
        "Now, we create a new project called \"geomorphometry_workshop\". Projects are defined by a Coordinate Reference System (CRS). We can set the CRS from a georeferenced file (such as a Geotiff) or an EPSG string. Here, we use [EPSG 32632](https://epsg.io/32632), CRS WGS 84/UTM zone 32N (EPSG:32632)."
      ]
    },
    {
      "cell_type": "code",
      "execution_count": null,
      "metadata": {
        "id": "XTy8iOVdqc1K"
      },
      "outputs": [],
      "source": [
        "gs.create_project(\"geomorphometry_workshop\", epsg=\"32632\")"
      ]
    },
    {
      "cell_type": "markdown",
      "metadata": {
        "id": "kRHJ6HIEql_H"
      },
      "source": [
        "You should now see a new folder created called \"geomorphometry_workshop\". This will contain all of the data for our project and is organized by GRASS's native data format. This makes GRASS _fast_, _scalable_, and _avoids projection mismatches_.\n",
        "\n",
        "We start a GRASS session in our new project."
      ]
    },
    {
      "cell_type": "code",
      "execution_count": null,
      "metadata": {
        "id": "439xOokMqnF7"
      },
      "outputs": [],
      "source": [
        "gj.init(\"geomorphometry_workshop\");"
      ]
    },
    {
      "cell_type": "markdown",
      "metadata": {
        "id": "6qzO8Irl6dkb"
      },
      "source": [
        "**Introducting the \"Computational Region\"**\n",
        "\n",
        "Finally, let's set our computational region using [`g.region`](https://grass.osgeo.org/grass85/manuals/g.region.html). The computational region will determine what data is imported from the cloud so we need to set it before continuing.\n",
        "\n",
        "Upon creating a project, the computational region is empty."
      ]
    },
    {
      "cell_type": "code",
      "execution_count": null,
      "metadata": {
        "id": "FQji15NOt6bd"
      },
      "outputs": [],
      "source": [
        "print(gs.read_command(\"g.region\", flags=\"p\"))"
      ]
    },
    {
      "cell_type": "markdown",
      "metadata": {
        "id": "4rRRRhMU7Gkp"
      },
      "source": [
        "There are lots of ways to set the computional region, from a georeferenced file or existing data layer to relative operations grow which adds cells around the previous region. Here, we set our computational region with coordinates and set the resolution to 10 meters."
      ]
    },
    {
      "cell_type": "code",
      "execution_count": null,
      "metadata": {
        "id": "H-rct63En1fm"
      },
      "outputs": [],
      "source": [
        "aoi_bbox = {\n",
        "\t\"north\": 4779210,\n",
        "\t\"south\": 4778120,\n",
        "\t\"west\": 779180,\n",
        "\t\"east\": 780630\n",
        "}\n",
        "\n",
        "print(\n",
        "    gs.read_command(\n",
        "        \"g.region\", n=aoi_bbox[\"north\"], s=aoi_bbox[\"south\"], e=aoi_bbox[\"east\"], w=aoi_bbox[\"west\"], res=10, flags=\"p\"\n",
        "    )\n",
        ")"
      ]
    },
    {
      "cell_type": "markdown",
      "metadata": {
        "id": "l3fi898rt9u_"
      },
      "source": [
        "<a name=\"data\"></a>\n",
        "\n",
        "---\n",
        "\n",
        "## Download and Import Data\n",
        "\n",
        "Right now, our project has no data in it:"
      ]
    },
    {
      "cell_type": "code",
      "execution_count": null,
      "metadata": {
        "id": "2-eBoje5ekLP"
      },
      "outputs": [],
      "source": [
        "gs.read_command(\"g.list\", type=\"all\")"
      ]
    },
    {
      "cell_type": "markdown",
      "metadata": {
        "id": "NYR2yRlGecm-"
      },
      "source": [
        "We're going to use a DEM from the TINItaly dataset. Let's get an overview of the dataset using a quick WMS visualization.\n",
        "\n",
        "First, let's create some WMSLayers:"
      ]
    },
    {
      "cell_type": "code",
      "execution_count": null,
      "metadata": {
        "id": "An9Ar8iVn1fn"
      },
      "outputs": [],
      "source": [
        "tinitaly_wms = WMSLayer(\n",
        "    name=\"TINItaly_1.1 HSV (WMS)\",\n",
        "    url=\"http://tinitaly.pi.ingv.it/TINItaly_1_1/wms?service=WMS\",\n",
        "    layers=\"TINItaly_1.1:tinitaly_hsv\",\n",
        "    format=\"image/png\",\n",
        "    transparent=True,\n",
        "    attribution=\"HSV Elevation Data © 2023 TINItaly 1.1\",\n",
        ")\n",
        "\n",
        "tinitaly_slope = WMSLayer(\n",
        "    name=\"TINItaly_1.1 Slope (WMS)\",\n",
        "    url=\"http://tinitaly.pi.ingv.it/TINItaly_1_1/wms?service=WMS\",\n",
        "    layers=\"TINItaly_1.1:tinitaly_slope\",\n",
        "    format=\"image/png\",\n",
        "    transparent=True,\n",
        "    attribution=\"Slope Data © 2023 TINItaly 1.1\",\n",
        ")\n",
        "\n",
        "nasa_wms = WMSLayer(\n",
        "    name=\"NASA SRTM RAMP2 TOPO (WMS)\",\n",
        "    url=\"https://neo.gsfc.nasa.gov/wms/wms?service=WMS\",\n",
        "    layers=\"SRTM_RAMP2_TOPO\",\n",
        "    format=\"image/png\",\n",
        "    transparent=True,\n",
        "    styles=\"rgb\",\n",
        "    attribution=\"SRTM RAMP2 TOPO © 2025 NASA \",\n",
        ")\n",
        "\n",
        "perugia = Marker(\n",
        "    name=\"Perugia (Marker)\",\n",
        "    location=(43.11203, 12.38914),\n",
        "    draggable=False,\n",
        "    title=\"Perugia\",\n",
        "    alt=\"Perugia\",\n",
        "    # icon=\"fa-flag\",\n",
        ")"
      ]
    },
    {
      "cell_type": "markdown",
      "metadata": {
        "id": "tX_ynwJaAu2K"
      },
      "source": [
        "And create a vector box of our region to add:"
      ]
    },
    {
      "cell_type": "code",
      "execution_count": null,
      "metadata": {
        "id": "MDOU5h8jAzgh"
      },
      "outputs": [],
      "source": [
        "gs.run_command(\"v.in.region\", output=\"region\")"
      ]
    },
    {
      "cell_type": "code",
      "execution_count": null,
      "metadata": {
        "id": "6GtYKn9vvKOu"
      },
      "outputs": [],
      "source": [
        "nasa_basemap = \"NASAGIBS BlueMarble\"\n",
        "m = gj.InteractiveMap(height=600, width=800, tiles=nasa_basemap, use_region=True)\n",
        "m.map.add(tinitaly_wms)\n",
        "m.map.add(tinitaly_slope)\n",
        "m.map.add(nasa_wms)\n",
        "m.map.add(perugia)\n",
        "m.add_vector(\"region\")\n",
        "m.add_layer_control()\n",
        "m.map.zoom = 6\n",
        "m.map.center = (43.11203, 12.38914)\n",
        "display(m.show())"
      ]
    },
    {
      "cell_type": "markdown",
      "metadata": {
        "id": "6Brb8lDIu-ss"
      },
      "source": [
        "Now we can import our DEM. We will use the [r.import](https://grass.osgeo.org/manuals/grass85/r.import.html) command to import a DEM file. The DEM file is a [Cloud Optimized GeoTIFF (COG)](https://cogeo.org/), and we will specify the output name as \"dem\". *r.import* will automatically reproject the DEM to the project's CRS."
      ]
    },
    {
      "cell_type": "code",
      "execution_count": null,
      "metadata": {
        "id": "Uin3L-xGu-st"
      },
      "outputs": [],
      "source": [
        "gs.run_command(\n",
        "    \"r.import\",\n",
        "    input=\"https://storage.googleapis.com/geomorphometry/w47575_s10.cog.tif\",\n",
        "    output=\"dem\",\n",
        "    title=\"TINItaly DEM 10m\",\n",
        "    resample=\"bicubic_f\",\n",
        "    resolution=\"region\",\n",
        "    extent=\"region\",\n",
        "    overwrite=True,\n",
        ")"
      ]
    },
    {
      "cell_type": "markdown",
      "metadata": {
        "id": "VdPTNn0pOgRA"
      },
      "source": [
        "Let's get some basic information about our DEM. We'll use the [`r.info`](https://grass.osgeo.org/grass85/manuals/r.info.html) and [`r.univar`](https://grass.osgeo.org/grass85/manuals/r.univar.html) tools to get the rasters metadata and univariate statistics respectively."
      ]
    },
    {
      "cell_type": "code",
      "execution_count": null,
      "metadata": {
        "id": "-LVtL1ARn1fp"
      },
      "outputs": [],
      "source": [
        "print(gs.read_command(\"r.info\", map=\"dem\"))"
      ]
    },
    {
      "cell_type": "markdown",
      "metadata": {
        "id": "OQcUYIEwPHE8"
      },
      "source": [
        "**Try it yourself!**\n",
        "\n",
        "Using the cell above as a template, compute the univariate statistics using [`r.univar`](https://grass.osgeo.org/grass85/manuals/r.univar.html)."
      ]
    },
    {
      "cell_type": "code",
      "execution_count": null,
      "metadata": {
        "id": "NehlbQUIn1fq"
      },
      "outputs": [],
      "source": []
    },
    {
      "cell_type": "markdown",
      "metadata": {
        "id": "T9aycYpPPeli"
      },
      "source": [
        "<details>\n",
        "    <summary>👉 <b>click to see hint</b></summary>\n",
        "  \n",
        "Run `!r.univar --help` to see the paramters.\n",
        "</details>\n"
      ]
    },
    {
      "cell_type": "markdown",
      "metadata": {
        "id": "rr4UGMhGPc-D"
      },
      "source": [
        "<details>\n",
        "    <summary>👉 <b>click to see solution</b></summary>\n",
        "    \n",
        "```python\n",
        "print(gs.read_command(\"r.univar\", map=\"dem\", flags=\"e\"))\n",
        "```\n",
        "</details>\n"
      ]
    },
    {
      "cell_type": "markdown",
      "source": [
        "Now let's look at our imported DEM using the grass.jupyter Map module."
      ],
      "metadata": {
        "id": "oo8bW68s9VC8"
      }
    },
    {
      "cell_type": "code",
      "execution_count": null,
      "metadata": {
        "id": "EXU8qNPNu-st"
      },
      "outputs": [],
      "source": [
        "m = gj.Map(use_region=True, height=500, width=800) # Create a map\n",
        "m.d_rast(map=\"dem\") # Add a raster\n",
        "m.d_legend(raster=\"dem\", flags=\"bds\", font=\"Fira Sans:Regular\", at=\"10,60,90,93\", fontsize=16) # Add a raster legend\n",
        "m.d_barscale(at=\"59,6\", fontsize=16, font=\"Fira Sans:Regular\", flags=\"n\") # Add a barscale\n",
        "m.show()"
      ]
    },
    {
      "cell_type": "markdown",
      "source": [
        "We can change the color palette of the DEM using the [r.colors](https://grass.osgeo.org/grass-devel/manuals/r.colors.html) command."
      ],
      "metadata": {
        "id": "PP5vf-yL-B5d"
      }
    },
    {
      "cell_type": "code",
      "source": [
        "gs.run_command(\"r.colors\", map=\"dem\", color=\"elevation\")"
      ],
      "metadata": {
        "id": "fiTj70uW-gLx"
      },
      "execution_count": null,
      "outputs": []
    },
    {
      "cell_type": "markdown",
      "metadata": {
        "id": "r4SCxsdtQYR5"
      },
      "source": [
        "Compute some other common DEM derivatives: shaded relief, slope and aspect."
      ]
    },
    {
      "cell_type": "code",
      "execution_count": null,
      "metadata": {
        "id": "91oAMm7NQiXv"
      },
      "outputs": [],
      "source": [
        "gs.run_command(\"r.relief\", input=\"dem\", output=\"relief\", scale=1, zscale=1)"
      ]
    },
    {
      "cell_type": "code",
      "execution_count": null,
      "metadata": {
        "id": "Vmr5JgYJn1fr"
      },
      "outputs": [],
      "source": [
        "m = gj.Map(use_region=True, height=500, width=800)\n",
        "m.d_shade(shade=\"relief\", color=\"dem\", brighten=30)\n",
        "m.d_legend(raster=\"dem\", flags=\"bds\", font=\"Fira Sans:Regular\", at=\"10,60,90,93\", fontsize=16) # Add a raster legend\n",
        "m.d_barscale(at=\"59,6\", fontsize=16, font=\"Fira Sans:Regular\", flags=\"n\") # Add a barscale\n",
        "m.show()"
      ]
    },
    {
      "cell_type": "markdown",
      "metadata": {
        "id": "Y4m0lQgTfahF"
      },
      "source": [
        "**Try it yourself!**\n",
        "\n",
        "Compute and display the slope and aspect using [`r.slope.aspect`](https://grass.osgeo.org/grass85/manuals/r.slope.aspect.html). Try changing the color map for the slope raster using [`r.colors`](https://grass.osgeo.org/grass85/manuals/r.colors.html). _Bonus Challenge_: Can you add a legend to your visualization with a histogram showing the range of slope values?"
      ]
    },
    {
      "cell_type": "code",
      "execution_count": null,
      "metadata": {
        "id": "nssi0LPJfahF"
      },
      "outputs": [],
      "source": []
    },
    {
      "cell_type": "markdown",
      "metadata": {
        "id": "66wzczF0fahG"
      },
      "source": [
        "<details>\n",
        "    <summary>👉 <b>click to see hint</b></summary>\n",
        "  \n",
        "Looking at the manual for r.slope.aspect, your code should be formatted like:\n",
        "\n",
        "```python\n",
        "gs.run_command(\"r.slope.aspect\", elevation=.., slope=.., aspect=..)\n",
        "```\n",
        "\n",
        "To get the legend and histogram, look at the flag options in `d.legend`. Remember that `d.legend` can be called by `grass.jupyter.Map()` with `m.d_legend()`. See above for examples.\n",
        "\n",
        "</details>\n"
      ]
    },
    {
      "cell_type": "markdown",
      "metadata": {
        "id": "JAeylwa9fahG"
      },
      "source": [
        "<details>\n",
        "    <summary>👉 <b>click to see solution</b></summary>\n",
        "    \n",
        "```python\n",
        "gs.run_command(\"r.slope.aspect\", elevation=\"dem\", slope=\"slope\", aspect=\"aspect\")\n",
        "\n",
        "gs.run_command(\"r.colors\", map=\"slope\", color=\"sepia\", flags=\"e\")\n",
        "\n",
        "m = gj.Map(use_region=True)\n",
        "m.d_rast(map=\"slope\")\n",
        "m.d_legend(raster=\"slope\", flags=\"bds\")\n",
        "m.show()\n",
        "```\n",
        "\n",
        "And for aspect:\n",
        "\n",
        "```python\n",
        "m = gj.Map(use_region=True)\n",
        "m.d_rast(map=\"aspect\")\n",
        "m.d_legend(raster=\"aspect\", flags=\"bds\")\n",
        "m.show()\n",
        "```\n",
        "</details>\n"
      ]
    },
    {
      "cell_type": "markdown",
      "metadata": {
        "id": "MLHG6TQnu-st"
      },
      "source": [
        "Since we're going to interpolate surfaces from points, we'll randomly sample points from the DEM. We could think of these as LiDAR points or ground sampled points."
      ]
    },
    {
      "cell_type": "code",
      "execution_count": null,
      "metadata": {
        "id": "zNtDGNbYu-su"
      },
      "outputs": [],
      "source": [
        "gs.run_command(\"r.random\", input=\"dem\", vector=\"elev_points\", n=500, flags=\"sz\")"
      ]
    },
    {
      "cell_type": "markdown",
      "metadata": {
        "id": "5BZm3M8aNDM8"
      },
      "source": [
        "Now, visualize the points."
      ]
    },
    {
      "cell_type": "code",
      "execution_count": null,
      "metadata": {
        "id": "xnE1q0GZGMK_"
      },
      "outputs": [],
      "source": [
        "m = gj.Map(use_region=True, height=500, width=800)\n",
        "m.d_shade(shade=\"relief\", color=\"dem\", brighten=30)\n",
        "m.d_vect(map=\"elev_points\", color=\"red\", fillcolor=\"red\", icon=\"basic/point\")\n",
        "m.d_legend(raster=\"dem\", flags=\"bds\", font=\"Fira Sans:Regular\", at=\"10,60,90,93\", fontsize=16)\n",
        "m.d_barscale(at=\"59,6\", fontsize=16, font=\"Fira Sans:Regular\", flags=\"n\")\n",
        "m.show()"
      ]
    },
    {
      "cell_type": "markdown",
      "metadata": {
        "id": "kxovvoKNu-su"
      },
      "source": [
        "<a name=\"R\"></a>\n",
        "\n",
        "---\n",
        "\n",
        "## Conditional Gaussian Simulations in R\n",
        "\n",
        "To do our Conditional Gaussian simulations, we'll move to R. We're going to use the `rgrass` library to read and write data to/from GRASS and we'll use `gstat` to do simulate 100 DEMs."
      ]
    },
    {
      "cell_type": "markdown",
      "metadata": {
        "id": "FGZHJwtiCPGL"
      },
      "source": [
        "**Install and Import R LIbraries**\n",
        "\n",
        "First, load the rpy2 extension. rpy2 is an interface to R running embedded in a Python process allowing up to continue operating in our current Python session but cells in R. Fancy! This is only necessary here because we're using R from within our Python process. Check out [here](https://grass-tutorials.osgeo.org//content/tutorials/get_started/fast_track_grass_and_R.html) for an introduction for GRASS in R."
      ]
    },
    {
      "cell_type": "code",
      "execution_count": null,
      "metadata": {
        "id": "PqBHxSwJrtbQ"
      },
      "outputs": [],
      "source": [
        "%load_ext rpy2.ipython"
      ]
    },
    {
      "cell_type": "markdown",
      "metadata": {
        "id": "aIEAQFhar2PB"
      },
      "source": [
        "Now, we can use the %%R cell magic. When this cell is interpreted, it's contents will be sent to R. We could also use line magic now with %R which would only send the line to R."
      ]
    },
    {
      "cell_type": "code",
      "execution_count": null,
      "metadata": {
        "id": "OFi7JNApMZwj"
      },
      "outputs": [],
      "source": [
        "%%R\n",
        "system(\"apt-get install r-cran-sf r-cran-rgrass r-cran-gstat r-cran-terra r-cran-devtools r-cran-irkernel\")"
      ]
    },
    {
      "cell_type": "markdown",
      "metadata": {
        "id": "mr6_Azbgz1qj"
      },
      "source": [
        "Load other libraries."
      ]
    },
    {
      "cell_type": "code",
      "execution_count": null,
      "metadata": {
        "id": "42WO1kDLu-sv"
      },
      "outputs": [],
      "source": [
        "%%R\n",
        "library(sf)\n",
        "library(gstat)\n",
        "library(terra)\n",
        "library(rgrass)"
      ]
    },
    {
      "cell_type": "markdown",
      "metadata": {
        "id": "xIHt2cUUz5uV"
      },
      "source": [
        "**Create Empirical (sample) Variogram**\n",
        "\n",
        "Use readVECT from rgrass to turn the random elevation points into a [SpatVector](https://rdrr.io/cran/terra/man/SpatVector-class.html), the terra vector class."
      ]
    },
    {
      "cell_type": "code",
      "execution_count": null,
      "metadata": {
        "id": "T3h2tF_Cu-sv"
      },
      "outputs": [],
      "source": [
        "%%R\n",
        "elev_points <- rgrass::read_VECT(\"elev_points\")"
      ]
    },
    {
      "cell_type": "code",
      "execution_count": null,
      "metadata": {
        "id": "aXQ2AkDyKOnt"
      },
      "outputs": [],
      "source": [
        "%%R\n",
        "head(elev_points)"
      ]
    },
    {
      "cell_type": "markdown",
      "metadata": {
        "id": "pnWeguQXXSII"
      },
      "source": [
        "Compute the cutoff and width of the empirical variogram by using the maximum distance between two points."
      ]
    },
    {
      "cell_type": "code",
      "execution_count": null,
      "metadata": {
        "id": "iQO3dLxvn1f4"
      },
      "outputs": [],
      "source": [
        "%%R\n",
        "\n",
        "coords <- terra::geom(elev_points)[, c(\"x\", \"y\")]\n",
        "dists <- as.matrix(dist(coords))\n",
        "max_dist <- max(dists)\n",
        "\n",
        "\n",
        "# By default, gstat uses a cutoff of \"the length of the diagonal of the box spanning the data is divided by three.\"\n",
        "# Try increasing this to 0.6 or 0.7:\n",
        "cutoff <- 0.5 * max_dist #<--Modify this coefficient\n",
        "\n",
        "width <- cutoff / 20\n",
        "print(paste(\"Using cutoff:\", cutoff, \"and width:\", width))"
      ]
    },
    {
      "cell_type": "markdown",
      "metadata": {
        "id": "wPDuCS0bXv-N"
      },
      "source": [
        "With the width and cutoff, we can computate the variogram. First, convert to random sample points to an `sf` dataframe since that is the input format for `gstat`."
      ]
    },
    {
      "cell_type": "code",
      "execution_count": null,
      "metadata": {
        "id": "4Ql5UOy0Qo4G"
      },
      "outputs": [],
      "source": [
        "%%R\n",
        "elev_df <- terra::as.data.frame(elev_points, geom = \"XY\")\n",
        "g <- gstat::gstat(formula = value ~ x + y, locations = ~x + y, data = elev_df)\n",
        "vg <- gstat::variogram(g, cutoff=cutoff, width=width)\n",
        "\n",
        "\n",
        "plot(vg, main = \"Empirical Variogram of Elevation Points\")"
      ]
    },
    {
      "cell_type": "markdown",
      "metadata": {
        "id": "_dX7MXG2YF-h"
      },
      "source": [
        "Now, we're going to fit a Matern Covariance function to the empirical variogram. First, we'll fit Kappa using `cgSim` library that Dr. Corey White has been working on. We pass the empirical variogram as the input."
      ]
    },
    {
      "cell_type": "code",
      "execution_count": null,
      "metadata": {
        "id": "mEZu6Vxhn1f5"
      },
      "outputs": [],
      "source": [
        "%%R\n",
        "#' @title Optimize kappa for a Matérn variogram\n",
        "#' @description Uses WLS to fit variograms for different kappa and finds the best one.\n",
        "#' @param vg A gstat variogram object (from gstat::variogram)\n",
        "#' @param kappa_range Numeric vector of length 2, bounds for optimization (e.g., c(0.1, 5))\n",
        "#' @return A list with best fitted model and selected kappa\n",
        "#' @importFrom gstat vgm fit.variogram\n",
        "#' @export\n",
        "optimize_kappa <- function(vg, kappa_range = c(0.1, 5)) {\n",
        "    f <- function(x) {\n",
        "        tryCatch(\n",
        "            {\n",
        "                vfit <- gstat::fit.variogram(vg, model = gstat::vgm(model = \"Mat\", nugget = NA, kappa = x))\n",
        "                attr(vfit, \"SSErr\")\n",
        "            },\n",
        "            error = function(e) Inf\n",
        "        )\n",
        "    }\n",
        "    result <- optimize(f, kappa_range)\n",
        "    best_kappa <- result$minimum\n",
        "    vfit_best <- gstat::fit.variogram(vg, model = gstat::vgm(model = \"Mat\", nugget = NA, kappa = best_kappa))\n",
        "    list(model = vfit_best, kappa = best_kappa, SSErr = result$objective)\n",
        "}\n",
        "# Fit kappa\n",
        "fit_kappa <- optimize_kappa(vg)"
      ]
    },
    {
      "cell_type": "code",
      "execution_count": null,
      "metadata": {
        "id": "OyBTxBNrn1f5"
      },
      "outputs": [],
      "source": [
        "%%R\n",
        "plot(vg, model = fit_kappa$model, main = \"Empirical Variogram of Elevation Points\")"
      ]
    },
    {
      "cell_type": "markdown",
      "metadata": {
        "id": "xGyPUaLoZw6N"
      },
      "source": [
        "Let's see some information about our fitted variogram:"
      ]
    },
    {
      "cell_type": "code",
      "execution_count": null,
      "metadata": {
        "id": "Df4_9Pwln1f6"
      },
      "outputs": [],
      "source": [
        "%%R\n",
        "head(fit_kappa)"
      ]
    },
    {
      "cell_type": "markdown",
      "metadata": {
        "id": "l6qziZeAZ974"
      },
      "source": [
        "Time to interpolate our DEMs using the fitted variogram. We will only do 10 simulations since the process is computationally intensive but in the GitHub repo, we've included a set of 90 pre-computed simulations that we'll import after this for computed extracted stream uncertainty.\n",
        "\n",
        "Create a 10m resolution grid for prediction:\n",
        "\n",
        "TODO: Can it be less than 10m so that it runs faster? What about 30m?"
      ]
    },
    {
      "cell_type": "code",
      "execution_count": null,
      "metadata": {
        "id": "ZorLUqPmn1f7"
      },
      "outputs": [],
      "source": [
        "%%R\n",
        "dem_rast= rgrass::read_RAST(\"dem\")\n",
        "grid_ext <- terra::ext(dem_rast)\n",
        "grid_res <- 10\n",
        "\n",
        "xy <- expand.grid(\n",
        "  x = seq(grid_ext[1], grid_ext[2], by = grid_res),\n",
        "  y = seq(grid_ext[3], grid_ext[4], by = grid_res)\n",
        ")"
      ]
    },
    {
      "cell_type": "markdown",
      "metadata": {
        "id": "FZmQWghJbp0I"
      },
      "source": [
        "Run 2 stochastic conditional gaussian simulations, creating 10 DEMs using `gstat::krige`."
      ]
    },
    {
      "cell_type": "code",
      "execution_count": null,
      "metadata": {
        "id": "FlFkV4UbOFsa"
      },
      "outputs": [],
      "source": [
        "%%R\n",
        "N.sim <- 12"
      ]
    },
    {
      "cell_type": "code",
      "execution_count": null,
      "metadata": {
        "id": "dVYWK-mPa7HB"
      },
      "outputs": [],
      "source": [
        "%%R\n",
        "sims <- gstat::krige(\n",
        "  formula = value ~ x + y,\n",
        "  locations = ~ x + y,\n",
        "  data = elev_df,\n",
        "  newdata = xy,\n",
        "  model = fit_kappa$model,\n",
        "  nsim = N.sim,\n",
        "  nmax = 40,\n",
        "  maxdist = 500,\n",
        "  debug.level = -1\n",
        ")"
      ]
    },
    {
      "cell_type": "code",
      "execution_count": null,
      "metadata": {
        "id": "YHijZ8wCLp-v"
      },
      "outputs": [],
      "source": [
        "%%R\n",
        "sim_rast <- terra::rast(sims, crs = terra::crs(dem_rast))\n",
        "terra::plot(sim_rast)"
      ]
    },
    {
      "cell_type": "code",
      "execution_count": null,
      "metadata": {
        "id": "OjYXrDT8NrLq"
      },
      "outputs": [],
      "source": [
        "%%R\n",
        "for (i in 1:N.sim) {\n",
        "    rgrass::write_RAST(sim_rast[[i]], paste0(\"sim_\", i))\n",
        "}"
      ]
    },
    {
      "cell_type": "markdown",
      "metadata": {
        "id": "16a-zup9c8fy"
      },
      "source": [
        "The `run_sim` function writes these rasters into GRASS. Use the GRASS R API to list the simulated rasters:"
      ]
    },
    {
      "cell_type": "code",
      "execution_count": null,
      "metadata": {
        "id": "9SPkXEUGc79C"
      },
      "outputs": [],
      "source": [
        "%%R\n",
        "execGRASS(\"g.list\", type=\"raster\", pattern=\"sim_*\")"
      ]
    },
    {
      "cell_type": "markdown",
      "metadata": {
        "id": "lKimq4hCIGdp"
      },
      "source": [
        "Calculate the mean and standard deviation of the simulatate surfaces"
      ]
    },
    {
      "cell_type": "code",
      "execution_count": null,
      "metadata": {
        "id": "fdll8cu0IFYd"
      },
      "outputs": [],
      "source": [
        "%%R\n",
        "execGRASS(\"g.list\", type=\"raster\", pattern=\"sim_*\", output=\"tmp_list_simulated.txt\")\n",
        "execGRASS(\"r.series\", file=\"tmp_list_simulated.txt\", output=\"simulated_mean\", method=\"average\")\n",
        "execGRASS(\"r.series\", file=\"tmp_list_simulated.txt\", output=\"simulated_std\", method=\"stddev\")"
      ]
    },
    {
      "cell_type": "code",
      "execution_count": null,
      "metadata": {
        "id": "5L8IwhzDn1f_"
      },
      "outputs": [],
      "source": [
        "m = gj.Map(use_region=True)\n",
        "gs.run_command(\"r.colors\", map=\"simulated_mean\", color=\"elevation\")\n",
        "m.d_rast(map=\"simulated_mean\")\n",
        "m.d_legend(raster=\"dem\", flags=\"bds\", font=\"Fira Sans:Regular\", at=\"10,60,88,91\", fontsize=16)\n",
        "m.d_barscale(at=\"49,6\", fontsize=16, font=\"Fira Sans:Regular\", flags=\"n\")\n",
        "m.show()"
      ]
    },
    {
      "cell_type": "code",
      "execution_count": null,
      "metadata": {
        "id": "VKG72gvin1f_"
      },
      "outputs": [],
      "source": [
        "m = gj.Map(use_region=True)\n",
        "gs.run_command(\"r.colors\", map=\"simulated_std\", color=\"bcyr\", flags=\"e\")\n",
        "m.d_rast(map=\"simulated_std\")\n",
        "m.d_legend(raster=\"simulated_std\", flags=\"bds\", font=\"Fira Sans:Regular\", at=\"10,60,88,91\", fontsize=16)\n",
        "m.d_barscale(at=\"49,6\", fontsize=16, font=\"Fira Sans:Regular\", flags=\"n\")\n",
        "m.show()"
      ]
    },
    {
      "cell_type": "markdown",
      "metadata": {
        "id": "TBLhKA6Kdvm1"
      },
      "source": [
        "<a name=\"uncert\"></a>\n",
        "\n",
        "---\n",
        "\n",
        "## Extract Streams and Compute Uncertainty"
      ]
    },
    {
      "cell_type": "markdown",
      "metadata": {
        "id": "NI-Rq9NJIN_z"
      },
      "source": [
        "**Generate streams for each DEM**\n",
        "\n",
        "For this, we will use the [`r.watershed`](https://grass.osgeo.org/grass-devel/manuals/r.watershed.html) tool with a threshold of 10,000 (i.e. a cells with a flow accumulation above 10,000 will be classified as a stream)."
      ]
    },
    {
      "cell_type": "code",
      "execution_count": null,
      "metadata": {
        "id": "DPYQ9uu1IQT2"
      },
      "outputs": [],
      "source": [
        "%%R\n",
        "N.sim <- 10\n",
        "for(i in 1:N.sim) {execGRASS(\"r.watershed\", elevation=paste(\"sim_\", i, sep=\"\"),\n",
        " threshold=1000, stream=paste(\"stream_\", i, sep=\"\"), flags=c(\"quiet\"))}"
      ]
    },
    {
      "cell_type": "markdown",
      "metadata": {
        "id": "VB6VYUpuIV-6"
      },
      "source": [
        "**Calculate the probablity and error**\n"
      ]
    },
    {
      "cell_type": "markdown",
      "metadata": {
        "id": "swRQQpfx8OjT"
      },
      "source": [
        "First, count the number of times a cell was predicted to be a stream:"
      ]
    },
    {
      "cell_type": "code",
      "execution_count": null,
      "metadata": {
        "id": "OVgG8wkl8M84"
      },
      "outputs": [],
      "source": [
        "%%R\n",
        "execGRASS(\"g.list\", type=\"raster\", pattern=\"stream*\", output=\"tmp_list_stream.txt\")\n",
        "execGRASS(\"r.series\", file=\"tmp_list_stream.txt\", output=\"count\", method=\"count\")"
      ]
    },
    {
      "cell_type": "markdown",
      "metadata": {
        "id": "215SKFBd8Jo2"
      },
      "source": [
        "Then, convert to probability by dividing the number of simulations:"
      ]
    },
    {
      "cell_type": "code",
      "execution_count": null,
      "metadata": {
        "id": "QvThO0aC7ugM"
      },
      "outputs": [],
      "source": [
        "%%R\n",
        "execGRASS(\"r.mapcalc\", expression=paste(\"prob = float(count)/\", N.sim))"
      ]
    },
    {
      "cell_type": "markdown",
      "metadata": {
        "id": "d1Xssg5L7tRI"
      },
      "source": [
        "Following Hengl et al. [(2010)](https://hess.copernicus.org/articles/14/1153/2010/), we use measure the error ($H(s)$) using the Shannon Entropy [(Shannon, 1949)](https://ieeexplore.ieee.org/abstract/document/6773024):\n",
        "\n",
        "$$\n",
        "H(s) = −p(s) * log(p(s)) -[1 − p(s)] * log(1 - p(s))\n",
        "$$\n",
        "\n",
        "where $p$ is the probability a given cell, $s$, is a stream."
      ]
    },
    {
      "cell_type": "code",
      "execution_count": null,
      "metadata": {
        "id": "1GvOmdaGGRRn"
      },
      "outputs": [],
      "source": [
        "%%R\n",
        "execGRASS(\"r.mapcalc\", expression=\"error = -prob * log(prob) - (1-prob)* log(1-prob)\")"
      ]
    },
    {
      "cell_type": "markdown",
      "metadata": {
        "id": "JTgAB246eg_W"
      },
      "source": [
        "Now, visulalize the results. First, the probability that a cell contains a stream:"
      ]
    },
    {
      "cell_type": "code",
      "execution_count": null,
      "metadata": {
        "id": "fJ8ot5goegCU"
      },
      "outputs": [],
      "source": [
        "m = gj.Map()\n",
        "gs.run_command(\"r.colors\", map=\"prob\", color=\"magma\", flags=\"\")\n",
        "m.d_shade(shade=\"relief\", color=\"prob\", brighten=30)\n",
        "m.d_legend(raster=\"prob\", flags=\"bds\", font=\"Fira Sans:Regular\", at=\"7.5,11,10,40\", fontsize=16)\n",
        "m.d_barscale(at=\"49,7\", fontsize=16, font=\"Fira Sans:Regular\", flags=\"n\")\n",
        "m.show()"
      ]
    },
    {
      "cell_type": "markdown",
      "metadata": {
        "id": "pPetnn3AfIO0"
      },
      "source": [
        "And next, the uncertainty:"
      ]
    },
    {
      "cell_type": "code",
      "execution_count": null,
      "metadata": {
        "id": "Pbel1oV9e9tz"
      },
      "outputs": [],
      "source": [
        "m =gj.Map()\n",
        "gs.run_command(\"r.colors\", map=\"error\", color=\"magma\", flags=\"\")\n",
        "m.d_shade(shade=\"relief\", color=\"error\", brighten=30)\n",
        "m.d_legend(raster=\"error\", flags=\"bds\", font=\"Fira Sans:Regular\", at=\"7.5,11,10,40\", fontsize=16)\n",
        "m.d_barscale(at=\"49,7\", fontsize=16, font=\"Fira Sans:Regular\", flags=\"n\")\n",
        "m.show()"
      ]
    },
    {
      "cell_type": "markdown",
      "metadata": {
        "id": "kGn1MGGHCb1A"
      },
      "source": [
        "---\n",
        "\n",
        "### Exercise\n",
        "\n",
        "Compare the output with a surface computed with a regularized spline with tension [`v.surf.rst`](https://grass.osgeo.org/grass-devel/manuals/v.surf.rst.html). Experiment with changing the tension and smoothing parameters."
      ]
    },
    {
      "cell_type": "code",
      "execution_count": null,
      "metadata": {
        "id": "JiktgsY7C796"
      },
      "outputs": [],
      "source": []
    },
    {
      "cell_type": "markdown",
      "metadata": {
        "id": "qWURHuWp_LQF"
      },
      "source": [
        "---\n",
        "\n",
        "### Publication Quality Figures with grass.jupyter\n",
        "\n",
        "In this section, we show some of the features of grass.jupyter.Map() and some tricks for making nice, publication quality figures."
      ]
    },
    {
      "cell_type": "code",
      "execution_count": null,
      "metadata": {
        "id": "A4OaRlLc_RJT"
      },
      "outputs": [],
      "source": [
        "m =gj.Map()\n",
        "m.d_rast(map=\"dem\")\n",
        "m.show()"
      ]
    },
    {
      "cell_type": "markdown",
      "metadata": {
        "id": "5FhUD3RIVAmM"
      },
      "source": [
        "Any tool from the [display family](https://grass.osgeo.org/grass-devel/manuals/display.html) can be used with Map objects by calling the tool as a method and replacing \".\" with \"_\". For example, the following code calls [`d.shade`](https://grass.osgeo.org/grass-devel/manuals/d.shade.html) and [`d.barscale`](https://grass.osgeo.org/grass-devel/manuals/d.barscale.html)."
      ]
    },
    {
      "cell_type": "code",
      "execution_count": null,
      "metadata": {
        "id": "w9MAjo9yERYq"
      },
      "outputs": [],
      "source": [
        "m = gj.Map(use_region=True)\n",
        "m.d_shade(shade=\"relief\", color=\"dem\", brighten=30)\n",
        "m.d_barscale(at=\"75,8\", length=100, fontsize=16, style=\"line\", flags=\"n\", color=\"white\", bgcolor=\"none\")\n",
        "m.show()"
      ]
    },
    {
      "cell_type": "markdown",
      "metadata": {
        "id": "6KNQBvnoFrDG"
      },
      "source": [
        "**Raster Colors**\n",
        "\n",
        "Raster colortables are handled by the [`r.colors`](https://grass.osgeo.org/grass-devel/manuals/r.colors.html) tool. There are many pre-determined colortables and you can also define your own with rules."
      ]
    },
    {
      "cell_type": "code",
      "execution_count": null,
      "metadata": {
        "id": "8R4x3HgxFgua"
      },
      "outputs": [],
      "source": [
        "gs.run_command(\"r.colors\", map=\"dem\", color=\"elevation\")"
      ]
    },
    {
      "cell_type": "code",
      "execution_count": null,
      "metadata": {
        "id": "THtjWYUUGXMR"
      },
      "outputs": [],
      "source": [
        "m = gj.Map(use_region=True)\n",
        "m.d_shade(shade=\"relief\", color=\"dem\", brighten=30)\n",
        "m.d_barscale(at=\"75,8\", length=100, fontsize=16, style=\"line\", flags=\"n\", color=\"white\", bgcolor=\"none\")\n",
        "m.show()"
      ]
    },
    {
      "cell_type": "markdown",
      "metadata": {
        "id": "KdgyEwFhV1fP"
      },
      "source": [
        "We can also use the [`r.colors.matplotlib`](https://grass.osgeo.org/grass-devel/manuals/addons/r.colors.matplotlib.html) to use colors from the matplotlib colormap [library](https://matplotlib.org/stable/users/explain/colors/colormaps.html)"
      ]
    },
    {
      "cell_type": "code",
      "execution_count": null,
      "metadata": {
        "id": "UzhPjq-DHiKF"
      },
      "outputs": [],
      "source": [
        "gs.run_command(\"g.extension\", extension=\"r.colors.matplotlib\")"
      ]
    },
    {
      "cell_type": "code",
      "execution_count": null,
      "metadata": {
        "id": "d5thoknLH2a9"
      },
      "outputs": [],
      "source": [
        "gs.run_command(\"r.colors.matplotlib\", color=\"terrain\", map=\"dem\")"
      ]
    },
    {
      "cell_type": "markdown",
      "metadata": {
        "id": "1JF-PjVbKuRm"
      },
      "source": [
        "**Vector Styling**"
      ]
    },
    {
      "cell_type": "code",
      "execution_count": null,
      "metadata": {
        "id": "6dhtwnX_Otvg"
      },
      "outputs": [],
      "source": [
        "vmap = gj.Map(use_region=True)\n",
        "vmap.d_rast(map=\"relief\")\n",
        "vmap.d_vect(map=\"elev_points\", zcolor=\"elevation\", icon=\"basic/circle\", size=12)\n",
        "vmap.show()"
      ]
    },
    {
      "cell_type": "code",
      "execution_count": null,
      "metadata": {
        "id": "-7glzv1sK7W7"
      },
      "outputs": [],
      "source": [
        "vmap = gj.Map(use_region=True, width=900, height=400)\n",
        "vmap.d_rast(map=\"relief\")\n",
        "vmap.d_vect_thematic(\n",
        "    map=\"elev_points\",\n",
        "    column=\"value\",\n",
        "    algorithm=\"int\",\n",
        "    nclasses=5,\n",
        "    color=\"0:195:176,39:255:0,251:253:0,242:127:11,193:126:60\",\n",
        "    icon=\"basic/circle\",\n",
        "    size=12,\n",
        "    legend_title=\"Elevation at Point\")\n",
        "vmap.d_legend_vect(flags=\"b\", at=\"2,28\", symbol_size=12, border_color=\"none\")\n",
        "vmap.show()"
      ]
    },
    {
      "cell_type": "markdown",
      "metadata": {
        "id": "zWfICq2RHIMB"
      },
      "source": [
        "**Creating Multipane Figures**\n",
        "\n",
        "All grass.jupyter visualization classes have a `save()` method."
      ]
    },
    {
      "cell_type": "code",
      "execution_count": null,
      "metadata": {
        "id": "AazeOpby_sbF"
      },
      "outputs": [],
      "source": [
        "m.save(\"dem.png\")"
      ]
    },
    {
      "cell_type": "markdown",
      "metadata": {
        "id": "46q0UFpjXBQL"
      },
      "source": [
        "\n",
        "Behind the scenes, grass.jupyter.Map() is creating a temporary png image which can also be directly accessed with:"
      ]
    },
    {
      "cell_type": "code",
      "execution_count": null,
      "metadata": {
        "id": "F6V-iopi_xEN"
      },
      "outputs": [],
      "source": [
        "m.filename"
      ]
    },
    {
      "cell_type": "code",
      "execution_count": null,
      "metadata": {
        "id": "eUvflldO_zZZ"
      },
      "outputs": [],
      "source": [
        "from PIL import Image\n",
        "import matplotlib.pyplot as plt\n",
        "\n",
        "plt.imshow(Image.open(m.filename))\n",
        "plt.axis('off')\n",
        "plt.show()"
      ]
    },
    {
      "cell_type": "markdown",
      "metadata": {
        "id": "fQocUM65XK_p"
      },
      "source": [
        "This makes it easy to combine maps created with grass.jupyter.Map() with other elements to create multipane figures. For example, here, we show a two-pane figure with `m` and a seaborn histogram of elevation values. This example also shows how GRASS rasters can be converted to numpy arrays."
      ]
    },
    {
      "cell_type": "code",
      "execution_count": null,
      "metadata": {
        "id": "_hAe0BvxAdhi"
      },
      "outputs": [],
      "source": [
        "import seaborn as sns\n",
        "import grass.script.array as garray\n",
        "\n",
        "# Get GRASS Elevation Raster as np array\n",
        "elev = garray.array(\"dem\").flatten()\n",
        "\n",
        "# Create the multipane figure\n",
        "fig, axes = plt.subplots(1, 2, figsize=(12, 5))\n",
        "\n",
        "# Panel 1: Image\n",
        "axes[0].imshow(Image.open(m.filename))\n",
        "axes[0].axis('off')\n",
        "axes[0].set_title('DEM')\n",
        "\n",
        "# Panel 2: Histogram\n",
        "sns.histplot(elev, bins=50, kde=True, ax=axes[1], color='skyblue')\n",
        "axes[1].set_title('DEM Histogram')\n",
        "axes[1].set_xlabel('Value')\n",
        "axes[1].set_ylabel('Frequency')\n",
        "\n",
        "# Adjust layout and display\n",
        "plt.tight_layout()\n",
        "plt.show()"
      ]
    }
  ],
  "metadata": {
    "colab": {
      "provenance": [],
      "include_colab_link": true
    },
    "kernelspec": {
      "display_name": ".venv",
      "language": "python",
      "name": "python3"
    },
    "language_info": {
      "codemirror_mode": {
        "name": "ipython",
        "version": 3
      },
      "file_extension": ".py",
      "mimetype": "text/x-python",
      "name": "python",
      "nbconvert_exporter": "python",
      "pygments_lexer": "ipython3",
      "version": "3.13.2"
    }
  },
  "nbformat": 4,
  "nbformat_minor": 0
}